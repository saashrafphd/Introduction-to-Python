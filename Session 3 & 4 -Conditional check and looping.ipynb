{
 "cells": [
  {
   "cell_type": "markdown",
   "metadata": {},
   "source": [
    "# Working with <i>if-else</i> Statement"
   ]
  },
  {
   "cell_type": "markdown",
   "metadata": {},
   "source": [
    "## Table of Content"
   ]
  },
  {
   "cell_type": "markdown",
   "metadata": {},
   "source": [
    "<div style=\"margin-top: 20px\">\n",
    "    <ul>\n",
    "        <li><a href=\"#if_else\"> <i>if-else</i> Statement Definition</a>\n",
    "        <li><a href=\"#if\">The <i>if</i> Statement</a></li>\n",
    "        <li><a href=\"#nif_else\">Nested <i>if-else</i> Statement</a></li>\n",
    "        <li><a href=\"#elif\">The <i>elif</i> Clause</a></li>\n",
    "        <li><a href=\"#lab\">Lab Assignment</a></li>\n",
    "    </ul>\n",
    "       \n",
    "</div>"
   ]
  },
  {
   "cell_type": "code",
   "execution_count": 4,
   "metadata": {},
   "outputs": [
    {
     "name": "stdout",
     "output_type": "stream",
     "text": [
      "b is greater than a\n"
     ]
    }
   ],
   "source": [
    "# a simple if statement\n",
    "a = 33\n",
    "b = 200\n",
    "if b > a:\n",
    "  print(\"b is greater than a\")"
   ]
  },
  {
   "cell_type": "markdown",
   "metadata": {},
   "source": [
    "<h3> <i>if-else</i> Statement</h3>\n",
    "<a id = \"if_else\"> </a>\n",
    "\n",
    "<p> The <b><i>if-else</i></b> is a decision structure that allows the program to decide on course of action based on the conditions whcih can be <b>True</b> or <b>False</b>. The general form of a <b><i>if-else</i></b> statement is:</p>\n",
    "\n",
    "<p><b> if <i>condition</i>:</b>\n",
    "<br><b>&nbsp;&nbsp;&nbsp;&nbsp;&nbsp;   <i>indented block of statements</i></b>\n",
    "<br><b>else: </b>    \n",
    "<br><b>&nbsp;&nbsp;&nbsp;&nbsp;&nbsp;   <i>indented block of statements</i></b>\n",
    "<br>\n",
    "</p>\n",
    "\n",
    "<p>where the fisrt <b>indented block</b> is executed when <b><i>condition</i></b> is <b>True</b> and the second <b>indented block</b> is executed when <b><i>condition</i></b> is <b>False</b>.</p>\n"
   ]
  },
  {
   "cell_type": "code",
   "execution_count": 1,
   "metadata": {
    "scrolled": true
   },
   "outputs": [
    {
     "name": "stdin",
     "output_type": "stream",
     "text": [
      "Enter the first number:  76\n",
      "Enter the second number:  54\n"
     ]
    },
    {
     "name": "stdout",
     "output_type": "stream",
     "text": [
      "The large value is : 76.\n"
     ]
    }
   ],
   "source": [
    "# Get the numbers from the user\n",
    "num1 = eval(input(\"Enter the first number: \"))\n",
    "num2 = eval(input(\"Enter the second number: \"))\n",
    "# Determine the larger of two numbers\n",
    "if num1 > num2:\n",
    "    largeValue = num1    # execute if condition is True\n",
    "else:\n",
    "    largeValue = num2    # execute if condition is False\n",
    "print(\"The large value is :\", str(largeValue) + \".\")"
   ]
  },
  {
   "cell_type": "markdown",
   "metadata": {},
   "source": [
    "<h3> <i>if</i> Statement</h3>\n",
    "<a id = \"if\"> </a>\n",
    "\n",
    "<p> The <b><i>else</i></b> part of <b><i>if-else</i></b> statement can be ommitted. Therefore, the indented block is executed if <b><i>condition</i></b> is <b>True</b>, otherwise the program executes the next code line after <b><i>if</i></b> statement.</p>\n",
    "\n",
    "<p><b> if <i>condition</i>:</b>\n",
    "<br><b>&nbsp;&nbsp;&nbsp;&nbsp;&nbsp;   <i>indented block of statements</i></b>\n",
    "<br>\n",
    "</p>"
   ]
  },
  {
   "cell_type": "code",
   "execution_count": 4,
   "metadata": {},
   "outputs": [
    {
     "name": "stdout",
     "output_type": "stream",
     "text": [
      "Enter the first number: 35\n",
      "The number > 5 is : 35\n",
      "The end of program.\n"
     ]
    }
   ],
   "source": [
    "# Get the number from the user\n",
    "num = eval(input(\"Enter the first number: \"))\n",
    "# Print number > 5 \n",
    "if num > 5:\n",
    "    print(\"The number > 5 is :\", str(num))\n",
    "print(\"The end of program.\")"
   ]
  },
  {
   "cell_type": "markdown",
   "metadata": {},
   "source": [
    "<h3> Nested <i>if-else</i> Statement</h3>\n",
    "<a id = \"nif_else\"> </a>\n",
    "\n",
    "<p> The indented block of statements for <b><i>if</i></b> and <b><i>else</i></b> can also containe <b><i>if-else</i></b> statement. In that case we have <b>nested</b> <b><i>if-else</i></b> statement. The general form of nested <b><i>if-else</i></b> statement is:</p>\n",
    "\n",
    "<p><b> if <i>condition</i>:</b>\n",
    "<br><b>&nbsp;&nbsp;&nbsp;&nbsp;&nbsp;   <b> if <i>condition</i>:</b></b>\n",
    "<br><b>&nbsp;&nbsp;&nbsp;&nbsp;&nbsp;&nbsp;&nbsp;&nbsp;&nbsp;&nbsp;  <i>indented block of statements</i></b>\n",
    "<br><b>&nbsp;&nbsp;&nbsp;&nbsp;&nbsp;   <b> else:</b></b>\n",
    "<br><b>&nbsp;&nbsp;&nbsp;&nbsp;&nbsp;&nbsp;&nbsp;&nbsp;&nbsp;&nbsp;   <i>indented block of statements</i></b>\n",
    "<br><b>else: </b>    \n",
    "<br><b>&nbsp;&nbsp;&nbsp;&nbsp;&nbsp;   <b> if <i>condition</i>:</b></b>\n",
    "<br><b>&nbsp;&nbsp;&nbsp;&nbsp;&nbsp;&nbsp;&nbsp;&nbsp;&nbsp;&nbsp;  <i>indented block of statements</i></b>\n",
    "<br><b>&nbsp;&nbsp;&nbsp;&nbsp;&nbsp;   <b> else:</b></b>\n",
    "<br><b>&nbsp;&nbsp;&nbsp;&nbsp;&nbsp;&nbsp;&nbsp;&nbsp;&nbsp;&nbsp;   <i>indented block of statements</i></b>\n",
    "<br>\n",
    "</p>\n"
   ]
  },
  {
   "cell_type": "code",
   "execution_count": 15,
   "metadata": {},
   "outputs": [
    {
     "name": "stdout",
     "output_type": "stream",
     "text": [
      "Enter total cost: 1000\n",
      "Enter total revenue: 2500\n",
      "Profit is $1,500.00.\n"
     ]
    }
   ],
   "source": [
    "# Evaluate profit \n",
    "# Get user inputs\n",
    "costs = eval(input(\"Enter total cost: \"))\n",
    "revenue = eval(input(\"Enter total revenue: \"))\n",
    "# Determine and display profit or loss\n",
    "if costs == revenue:\n",
    "    result = \"Break even.\"\n",
    "else:\n",
    "    if costs < revenue:\n",
    "        profit = revenue - costs\n",
    "        result = \"Profit is ${0:,.2f}.\".format(profit)\n",
    "    else:\n",
    "        loss =  costs - revenue\n",
    "        result = \"Loss is ${0:,.2f}.\".format(loss)\n",
    "print(result)"
   ]
  },
  {
   "cell_type": "markdown",
   "metadata": {},
   "source": [
    "<h3> The <i>elif</i> Clause</h3>\n",
    "<a id = \"elif\"> </a>\n",
    "\n",
    "<p> The <b><i>if-else</i></b> statement provide two choices to follow. The number of choices can be extended to many ones with help of the <b><i>elif</i></b> clause (<b><i>elif</i></b> is an abbreviation fro \"else if\"). The general form of <b><i>elif</i></b> clause is:</p>\n",
    "\n",
    "<p><b> if <i>condition1</i>:</b>\n",
    "<br><b>&nbsp;&nbsp;&nbsp;&nbsp;&nbsp;   <i>indented block of statements to execute if condition1 is True</i></b>\n",
    "<br><b>elif <i>condition2</i>: </b>    \n",
    "<br><b>&nbsp;&nbsp;&nbsp;&nbsp;&nbsp;   <i>indented block of statements to execute if condition2 is True</i></b>\n",
    "<br><b>&nbsp;&nbsp;&nbsp;&nbsp;&nbsp;   <i>AND condition1 is not True</i></b>\n",
    "<br><b>elif <i>condition3</i>: </b>    \n",
    "<br><b>&nbsp;&nbsp;&nbsp;&nbsp;&nbsp;   <i>indented block of statements to execute if condition3 is True</i></b>\n",
    "<br><b>&nbsp;&nbsp;&nbsp;&nbsp;&nbsp;   <i>AND condition1 AND condition2 are not True</i></b>\n",
    "<br><b>else: </b>    \n",
    "<br><b>&nbsp;&nbsp;&nbsp;&nbsp;&nbsp;   <i>indented block of statements to execute if none of the above</i></b>\n",
    "<br><b>&nbsp;&nbsp;&nbsp;&nbsp;&nbsp;   <i>conditions are True</i></b>\n",
    "<br>\n",
    "</p>\n",
    "\n",
    "<p> There can be any number of <b><i>elif</i></b> clause and <b><i>else</i></b> clause is optional.\n",
    "</p>"
   ]
  },
  {
   "cell_type": "code",
   "execution_count": 3,
   "metadata": {
    "scrolled": true
   },
   "outputs": [
    {
     "name": "stdout",
     "output_type": "stream",
     "text": [
      "Enter a number from the menu to obtaine a fact\n",
      "about India or to exit the program.\n",
      "\n",
      "1. Capital\n",
      "2. National Bird\n",
      "3. Natinal Flower\n"
     ]
    },
    {
     "name": "stdin",
     "output_type": "stream",
     "text": [
      "Make selecton from the menu: 1\n"
     ]
    },
    {
     "name": "stdout",
     "output_type": "stream",
     "text": [
      "Delhi is the capital of India\n"
     ]
    }
   ],
   "source": [
    "## Display facts about US\n",
    "print(\"Enter a number from the menu to obtaine a fact\")\n",
    "print(\"about India or to exit the program.\\n\")\n",
    "print(\"1. Capital\")\n",
    "print(\"2. National Bird\")\n",
    "print(\"3. Natinal Flower\")\n",
    "num = int(input(\"Make selecton from the menu:\"))\n",
    "if num == 1:\n",
    "    print(\"Delhi is the capital of India\")\n",
    "elif num == 2:\n",
    "    print(\"The peacock\")\n",
    "elif num == 3:\n",
    "    print(\"The Lotus\")\n",
    "else:\n",
    "    print(\"The end of program\")"
   ]
  },
  {
   "cell_type": "code",
   "execution_count": 22,
   "metadata": {},
   "outputs": [
    {
     "name": "stdout",
     "output_type": "stream",
     "text": [
      "Enter fisrt number: one\n",
      "Enter second number: 2\n",
      "The first entry was not a proper number.\n"
     ]
    }
   ],
   "source": [
    "# Input validation with if-elif-else Statement\n",
    "# When youexpect to to work with the numbers in your program based from user input\n",
    "# then isdigit method would be agreat help \n",
    "\n",
    "## Request teo numbers and find their sum with validation of the inputs\n",
    "num1 = input(\"Enter fisrt number: \")\n",
    "num2 = input(\"Enter second number: \")\n",
    "# Display the sum if the numbers are valid or inform the user where invalid entries were made\n",
    "if num1.isdigit() and num2.isdigit():\n",
    "    print(\"The sum is \", str(eval(num1) + eval(num1)) + \".\")\n",
    "elif not num1.isdigit():\n",
    "    if not num2.isdigit():\n",
    "        print(\"Neither entry was a proper number.\")\n",
    "    else:\n",
    "        print(\"The first entry was not a proper number.\")\n",
    "else:\n",
    "    print(\"The second entry was not a proper number.\")"
   ]
  },
  {
   "cell_type": "markdown",
   "metadata": {},
   "source": [
    "# Working with <i>while</i> Statement"
   ]
  },
  {
   "cell_type": "markdown",
   "metadata": {},
   "source": [
    "## Table of Content"
   ]
  },
  {
   "cell_type": "markdown",
   "metadata": {},
   "source": [
    "<div style=\"margin-top: 20px\">\n",
    "    <ul>\n",
    "        <li><a href=\"#whileLoop\"> <i>while</i> Loop Definition</a>\n",
    "        <li><a href=\"#break\">The <i>break</i> Statement</a></li>\n",
    "        <li><a href=\"#continue\">The <i>continue</i> Statement</a></li>\n",
    "        <li><a href=\"#menu\">Creating Menue</a></li>\n",
    "        <li><a href=\"#iloop\">Infinite Loops</a></li>\n",
    "    </ul>\n",
    "       \n",
    "</div>"
   ]
  },
  {
   "cell_type": "markdown",
   "metadata": {},
   "source": [
    "<h3> <i>while</i> Loop </h3>\n",
    "<a id = \"whileLoop\"> </a>\n",
    "\n",
    "<p> The <b>while</b> loop is a part of Control Flow structures. It repeatedly execute an indented block of statemnt as long as the defined <i>condition</i> is met. The general form of a while loop is:</p>\n",
    "<p><b> while <i>condition</i>:</b>\n",
    "<br><b>&nbsp;&nbsp;&nbsp;&nbsp;&nbsp;   <i>indented block of statements</i>  </b></p>\n",
    "\n",
    "<p>where <b><i>condition</i></b> is <b> continuation condition</b> of the loop and <b><i>indented block of statements</i>  </b> is called as <b>body</b> of te loop and each executuon of te body is called <b>pass</b> through the loop.</p>\n",
    "<p>The continuation condition is the Boolean expression that takes <b>True</b> or <b>False</b> values. Before the while loop starts, the Python interpreter evaluete the continuation condition and if it is <b>True</b> the loop body is executed. If the continuation condition is <b>False</b> the loop body is not executed and program moves to the next code line. After each loop body execution, the continuation condition is checked again and executed as long as it <b>True</b>. Physical indentation instructs python interpreter where block starts and stops in the <b>while</b> loop.</p>\n"
   ]
  },
  {
   "cell_type": "code",
   "execution_count": 7,
   "metadata": {
    "scrolled": true
   },
   "outputs": [
    {
     "name": "stdout",
     "output_type": "stream",
     "text": [
      "1\n",
      "2\n",
      "3\n",
      "4\n",
      "5\n"
     ]
    }
   ],
   "source": [
    "# Display numbers from 1 to 5\n",
    "num = 1 \n",
    "while num <= 5:\n",
    "    print(num)\n",
    "    num += 1   # increase num value by 1\n",
    "\n",
    "# after the loop executed num = 6 "
   ]
  },
  {
   "cell_type": "code",
   "execution_count": 8,
   "metadata": {},
   "outputs": [
    {
     "name": "stdout",
     "output_type": "stream",
     "text": [
      "Find the min, max, and average of a sequence of numbers.\n",
      "Enter -1 to terminate entering numbers.\n"
     ]
    },
    {
     "name": "stdin",
     "output_type": "stream",
     "text": [
      "Enter a nonnegative number: 22\n",
      "Enter a nonnegative number: 33\n",
      "Enter a nonnegative number: 44\n",
      "Enter a nonnegative number: 55\n",
      "Enter a nonnegative number: -1\n"
     ]
    },
    {
     "name": "stdout",
     "output_type": "stream",
     "text": [
      "Min:  22\n",
      "Max:  22\n",
      "Average:  38.5\n"
     ]
    }
   ],
   "source": [
    "## Find the min, max, and average of a sequence of numbers\n",
    "count = 0 # count of nonnegative numbers inout\n",
    "total = 0 # sum of nonnegative numbers inout\n",
    "# Get the numbers and deterine min, max, and count \n",
    "print(\"Find the min, max, and average of a sequence of numbers.\")\n",
    "print(\"Enter -1 to terminate entering numbers.\")\n",
    "\n",
    "num = eval(input(\"Enter a nonnegative number:\"))\n",
    "min = num\n",
    "max = num\n",
    "while num != -1:\n",
    "    count += 1\n",
    "    total += num\n",
    "    if num < min:\n",
    "        min = num\n",
    "    if num < max:\n",
    "        max = num\n",
    "    num = eval(input(\"Enter a nonnegative number:\"))\n",
    "\n",
    "# Display Result\n",
    "if count > 0:\n",
    "    print(\"Min: \", min)\n",
    "    print(\"Max: \", max)\n",
    "    print(\"Average: \", total/count)\n",
    "else:\n",
    "    print(\"No nonnegative numbers were entered.\")"
   ]
  },
  {
   "cell_type": "markdown",
   "metadata": {},
   "source": [
    "<h3> The <i>break</i> Statement </h3>\n",
    "<a id = \"break\"> </a>\n",
    "\n",
    "<p> The <b>break</b> statement interapts a loop execution from any location inside the loop body. The <b> break </b> statement usually apears inside of <b>if</b> statement of the loop body: </p>"
   ]
  },
  {
   "cell_type": "code",
   "execution_count": 3,
   "metadata": {},
   "outputs": [
    {
     "name": "stdout",
     "output_type": "stream",
     "text": [
      "(Enter - 1 to terminate entering numbers.)\n",
      "(Enter a nonnegative number: )12\n",
      "(Enter a nonnegative number: )123\n",
      "(Enter a nonnegative number: )-1\n",
      "[12, 123]\n"
     ]
    }
   ],
   "source": [
    "# Get the list of numbers\n",
    "list1 = []\n",
    "print(\"(Enter - 1 to terminate entering numbers.)\")\n",
    "while True:\n",
    "    num = eval(input(\"(Enter a nonnegative number: )\"))\n",
    "    if num == -1:\n",
    "        break # Imediatly terminate the loop\n",
    "    list1.append(num)\n",
    "print(list1)"
   ]
  },
  {
   "cell_type": "markdown",
   "metadata": {},
   "source": [
    "<h3> The <i>continue</i> Statement </h3>\n",
    "<a id = \"continue\"> </a>\n",
    "\n",
    "<p> The <b>continue</b> statement interapts a loop execution and returns interpreter to the header of the loop (). The <b> continue </b> statement usually apears inside of <b>if</b> statement of the loop body: </p>"
   ]
  },
  {
   "cell_type": "code",
   "execution_count": 4,
   "metadata": {},
   "outputs": [
    {
     "name": "stdout",
     "output_type": "stream",
     "text": [
      "(Enter - 1 to terminate entering numbers.)\n",
      "(Enter a nonnegative number: )45\n",
      "(Enter a nonnegative number: )13\n",
      "(Enter a nonnegative number: )12\n",
      "(Enter a nonnegative number: )7\n",
      "(Enter a nonnegative number: )95\n",
      "(Enter a nonnegative number: )5\n",
      "(Enter a nonnegative number: )-1\n",
      "[45, 13, 12, 95, 5]\n"
     ]
    }
   ],
   "source": [
    "# Get the list of numbers without 7\n",
    "list1 = []\n",
    "print(\"(Enter - 1 to terminate entering numbers.)\")\n",
    "while True:\n",
    "    num = eval(input(\"(Enter a nonnegative number: )\"))\n",
    "    if num == 7:\n",
    "        continue # Skip number 7 to next statement  \n",
    "    if num == -1:\n",
    "        break # Imediatly terminate the loop\n",
    "    list1.append(num)\n",
    "print(list1)"
   ]
  },
  {
   "cell_type": "markdown",
   "metadata": {},
   "source": [
    "## The <i>else</i> Statement\n",
    "\n",
    "With the <b>else</b> statement we can run a block of code once when the condition no longer is true:"
   ]
  },
  {
   "cell_type": "code",
   "execution_count": 10,
   "metadata": {},
   "outputs": [
    {
     "name": "stdout",
     "output_type": "stream",
     "text": [
      "1\n",
      "2\n",
      "3\n",
      "4\n",
      "5\n",
      "i is no longer less than 6\n"
     ]
    }
   ],
   "source": [
    "i = 1\n",
    "while i < 6:\n",
    "  print(i)\n",
    "  i += 1\n",
    "else:\n",
    "  print(\"i is no longer less than 6\")"
   ]
  },
  {
   "cell_type": "markdown",
   "metadata": {},
   "source": [
    "<h3> Creating Menu</h3>\n",
    "<a id = \"menu\"> </a>\n",
    "\n",
    "<p> In interactive programs, user is presented with menu of choices where user makes selection until user decide to quiet. It is like restaurant menu where you have to choose your order or leave the restaurant. Here is the example of such menu program:</p>"
   ]
  },
  {
   "cell_type": "code",
   "execution_count": 9,
   "metadata": {
    "scrolled": true
   },
   "outputs": [
    {
     "name": "stdout",
     "output_type": "stream",
     "text": [
      "Enter a number from the menu to obtaine a fact\n",
      "about India or to exit the program.\n",
      "\n",
      "1. Capital\n",
      "2. National Bird\n",
      "3. Natinal Flower\n",
      "4. Quite \n",
      "\n"
     ]
    },
    {
     "name": "stdin",
     "output_type": "stream",
     "text": [
      "Make s selecton from the menu: 4\n"
     ]
    }
   ],
   "source": [
    "## Display facts about US\n",
    "print(\"Enter a number from the menu to obtaine a fact\")\n",
    "print(\"about India or to exit the program.\\n\")\n",
    "print(\"1. Capital\")\n",
    "print(\"2. National Bird\")\n",
    "print(\"3. Natinal Flower\")\n",
    "print(\"4. Quite \\n\")\n",
    "while True:\n",
    "    num = int(input(\"Make s selecton from the menu:\"))\n",
    "    if num == 1:\n",
    "        print(\"Delhi is the capital of India\")\n",
    "    elif num == 2:\n",
    "        print(\"The Peacock\")\n",
    "    elif num == 3:\n",
    "        print(\"The Lotus\")\n",
    "    elif num == 4:\n",
    "        break"
   ]
  },
  {
   "cell_type": "markdown",
   "metadata": {},
   "source": [
    "<h3> Infinite Loops </h3>\n",
    "<a id = \"iloop\"> </a>\n",
    "\n",
    "<p> In your program development, be extra careful to avoid <b>infinite loops</b> that never end: </p>\n",
    "<p><b> num = 0</b>\n",
    "<br><b> while num >= 0:</b>\n",
    "<br><b>&nbsp;&nbsp;&nbsp;&nbsp;&nbsp; num *= num </b>\n",
    "<br><b>&nbsp;&nbsp;&nbsp;&nbsp;&nbsp; print(num) </b>\n",
    "</p>"
   ]
  },
  {
   "cell_type": "markdown",
   "metadata": {},
   "source": [
    "# Working with <i>for</i> Statement"
   ]
  },
  {
   "cell_type": "markdown",
   "metadata": {},
   "source": [
    "## Table of Content"
   ]
  },
  {
   "cell_type": "markdown",
   "metadata": {},
   "source": [
    "<div style=\"margin-top: 20px\">\n",
    "    <ul>\n",
    "        <li><a href=\"#forLoop\"> <i>for</i> Loop Definition</a>\n",
    "        <li><a href=\"#nloop\">Looping Through an Arithmetic Progression of Numbers</a></li>\n",
    "        <li><a href=\"#nnloop\">Nested Loops</a></li>\n",
    "        <li><a href=\"#sloop\">Looping Through the Characters of a String</a></li>\n",
    "        <li><a href=\"#ltloop\">Looping Through the List or Tuple</a></li>\n",
    "        <li><a href=\"#floop\">Looping Through the lines of File</a></li>\n",
    "        <li><a href=\"#pass\">The <i>pass</i> Statement</a></li> \n",
    "        <li><a href=\"#listF\">Populating List with the File Content</a></li>         \n",
    "    </ul>\n",
    "       \n",
    "</div>"
   ]
  },
  {
   "cell_type": "markdown",
   "metadata": {},
   "source": [
    "<h3> <i>for</i> Loop </h3>\n",
    "<a id = \"forLoop\"> </a>\n",
    "\n",
    "<p> The <b>for</b> loop is a part of Control Flow structures. It allows user to iterate through  a <i>sequence</i> of values, where the <i>sequence</i> can be an arithmetic progression of numbers, a string, a list, a tuple, a dictionary or a file object. The general form of a for loop is:</p>\n",
    "<p><b> for <i>var</i> in <i>sequence</i>:</b>\n",
    "<br><b>&nbsp;&nbsp;&nbsp;&nbsp;&nbsp;   <i>indented block of statements</i>  </b></p>\n",
    "\n",
    "<p> Variable is successively assigned each value in the sequence, where indented block of statements are executed after each assignment.</p>\n",
    "<p> Physical indentation instructs python interpreter where block starts and stops in the <b>for</b> loop.</p>\n"
   ]
  },
  {
   "cell_type": "markdown",
   "metadata": {},
   "source": [
    "<h3> Looping Through an Arithmetic Progression of Numbers </h3>\n",
    "<a id = \"nloop\"> </a>\n",
    "\n",
    "<p> To loop through an arithmetic progression of numbers, we usually use <b>range(<i>m, n, s</i>)</b> function, where <b><i>m</i></b> is starting integer, <b><i>n</i></b> is ending integer (<b><i>m</i></b> < <b><i>n</i></b>), and <b><i>s</i></b> is the step values of the range function.</p>\n",
    "\n",
    "<p> Here is the example the <b>range(<i>m, n, s</i>)</b> function with application in the <b>for</b> loop. </p>"
   ]
  },
  {
   "cell_type": "markdown",
   "metadata": {},
   "source": [
    "range(n)          - if there is one value in range function, it will generate numbers starting from 0 to n-1\n",
    "range(5)          - generate sequence from 0 to 4    \n",
    "range(0, 5)       - generate sequence from 0 to 4\n",
    "range(-4,2)       - generate sequence from -4 to 1\n",
    "range(-2, 10, 2)  - generate sequence from -2 to 8 with step 2\n",
    "range(2, -10, -2) - generate sequence from 2 to -8 with step -2"
   ]
  },
  {
   "cell_type": "code",
   "execution_count": 8,
   "metadata": {},
   "outputs": [
    {
     "name": "stdout",
     "output_type": "stream",
     "text": [
      "0\n",
      "1\n",
      "2\n",
      "3\n",
      "4\n"
     ]
    }
   ],
   "source": [
    "num = range(5)\n",
    "for i in num:\n",
    "    print(i)"
   ]
  },
  {
   "cell_type": "code",
   "execution_count": 9,
   "metadata": {
    "scrolled": true
   },
   "outputs": [
    {
     "name": "stdout",
     "output_type": "stream",
     "text": [
      "0\n",
      "1\n",
      "2\n",
      "3\n",
      "4\n"
     ]
    }
   ],
   "source": [
    "num = range(0, 5)\n",
    "for i in num:\n",
    "    print(i)"
   ]
  },
  {
   "cell_type": "code",
   "execution_count": 10,
   "metadata": {
    "scrolled": true
   },
   "outputs": [
    {
     "name": "stdout",
     "output_type": "stream",
     "text": [
      "-4\n",
      "-3\n",
      "-2\n",
      "-1\n",
      "0\n",
      "1\n"
     ]
    }
   ],
   "source": [
    "num = range(-4, 2)\n",
    "for i in num:\n",
    "    print(i)"
   ]
  },
  {
   "cell_type": "code",
   "execution_count": 11,
   "metadata": {
    "scrolled": true
   },
   "outputs": [
    {
     "name": "stdout",
     "output_type": "stream",
     "text": [
      "-2\n",
      "0\n",
      "2\n",
      "4\n",
      "6\n",
      "8\n"
     ]
    }
   ],
   "source": [
    "num = range(-2, 10, 2)\n",
    "for i in num:\n",
    "    print(i)"
   ]
  },
  {
   "cell_type": "code",
   "execution_count": 12,
   "metadata": {},
   "outputs": [
    {
     "name": "stdout",
     "output_type": "stream",
     "text": [
      "2\n",
      "0\n",
      "-2\n",
      "-4\n",
      "-6\n",
      "-8\n"
     ]
    }
   ],
   "source": [
    "num = range(2, -10, -2)\n",
    "for i in num:\n",
    "    print(i)"
   ]
  },
  {
   "cell_type": "markdown",
   "metadata": {},
   "source": [
    "<h3> Nested Loops </h3>\n",
    "<a id = \"nnloop\"> </a>\n",
    "\n",
    "<p> The body of the <b>for</b> loop can have different python statements. It also can have another <b>for</b> loop inside, which we call the nested loop because it is inside the loop. The nested loop needs to have different variables to avoid interpreter confusion </p>"
   ]
  },
  {
   "cell_type": "code",
   "execution_count": 13,
   "metadata": {},
   "outputs": [
    {
     "name": "stdout",
     "output_type": "stream",
     "text": [
      "1 x 1  = 1 \t1 x 2  = 2 \t1 x 3  = 3 \t1 x 4  = 4 \t1 x 5  = 5 \t2 x 1  = 2 \t2 x 2  = 4 \t2 x 3  = 6 \t2 x 4  = 8 \t2 x 5  = 10 \t3 x 1  = 3 \t3 x 2  = 6 \t3 x 3  = 9 \t3 x 4  = 12 \t3 x 5  = 15 \t4 x 1  = 4 \t4 x 2  = 8 \t4 x 3  = 12 \t4 x 4  = 16 \t4 x 5  = 20 \t5 x 1  = 5 \t5 x 2  = 10 \t5 x 3  = 15 \t5 x 4  = 20 \t5 x 5  = 25 \t"
     ]
    }
   ],
   "source": [
    "# Example of nested loops for the multiplication table from 1 through 5\n",
    "for m in range(1, 6):\n",
    "    for n in range(1, 6):\n",
    "        print(m, 'x', n, ' =', m*n, \"\\t\", end=\"\")"
   ]
  },
  {
   "cell_type": "markdown",
   "metadata": {},
   "source": [
    "<h3> Looping Through the Characters of a String </h3>\n",
    "<a id = \"sloop\"> </a>\n",
    "\n",
    "<p> To loop through the characters of a string the process is like work with numbers. The general code looks: </p>\n",
    "<p><b> for <i>ch</i> in <i>str1</i>:</b>\n",
    "<br><b>&nbsp;&nbsp;&nbsp;&nbsp;&nbsp;   <i>indented block of statements</i>  </b></p>"
   ]
  },
  {
   "cell_type": "code",
   "execution_count": 15,
   "metadata": {
    "scrolled": true
   },
   "outputs": [
    {
     "name": "stdout",
     "output_type": "stream",
     "text": [
      "P\n",
      "y\n",
      "t\n",
      "h\n",
      "o\n",
      "n\n"
     ]
    }
   ],
   "source": [
    "s = 'Python'\n",
    "for ch in s:\n",
    "    print(ch)"
   ]
  },
  {
   "cell_type": "code",
   "execution_count": 16,
   "metadata": {},
   "outputs": [
    {
     "name": "stdout",
     "output_type": "stream",
     "text": [
      "S\n",
      "t\n",
      "r\n",
      "i\n",
      "n\n",
      "g\n",
      " \n",
      "i\n",
      "n\n",
      " \n",
      "P\n",
      "y\n",
      "t\n",
      "h\n",
      "o\n",
      "n\n"
     ]
    }
   ],
   "source": [
    "s = 'String in Python'\n",
    "for i in range(len(s)):\n",
    "    print(s[i])"
   ]
  },
  {
   "cell_type": "code",
   "execution_count": 18,
   "metadata": {},
   "outputs": [
    {
     "name": "stdout",
     "output_type": "stream",
     "text": [
      "nohtyP ni gnirtS.\n"
     ]
    }
   ],
   "source": [
    "s = 'String in Python'\n",
    "reverseWord = \"\"\n",
    "for ch in s:\n",
    "    reverseWord = ch + reverseWord\n",
    "print(reverseWord + \".\")"
   ]
  },
  {
   "cell_type": "markdown",
   "metadata": {},
   "source": [
    "**Using the 'if' statement with a for loop.**<br>"
   ]
  },
  {
   "cell_type": "code",
   "execution_count": 11,
   "metadata": {
    "colab": {},
    "colab_type": "code",
    "id": "HoqVdQUXZyjS"
   },
   "outputs": [
    {
     "name": "stdout",
     "output_type": "stream",
     "text": [
      "1035\n",
      "1080\n",
      "1125\n",
      "1170\n",
      "1215\n",
      "1260\n",
      "1305\n",
      "1350\n",
      "1395\n",
      "1440\n",
      "1485\n",
      "1530\n",
      "1575\n",
      "1620\n",
      "1665\n",
      "1710\n",
      "1755\n",
      "1800\n",
      "1845\n",
      "1890\n",
      "1935\n",
      "1980\n",
      "2025\n",
      "2070\n",
      "2115\n",
      "2160\n",
      "2205\n",
      "2250\n",
      "2295\n",
      "2340\n",
      "2385\n",
      "2430\n",
      "2475\n",
      "2520\n",
      "2565\n",
      "2610\n",
      "2655\n",
      "2700\n",
      "2745\n",
      "2790\n",
      "2835\n",
      "2880\n",
      "2925\n",
      "2970\n"
     ]
    }
   ],
   "source": [
    "for x in range(1000, 3001):\n",
    "  if(x % 5 == 0 and x % 9 == 0):\n",
    "    print(x)"
   ]
  },
  {
   "cell_type": "markdown",
   "metadata": {
    "colab_type": "text",
    "id": "nOUJULL8V-jm"
   },
   "source": [
    "**Using the 'else' statement with a for loop.**<br>\n",
    "An 'else' statement can be used with a for loop. <br>\n"
   ]
  },
  {
   "cell_type": "code",
   "execution_count": null,
   "metadata": {
    "colab": {},
    "colab_type": "code",
    "id": "iQ1GWqpkjfuo"
   },
   "outputs": [],
   "source": [
    "number_of_a = 0\n",
    "number_of_others = 0\n",
    "sentence = \"I'm going to make him an offer he can't refuse\"\n",
    "for x in sentence: \n",
    "  if x== 'a': \n",
    "    number_of_a  = number_of_a  + 1\n",
    "  else: \n",
    "    number_of_others = number_of_others + 1\n",
    "print(\"there are \", number_of_a, \"a's in sentence\")\n",
    "print(\"there are \", number_of_others, \"other characters\")"
   ]
  },
  {
   "cell_type": "markdown",
   "metadata": {},
   "source": [
    "<h3> Looping Through the List or Tuple </h3>\n",
    "<a id = \"ltloop\"> </a>\n",
    "\n",
    "<p> To loop through the list or tuple : </p>\n",
    "<p><b> for <i>item</i> in <i>ListOrTuple</i>:</b>\n",
    "<br><b>&nbsp;&nbsp;&nbsp;&nbsp;&nbsp;   <i>indented block of statements</i>  </b></p>"
   ]
  },
  {
   "cell_type": "code",
   "execution_count": 24,
   "metadata": {
    "scrolled": true
   },
   "outputs": [
    {
     "name": "stdout",
     "output_type": "stream",
     "text": [
      "['Jan', 'Feb', 'Mar', 'Apr', 'May', 'Jun', 'Jul', 'Aug', 'Sep', 'Oct', 'Nov', 'Dec']\n"
     ]
    }
   ],
   "source": [
    "# Example of the loop through the list\n",
    "months = [\"January\", \"February\", \"March\", \"April\", \"May\", \"June\", \"July\", \"August\", \"September\", \"October\", \n",
    "          \"November\", \"December\"]\n",
    "for i in range(len(months)):\n",
    "    months[i] = months[i][0:3]\n",
    "print(months)"
   ]
  },
  {
   "cell_type": "code",
   "execution_count": 22,
   "metadata": {},
   "outputs": [
    {
     "name": "stdout",
     "output_type": "stream",
     "text": [
      "January\n",
      "February\n",
      "May\n",
      "July\n"
     ]
    }
   ],
   "source": [
    "# Example of the loop through the tuple\n",
    "months = (\"January\", \"February\", \"March\", \"April\", \"May\", \"June\", \"July\", \"August\", \"September\", \"October\", \n",
    "          \"November\", \"December\")\n",
    "for month in months:\n",
    "    if 'y' in month:\n",
    "        print(month)"
   ]
  },
  {
   "cell_type": "markdown",
   "metadata": {},
   "source": [
    "<h3> Looping Through the lines of File </h3>\n",
    "<a id = \"floop\"> </a>\n",
    "\n",
    "<p> To loop through the <b>fileName.txt</b>, the code looks like : </p>\n",
    "<p><b> infile = open(\"fileName.txt\", 'r'):</b>\n",
    "<br><b> for <i>line</i> in <i>infile</i>:</b>\n",
    "<br><b>&nbsp;&nbsp;&nbsp;&nbsp;&nbsp;   <i>indented block of statements</i>  </b>\n",
    "<br><b> infile.close() </b></p>\n",
    "\n",
    "<p>The first code line of the code establishes connection to read the text file. The second code line loops through the text file by reading each line at the time and execute indented block of statement. We assume that text file is located at the same folder as the main program or notebook script. </p>"
   ]
  },
  {
   "cell_type": "code",
   "execution_count": 26,
   "metadata": {},
   "outputs": [
    {
     "name": "stdout",
     "output_type": "stream",
     "text": [
      "Afghanistan\n",
      "\n",
      "Albania\n",
      "\n",
      "Algeria\n",
      "\n",
      "Andorra\n",
      "\n",
      "Angola\n",
      "\n",
      "Antigua and Barbuda\n",
      "\n",
      "Argentina\n",
      "\n",
      "Armenia\n",
      "\n",
      "Australia\n",
      "\n",
      "Austria\n",
      "\n",
      "Azerbaijan\n",
      "\n"
     ]
    }
   ],
   "source": [
    "# Read the text file through the for-loop\n",
    "infile = open(\"Country.txt\", 'r')\n",
    "for line in infile:\n",
    "    print(line)\n",
    "infile.close()"
   ]
  },
  {
   "cell_type": "markdown",
   "metadata": {},
   "source": [
    "<h3> The <i>pass</i> Statement </h3>\n",
    "<a id = \"pass\"> </a>\n",
    "\n",
    "<p> During the program development, it may require looping through the block statement but not to do anything. For that purpose, we can use <b><i>pass</i></b> statement. The general code looks like: </p>\n",
    "<p><b> infile = open(\"fileName.txt\", 'r'):</b>\n",
    "<br><b> for <i>line</i> in <i>infile</i>:</b>\n",
    "<br><b>&nbsp;&nbsp;&nbsp;&nbsp;&nbsp;   <i>pass</i>  </b>\n",
    "<br><b> infile.close() </b></p>"
   ]
  },
  {
   "cell_type": "code",
   "execution_count": 27,
   "metadata": {},
   "outputs": [
    {
     "name": "stdout",
     "output_type": "stream",
     "text": [
      "Azerbaijan\n"
     ]
    }
   ],
   "source": [
    "# Read the last line of text file using pass statement\n",
    "infile = open(\"Country.txt\", 'r')\n",
    "for line in infile:\n",
    "    pass\n",
    "print(line.rstrip())\n",
    "infile.close()"
   ]
  },
  {
   "cell_type": "markdown",
   "metadata": {},
   "source": [
    "<h3> Populating List with the File Content</h3>\n",
    "<a id = \"listF\"> </a>\n",
    "\n",
    "<p> The more efficient way to work with text file is to place the data into a <b><i>list</i></b> and use the <b><i>list</i></b> functions and methods to further work with data. The following examples show how to accomplish it:</p>"
   ]
  },
  {
   "cell_type": "code",
   "execution_count": 28,
   "metadata": {},
   "outputs": [
    {
     "name": "stdout",
     "output_type": "stream",
     "text": [
      "['Afghanistan', 'Albania', 'Algeria', 'Andorra', 'Angola', 'Antigua and Barbuda', 'Argentina', 'Armenia', 'Australia', 'Austria', 'Azerbaijan']\n"
     ]
    }
   ],
   "source": [
    "# Read the text file into a list\n",
    "dataList = []\n",
    "infile = open(\"Country.txt\", 'r')\n",
    "for line in infile:\n",
    "    dataList.append(line.strip())\n",
    "infile.close()\n",
    "print(dataList)"
   ]
  },
  {
   "cell_type": "markdown",
   "metadata": {},
   "source": [
    "<p> There is more efficient way to accomplish the same task:</p>"
   ]
  },
  {
   "cell_type": "code",
   "execution_count": 29,
   "metadata": {},
   "outputs": [
    {
     "name": "stdout",
     "output_type": "stream",
     "text": [
      "['Afghanistan', 'Albania', 'Algeria', 'Andorra', 'Angola', 'Antigua and Barbuda', 'Argentina', 'Armenia', 'Australia', 'Austria', 'Azerbaijan']\n"
     ]
    }
   ],
   "source": [
    "# Alternative way to read the text file into a list\n",
    "infile = open(\"Country.txt\", 'r')\n",
    "dataList = [line.strip() for line in infile]\n",
    "infile.close()\n",
    "print(dataList)"
   ]
  }
 ],
 "metadata": {
  "kernelspec": {
   "display_name": "Python 3",
   "language": "python",
   "name": "python3"
  },
  "language_info": {
   "codemirror_mode": {
    "name": "ipython",
    "version": 3
   },
   "file_extension": ".py",
   "mimetype": "text/x-python",
   "name": "python",
   "nbconvert_exporter": "python",
   "pygments_lexer": "ipython3",
   "version": "3.8.3"
  }
 },
 "nbformat": 4,
 "nbformat_minor": 4
}
