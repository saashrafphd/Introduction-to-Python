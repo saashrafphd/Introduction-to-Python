{
 "cells": [
  {
   "cell_type": "markdown",
   "metadata": {},
   "source": [
    "<h1> <b>Pandas</b> </h1>"
   ]
  },
  {
   "cell_type": "markdown",
   "metadata": {
    "colab_type": "text",
    "id": "fW-iQO9j2Vy7"
   },
   "source": [
    "The data manipulation capabilities of pandas are built on top of the numpy library. In a way, numpy is a dependency of the pandas library.<br>\n",
    "Pandas is best at handling tabular data sets comprising different variable types (integer, float, double, etc.). In addition, the pandas library can also be used to perform even the most naive of tasks such as loading data or doing feature engineering on time series data.<br>\n"
   ]
  },
  {
   "cell_type": "code",
   "execution_count": 2,
   "metadata": {
    "colab": {},
    "colab_type": "code",
    "id": "A-A2ngKXx7K0"
   },
   "outputs": [],
   "source": [
    "import pandas as pd\n",
    "import numpy as np"
   ]
  },
  {
   "cell_type": "markdown",
   "metadata": {
    "colab_type": "text",
    "id": "EE--Ejra5XsE"
   },
   "source": [
    "# **Core components of pandas: Series and DataFrames**\n",
    "\n",
    "A Series is a data column<br>\n",
    "DataFrame is a multi-dimensional table made up of a collection of Series<br>"
   ]
  },
  {
   "cell_type": "code",
   "execution_count": 3,
   "metadata": {
    "colab": {},
    "colab_type": "code",
    "id": "dybeNHH1l4Dh"
   },
   "outputs": [
    {
     "data": {
      "text/plain": [
       "0         4\n",
       "1       3.5\n",
       "2         5\n",
       "3        HI\n",
       "4    [1, 2]\n",
       "dtype: object"
      ]
     },
     "execution_count": 3,
     "metadata": {},
     "output_type": "execute_result"
    }
   ],
   "source": [
    "#Create a Panda series\n",
    "s = pd.Series([4, 3.5, 5, \"HI\", [1,2]])\n",
    "s #print the dataframe"
   ]
  },
  {
   "cell_type": "markdown",
   "metadata": {
    "colab_type": "text",
    "id": "qKOEbQIn1_AU"
   },
   "source": [
    "Create a series called:<br>\n",
    ">towns<br>\n",
    "With the following values:<br>\n",
    ">\"San Jose\", \"KaiserSlautern\", \"Bangkok\", \"Singapore\""
   ]
  },
  {
   "cell_type": "code",
   "execution_count": 4,
   "metadata": {
    "colab": {},
    "colab_type": "code",
    "id": "GYnQw9uW2vu9"
   },
   "outputs": [
    {
     "data": {
      "text/plain": [
       "0          San Jose\n",
       "1    KaiserSlautern\n",
       "2           Bangkok\n",
       "3         Singapore\n",
       "dtype: object"
      ]
     },
     "execution_count": 4,
     "metadata": {},
     "output_type": "execute_result"
    }
   ],
   "source": [
    "\n",
    "towns = pd.Series([\"San Jose\", \"KaiserSlautern\", \"Bangkok\", \"Singapore\"])\n",
    "towns"
   ]
  },
  {
   "cell_type": "markdown",
   "metadata": {
    "colab_type": "text",
    "id": "fscwPYQ43KXH"
   },
   "source": [
    "**Create a dataframe from two or more series**<br>\n",
    "Use the form: <br>\n",
    "\n",
    ">pd.DataFrame({column name:series name, column name:series name})\n"
   ]
  },
  {
   "cell_type": "code",
   "execution_count": 5,
   "metadata": {
    "colab": {},
    "colab_type": "code",
    "id": "k4cDVtP33QbE"
   },
   "outputs": [
    {
     "data": {
      "text/html": [
       "<div>\n",
       "<style scoped>\n",
       "    .dataframe tbody tr th:only-of-type {\n",
       "        vertical-align: middle;\n",
       "    }\n",
       "\n",
       "    .dataframe tbody tr th {\n",
       "        vertical-align: top;\n",
       "    }\n",
       "\n",
       "    .dataframe thead th {\n",
       "        text-align: right;\n",
       "    }\n",
       "</style>\n",
       "<table border=\"1\" class=\"dataframe\">\n",
       "  <thead>\n",
       "    <tr style=\"text-align: right;\">\n",
       "      <th></th>\n",
       "      <th>City name</th>\n",
       "      <th>Population</th>\n",
       "    </tr>\n",
       "  </thead>\n",
       "  <tbody>\n",
       "    <tr>\n",
       "      <th>0</th>\n",
       "      <td>San Francisco</td>\n",
       "      <td>852469</td>\n",
       "    </tr>\n",
       "    <tr>\n",
       "      <th>1</th>\n",
       "      <td>San Jose</td>\n",
       "      <td>1015785</td>\n",
       "    </tr>\n",
       "    <tr>\n",
       "      <th>2</th>\n",
       "      <td>Sacramento</td>\n",
       "      <td>485199</td>\n",
       "    </tr>\n",
       "  </tbody>\n",
       "</table>\n",
       "</div>"
      ],
      "text/plain": [
       "       City name  Population\n",
       "0  San Francisco      852469\n",
       "1       San Jose     1015785\n",
       "2     Sacramento      485199"
      ]
     },
     "execution_count": 5,
     "metadata": {},
     "output_type": "execute_result"
    }
   ],
   "source": [
    "city_names = pd.Series(['San Francisco', 'San Jose', 'Sacramento'])\n",
    "population = pd.Series([852469, 1015785, 485199])\n",
    "\n",
    "pd.DataFrame({ 'City name': city_names, 'Population': population })"
   ]
  },
  {
   "cell_type": "markdown",
   "metadata": {
    "colab_type": "text",
    "id": "NRpDLy003kvH"
   },
   "source": [
    "Create a series of students names. The series should be 6 elements long. <br>\n",
    "Create a series of students grades. The series should be 6 elements long<br>\n",
    "Combine the two series into a DataFrame. "
   ]
  },
  {
   "cell_type": "code",
   "execution_count": 6,
   "metadata": {
    "colab": {},
    "colab_type": "code",
    "id": "EdmlGdN939Ov"
   },
   "outputs": [
    {
     "data": {
      "text/html": [
       "<div>\n",
       "<style scoped>\n",
       "    .dataframe tbody tr th:only-of-type {\n",
       "        vertical-align: middle;\n",
       "    }\n",
       "\n",
       "    .dataframe tbody tr th {\n",
       "        vertical-align: top;\n",
       "    }\n",
       "\n",
       "    .dataframe thead th {\n",
       "        text-align: right;\n",
       "    }\n",
       "</style>\n",
       "<table border=\"1\" class=\"dataframe\">\n",
       "  <thead>\n",
       "    <tr style=\"text-align: right;\">\n",
       "      <th></th>\n",
       "      <th>Student Name</th>\n",
       "      <th>Student Grade</th>\n",
       "    </tr>\n",
       "  </thead>\n",
       "  <tbody>\n",
       "    <tr>\n",
       "      <th>0</th>\n",
       "      <td>John</td>\n",
       "      <td>A</td>\n",
       "    </tr>\n",
       "    <tr>\n",
       "      <th>1</th>\n",
       "      <td>Mike</td>\n",
       "      <td>A++</td>\n",
       "    </tr>\n",
       "    <tr>\n",
       "      <th>2</th>\n",
       "      <td>Anil</td>\n",
       "      <td>B++</td>\n",
       "    </tr>\n",
       "    <tr>\n",
       "      <th>3</th>\n",
       "      <td>Arun</td>\n",
       "      <td>B+</td>\n",
       "    </tr>\n",
       "    <tr>\n",
       "      <th>4</th>\n",
       "      <td>Mala</td>\n",
       "      <td>C</td>\n",
       "    </tr>\n",
       "    <tr>\n",
       "      <th>5</th>\n",
       "      <td>Maya</td>\n",
       "      <td>NaN</td>\n",
       "    </tr>\n",
       "  </tbody>\n",
       "</table>\n",
       "</div>"
      ],
      "text/plain": [
       "  Student Name Student Grade\n",
       "0         John             A\n",
       "1         Mike           A++\n",
       "2         Anil           B++\n",
       "3         Arun            B+\n",
       "4         Mala             C\n",
       "5         Maya           NaN"
      ]
     },
     "execution_count": 6,
     "metadata": {},
     "output_type": "execute_result"
    }
   ],
   "source": [
    "\n",
    "student_names = pd.Series([\"John\",\"Mike\",\"Anil\", \"Arun\", \"Mala\", \"Maya\"])\n",
    "student_grades = pd.Series([\"A\", \"A++\",\"B++\", \"B+\", \"C\"])\n",
    "pd.DataFrame({\"Student Name\":student_names, \"Student Grade\": student_grades})"
   ]
  },
  {
   "cell_type": "markdown",
   "metadata": {
    "colab_type": "text",
    "id": "KWggVjLb7BSd"
   },
   "source": [
    "**Create a DataFrame with unequal lengths of series**\n",
    "<br>\n",
    "This dataframe will be used lated in this course. \n"
   ]
  },
  {
   "cell_type": "code",
   "execution_count": 7,
   "metadata": {
    "colab": {},
    "colab_type": "code",
    "id": "UB7VzXwD6Iy-"
   },
   "outputs": [
    {
     "name": "stdout",
     "output_type": "stream",
     "text": [
      "    name     id\n",
      "0    bob    NaN\n",
      "1    ted  112.0\n",
      "2  alice  113.0\n",
      "3    max  114.0\n",
      "4   bill  115.0\n",
      "5    ida  116.0\n",
      "6   mark    NaN\n"
     ]
    }
   ],
   "source": [
    "#There are 7 names in the student_names series\n",
    "student_names=pd.Series([\"bob\", \"ted\",\"alice\",\"max\",\"bill\", \"ida\", \"mark\"])\n",
    "#There are 5 id numbers in the student_id series\n",
    "student_id=pd.Series([float(\"NaN\"),112,113,114,115,116,])\n",
    "#The two DataFrames can still be combined into a DataFrame\n",
    "#Missing values are listed as NaN\n",
    "student_info = pd.DataFrame({ 'name': student_names, 'id': student_id })\n",
    "print(student_info)"
   ]
  },
  {
   "cell_type": "markdown",
   "metadata": {
    "colab_type": "text",
    "id": "fqdLiBApse5s"
   },
   "source": [
    "**Remove from the dataframe any values that are missing**\n",
    "\n",
    "Use isna function to see the missing values<br>\n",
    "If the value is True, the data is missing"
   ]
  },
  {
   "cell_type": "code",
   "execution_count": 8,
   "metadata": {
    "colab": {},
    "colab_type": "code",
    "id": "I0cqQl4_sj1e"
   },
   "outputs": [
    {
     "data": {
      "text/html": [
       "<div>\n",
       "<style scoped>\n",
       "    .dataframe tbody tr th:only-of-type {\n",
       "        vertical-align: middle;\n",
       "    }\n",
       "\n",
       "    .dataframe tbody tr th {\n",
       "        vertical-align: top;\n",
       "    }\n",
       "\n",
       "    .dataframe thead th {\n",
       "        text-align: right;\n",
       "    }\n",
       "</style>\n",
       "<table border=\"1\" class=\"dataframe\">\n",
       "  <thead>\n",
       "    <tr style=\"text-align: right;\">\n",
       "      <th></th>\n",
       "      <th>name</th>\n",
       "      <th>id</th>\n",
       "    </tr>\n",
       "  </thead>\n",
       "  <tbody>\n",
       "    <tr>\n",
       "      <th>0</th>\n",
       "      <td>False</td>\n",
       "      <td>True</td>\n",
       "    </tr>\n",
       "    <tr>\n",
       "      <th>1</th>\n",
       "      <td>False</td>\n",
       "      <td>False</td>\n",
       "    </tr>\n",
       "    <tr>\n",
       "      <th>2</th>\n",
       "      <td>False</td>\n",
       "      <td>False</td>\n",
       "    </tr>\n",
       "    <tr>\n",
       "      <th>3</th>\n",
       "      <td>False</td>\n",
       "      <td>False</td>\n",
       "    </tr>\n",
       "    <tr>\n",
       "      <th>4</th>\n",
       "      <td>False</td>\n",
       "      <td>False</td>\n",
       "    </tr>\n",
       "    <tr>\n",
       "      <th>5</th>\n",
       "      <td>False</td>\n",
       "      <td>False</td>\n",
       "    </tr>\n",
       "    <tr>\n",
       "      <th>6</th>\n",
       "      <td>False</td>\n",
       "      <td>True</td>\n",
       "    </tr>\n",
       "  </tbody>\n",
       "</table>\n",
       "</div>"
      ],
      "text/plain": [
       "    name     id\n",
       "0  False   True\n",
       "1  False  False\n",
       "2  False  False\n",
       "3  False  False\n",
       "4  False  False\n",
       "5  False  False\n",
       "6  False   True"
      ]
     },
     "execution_count": 8,
     "metadata": {},
     "output_type": "execute_result"
    }
   ],
   "source": [
    "student_info.isna()"
   ]
  },
  {
   "cell_type": "markdown",
   "metadata": {
    "colab_type": "text",
    "id": "klm1fHY4ur8S"
   },
   "source": [
    "**Drop the rows that contain missing values**"
   ]
  },
  {
   "cell_type": "code",
   "execution_count": 9,
   "metadata": {
    "colab": {},
    "colab_type": "code",
    "id": "gagoyIfpuz6B"
   },
   "outputs": [
    {
     "data": {
      "text/html": [
       "<div>\n",
       "<style scoped>\n",
       "    .dataframe tbody tr th:only-of-type {\n",
       "        vertical-align: middle;\n",
       "    }\n",
       "\n",
       "    .dataframe tbody tr th {\n",
       "        vertical-align: top;\n",
       "    }\n",
       "\n",
       "    .dataframe thead th {\n",
       "        text-align: right;\n",
       "    }\n",
       "</style>\n",
       "<table border=\"1\" class=\"dataframe\">\n",
       "  <thead>\n",
       "    <tr style=\"text-align: right;\">\n",
       "      <th></th>\n",
       "      <th>name</th>\n",
       "      <th>id</th>\n",
       "    </tr>\n",
       "  </thead>\n",
       "  <tbody>\n",
       "    <tr>\n",
       "      <th>1</th>\n",
       "      <td>ted</td>\n",
       "      <td>112.0</td>\n",
       "    </tr>\n",
       "    <tr>\n",
       "      <th>2</th>\n",
       "      <td>alice</td>\n",
       "      <td>113.0</td>\n",
       "    </tr>\n",
       "    <tr>\n",
       "      <th>3</th>\n",
       "      <td>max</td>\n",
       "      <td>114.0</td>\n",
       "    </tr>\n",
       "    <tr>\n",
       "      <th>4</th>\n",
       "      <td>bill</td>\n",
       "      <td>115.0</td>\n",
       "    </tr>\n",
       "    <tr>\n",
       "      <th>5</th>\n",
       "      <td>ida</td>\n",
       "      <td>116.0</td>\n",
       "    </tr>\n",
       "  </tbody>\n",
       "</table>\n",
       "</div>"
      ],
      "text/plain": [
       "    name     id\n",
       "1    ted  112.0\n",
       "2  alice  113.0\n",
       "3    max  114.0\n",
       "4   bill  115.0\n",
       "5    ida  116.0"
      ]
     },
     "execution_count": 9,
     "metadata": {},
     "output_type": "execute_result"
    }
   ],
   "source": [
    "student_info.dropna()"
   ]
  },
  {
   "cell_type": "markdown",
   "metadata": {
    "colab_type": "text",
    "id": "w1pAh8Cm54hp"
   },
   "source": [
    "Create a series of student_weights with 5 elements<br>\n",
    "Create a series of student_ages with 6 elements<br>\n",
    "Combine the two series into one DataFrame. One column should be called Student Weight, the other column should be called Student Age<br>\n",
    "Search for missing values"
   ]
  },
  {
   "cell_type": "code",
   "execution_count": 10,
   "metadata": {
    "colab": {},
    "colab_type": "code",
    "id": "gQP_HEl-7yGg"
   },
   "outputs": [
    {
     "data": {
      "text/html": [
       "<div>\n",
       "<style scoped>\n",
       "    .dataframe tbody tr th:only-of-type {\n",
       "        vertical-align: middle;\n",
       "    }\n",
       "\n",
       "    .dataframe tbody tr th {\n",
       "        vertical-align: top;\n",
       "    }\n",
       "\n",
       "    .dataframe thead th {\n",
       "        text-align: right;\n",
       "    }\n",
       "</style>\n",
       "<table border=\"1\" class=\"dataframe\">\n",
       "  <thead>\n",
       "    <tr style=\"text-align: right;\">\n",
       "      <th></th>\n",
       "      <th>Student Weight</th>\n",
       "      <th>Student Age</th>\n",
       "    </tr>\n",
       "  </thead>\n",
       "  <tbody>\n",
       "    <tr>\n",
       "      <th>0</th>\n",
       "      <td>False</td>\n",
       "      <td>False</td>\n",
       "    </tr>\n",
       "    <tr>\n",
       "      <th>1</th>\n",
       "      <td>False</td>\n",
       "      <td>False</td>\n",
       "    </tr>\n",
       "    <tr>\n",
       "      <th>2</th>\n",
       "      <td>False</td>\n",
       "      <td>False</td>\n",
       "    </tr>\n",
       "    <tr>\n",
       "      <th>3</th>\n",
       "      <td>False</td>\n",
       "      <td>False</td>\n",
       "    </tr>\n",
       "    <tr>\n",
       "      <th>4</th>\n",
       "      <td>False</td>\n",
       "      <td>False</td>\n",
       "    </tr>\n",
       "    <tr>\n",
       "      <th>5</th>\n",
       "      <td>True</td>\n",
       "      <td>False</td>\n",
       "    </tr>\n",
       "  </tbody>\n",
       "</table>\n",
       "</div>"
      ],
      "text/plain": [
       "   Student Weight  Student Age\n",
       "0           False        False\n",
       "1           False        False\n",
       "2           False        False\n",
       "3           False        False\n",
       "4           False        False\n",
       "5            True        False"
      ]
     },
     "execution_count": 10,
     "metadata": {},
     "output_type": "execute_result"
    }
   ],
   "source": [
    "\n",
    "student_weights = pd.Series([50,60,70,35,45])\n",
    "student_ages = pd.Series([12,14,87,59,9,20])\n",
    "studentDF = pd.DataFrame({'Student Weight': student_weights, 'Student Age': student_ages})\n",
    "studentDF.isna()\n"
   ]
  },
  {
   "cell_type": "markdown",
   "metadata": {
    "colab_type": "text",
    "id": "rHY6FvOU4gsV"
   },
   "source": [
    "# **Create a dataframe from a CSV file**"
   ]
  },
  {
   "cell_type": "markdown",
   "metadata": {
    "colab_type": "text",
    "id": "Vf4g-V6s9H21"
   },
   "source": [
    "Most of the time DataFrames are created from files. <br>\n",
    "Use the Pandas read_csv command to read a CSV file and load it as a DataFrame. "
   ]
  },
  {
   "cell_type": "code",
   "execution_count": 11,
   "metadata": {
    "colab": {},
    "colab_type": "code",
    "id": "FtCdoenG9JO5"
   },
   "outputs": [
    {
     "data": {
      "text/html": [
       "<div>\n",
       "<style scoped>\n",
       "    .dataframe tbody tr th:only-of-type {\n",
       "        vertical-align: middle;\n",
       "    }\n",
       "\n",
       "    .dataframe tbody tr th {\n",
       "        vertical-align: top;\n",
       "    }\n",
       "\n",
       "    .dataframe thead th {\n",
       "        text-align: right;\n",
       "    }\n",
       "</style>\n",
       "<table border=\"1\" class=\"dataframe\">\n",
       "  <thead>\n",
       "    <tr style=\"text-align: right;\">\n",
       "      <th></th>\n",
       "      <th>longitude</th>\n",
       "      <th>latitude</th>\n",
       "      <th>housing_median_age</th>\n",
       "      <th>total_rooms</th>\n",
       "      <th>total_bedrooms</th>\n",
       "      <th>population</th>\n",
       "      <th>households</th>\n",
       "      <th>median_income</th>\n",
       "      <th>median_house_value</th>\n",
       "    </tr>\n",
       "  </thead>\n",
       "  <tbody>\n",
       "    <tr>\n",
       "      <th>0</th>\n",
       "      <td>-114.31</td>\n",
       "      <td>34.19</td>\n",
       "      <td>15.0</td>\n",
       "      <td>5612.0</td>\n",
       "      <td>1283.0</td>\n",
       "      <td>1015.0</td>\n",
       "      <td>472.0</td>\n",
       "      <td>1.4936</td>\n",
       "      <td>66900.0</td>\n",
       "    </tr>\n",
       "    <tr>\n",
       "      <th>1</th>\n",
       "      <td>-114.47</td>\n",
       "      <td>34.40</td>\n",
       "      <td>19.0</td>\n",
       "      <td>7650.0</td>\n",
       "      <td>1901.0</td>\n",
       "      <td>1129.0</td>\n",
       "      <td>463.0</td>\n",
       "      <td>1.8200</td>\n",
       "      <td>80100.0</td>\n",
       "    </tr>\n",
       "    <tr>\n",
       "      <th>2</th>\n",
       "      <td>-114.56</td>\n",
       "      <td>33.69</td>\n",
       "      <td>17.0</td>\n",
       "      <td>720.0</td>\n",
       "      <td>174.0</td>\n",
       "      <td>333.0</td>\n",
       "      <td>117.0</td>\n",
       "      <td>1.6509</td>\n",
       "      <td>85700.0</td>\n",
       "    </tr>\n",
       "    <tr>\n",
       "      <th>3</th>\n",
       "      <td>-114.57</td>\n",
       "      <td>33.64</td>\n",
       "      <td>14.0</td>\n",
       "      <td>1501.0</td>\n",
       "      <td>337.0</td>\n",
       "      <td>515.0</td>\n",
       "      <td>226.0</td>\n",
       "      <td>3.1917</td>\n",
       "      <td>73400.0</td>\n",
       "    </tr>\n",
       "    <tr>\n",
       "      <th>4</th>\n",
       "      <td>-114.57</td>\n",
       "      <td>33.57</td>\n",
       "      <td>20.0</td>\n",
       "      <td>1454.0</td>\n",
       "      <td>326.0</td>\n",
       "      <td>624.0</td>\n",
       "      <td>262.0</td>\n",
       "      <td>1.9250</td>\n",
       "      <td>65500.0</td>\n",
       "    </tr>\n",
       "    <tr>\n",
       "      <th>...</th>\n",
       "      <td>...</td>\n",
       "      <td>...</td>\n",
       "      <td>...</td>\n",
       "      <td>...</td>\n",
       "      <td>...</td>\n",
       "      <td>...</td>\n",
       "      <td>...</td>\n",
       "      <td>...</td>\n",
       "      <td>...</td>\n",
       "    </tr>\n",
       "    <tr>\n",
       "      <th>16995</th>\n",
       "      <td>-124.26</td>\n",
       "      <td>40.58</td>\n",
       "      <td>52.0</td>\n",
       "      <td>2217.0</td>\n",
       "      <td>394.0</td>\n",
       "      <td>907.0</td>\n",
       "      <td>369.0</td>\n",
       "      <td>2.3571</td>\n",
       "      <td>111400.0</td>\n",
       "    </tr>\n",
       "    <tr>\n",
       "      <th>16996</th>\n",
       "      <td>-124.27</td>\n",
       "      <td>40.69</td>\n",
       "      <td>36.0</td>\n",
       "      <td>2349.0</td>\n",
       "      <td>528.0</td>\n",
       "      <td>1194.0</td>\n",
       "      <td>465.0</td>\n",
       "      <td>2.5179</td>\n",
       "      <td>79000.0</td>\n",
       "    </tr>\n",
       "    <tr>\n",
       "      <th>16997</th>\n",
       "      <td>-124.30</td>\n",
       "      <td>41.84</td>\n",
       "      <td>17.0</td>\n",
       "      <td>2677.0</td>\n",
       "      <td>531.0</td>\n",
       "      <td>1244.0</td>\n",
       "      <td>456.0</td>\n",
       "      <td>3.0313</td>\n",
       "      <td>103600.0</td>\n",
       "    </tr>\n",
       "    <tr>\n",
       "      <th>16998</th>\n",
       "      <td>-124.30</td>\n",
       "      <td>41.80</td>\n",
       "      <td>19.0</td>\n",
       "      <td>2672.0</td>\n",
       "      <td>552.0</td>\n",
       "      <td>1298.0</td>\n",
       "      <td>478.0</td>\n",
       "      <td>1.9797</td>\n",
       "      <td>85800.0</td>\n",
       "    </tr>\n",
       "    <tr>\n",
       "      <th>16999</th>\n",
       "      <td>-124.35</td>\n",
       "      <td>40.54</td>\n",
       "      <td>52.0</td>\n",
       "      <td>1820.0</td>\n",
       "      <td>300.0</td>\n",
       "      <td>806.0</td>\n",
       "      <td>270.0</td>\n",
       "      <td>3.0147</td>\n",
       "      <td>94600.0</td>\n",
       "    </tr>\n",
       "  </tbody>\n",
       "</table>\n",
       "<p>17000 rows × 9 columns</p>\n",
       "</div>"
      ],
      "text/plain": [
       "       longitude  latitude  housing_median_age  total_rooms  total_bedrooms  \\\n",
       "0        -114.31     34.19                15.0       5612.0          1283.0   \n",
       "1        -114.47     34.40                19.0       7650.0          1901.0   \n",
       "2        -114.56     33.69                17.0        720.0           174.0   \n",
       "3        -114.57     33.64                14.0       1501.0           337.0   \n",
       "4        -114.57     33.57                20.0       1454.0           326.0   \n",
       "...          ...       ...                 ...          ...             ...   \n",
       "16995    -124.26     40.58                52.0       2217.0           394.0   \n",
       "16996    -124.27     40.69                36.0       2349.0           528.0   \n",
       "16997    -124.30     41.84                17.0       2677.0           531.0   \n",
       "16998    -124.30     41.80                19.0       2672.0           552.0   \n",
       "16999    -124.35     40.54                52.0       1820.0           300.0   \n",
       "\n",
       "       population  households  median_income  median_house_value  \n",
       "0          1015.0       472.0         1.4936             66900.0  \n",
       "1          1129.0       463.0         1.8200             80100.0  \n",
       "2           333.0       117.0         1.6509             85700.0  \n",
       "3           515.0       226.0         3.1917             73400.0  \n",
       "4           624.0       262.0         1.9250             65500.0  \n",
       "...           ...         ...            ...                 ...  \n",
       "16995       907.0       369.0         2.3571            111400.0  \n",
       "16996      1194.0       465.0         2.5179             79000.0  \n",
       "16997      1244.0       456.0         3.0313            103600.0  \n",
       "16998      1298.0       478.0         1.9797             85800.0  \n",
       "16999       806.0       270.0         3.0147             94600.0  \n",
       "\n",
       "[17000 rows x 9 columns]"
      ]
     },
     "execution_count": 11,
     "metadata": {},
     "output_type": "execute_result"
    }
   ],
   "source": [
    "california_housing_dataframe = pd.read_csv(\"https://download.mlcc.google.com/mledu-datasets/california_housing_train.csv\", sep=\",\")\n",
    "california_housing_dataframe"
   ]
  },
  {
   "cell_type": "markdown",
   "metadata": {
    "colab_type": "text",
    "id": "0VXFKB9m8JfE"
   },
   "source": [
    "**Print the last 5 rows in a dataset using the tail function. **"
   ]
  },
  {
   "cell_type": "code",
   "execution_count": 12,
   "metadata": {
    "colab": {},
    "colab_type": "code",
    "id": "JLnxfJmH85Ub"
   },
   "outputs": [
    {
     "data": {
      "text/html": [
       "<div>\n",
       "<style scoped>\n",
       "    .dataframe tbody tr th:only-of-type {\n",
       "        vertical-align: middle;\n",
       "    }\n",
       "\n",
       "    .dataframe tbody tr th {\n",
       "        vertical-align: top;\n",
       "    }\n",
       "\n",
       "    .dataframe thead th {\n",
       "        text-align: right;\n",
       "    }\n",
       "</style>\n",
       "<table border=\"1\" class=\"dataframe\">\n",
       "  <thead>\n",
       "    <tr style=\"text-align: right;\">\n",
       "      <th></th>\n",
       "      <th>longitude</th>\n",
       "      <th>latitude</th>\n",
       "      <th>housing_median_age</th>\n",
       "      <th>total_rooms</th>\n",
       "      <th>total_bedrooms</th>\n",
       "      <th>population</th>\n",
       "      <th>households</th>\n",
       "      <th>median_income</th>\n",
       "      <th>median_house_value</th>\n",
       "    </tr>\n",
       "  </thead>\n",
       "  <tbody>\n",
       "    <tr>\n",
       "      <th>0</th>\n",
       "      <td>-114.31</td>\n",
       "      <td>34.19</td>\n",
       "      <td>15.0</td>\n",
       "      <td>5612.0</td>\n",
       "      <td>1283.0</td>\n",
       "      <td>1015.0</td>\n",
       "      <td>472.0</td>\n",
       "      <td>1.4936</td>\n",
       "      <td>66900.0</td>\n",
       "    </tr>\n",
       "    <tr>\n",
       "      <th>1</th>\n",
       "      <td>-114.47</td>\n",
       "      <td>34.40</td>\n",
       "      <td>19.0</td>\n",
       "      <td>7650.0</td>\n",
       "      <td>1901.0</td>\n",
       "      <td>1129.0</td>\n",
       "      <td>463.0</td>\n",
       "      <td>1.8200</td>\n",
       "      <td>80100.0</td>\n",
       "    </tr>\n",
       "    <tr>\n",
       "      <th>2</th>\n",
       "      <td>-114.56</td>\n",
       "      <td>33.69</td>\n",
       "      <td>17.0</td>\n",
       "      <td>720.0</td>\n",
       "      <td>174.0</td>\n",
       "      <td>333.0</td>\n",
       "      <td>117.0</td>\n",
       "      <td>1.6509</td>\n",
       "      <td>85700.0</td>\n",
       "    </tr>\n",
       "    <tr>\n",
       "      <th>3</th>\n",
       "      <td>-114.57</td>\n",
       "      <td>33.64</td>\n",
       "      <td>14.0</td>\n",
       "      <td>1501.0</td>\n",
       "      <td>337.0</td>\n",
       "      <td>515.0</td>\n",
       "      <td>226.0</td>\n",
       "      <td>3.1917</td>\n",
       "      <td>73400.0</td>\n",
       "    </tr>\n",
       "    <tr>\n",
       "      <th>4</th>\n",
       "      <td>-114.57</td>\n",
       "      <td>33.57</td>\n",
       "      <td>20.0</td>\n",
       "      <td>1454.0</td>\n",
       "      <td>326.0</td>\n",
       "      <td>624.0</td>\n",
       "      <td>262.0</td>\n",
       "      <td>1.9250</td>\n",
       "      <td>65500.0</td>\n",
       "    </tr>\n",
       "  </tbody>\n",
       "</table>\n",
       "</div>"
      ],
      "text/plain": [
       "   longitude  latitude  housing_median_age  total_rooms  total_bedrooms  \\\n",
       "0    -114.31     34.19                15.0       5612.0          1283.0   \n",
       "1    -114.47     34.40                19.0       7650.0          1901.0   \n",
       "2    -114.56     33.69                17.0        720.0           174.0   \n",
       "3    -114.57     33.64                14.0       1501.0           337.0   \n",
       "4    -114.57     33.57                20.0       1454.0           326.0   \n",
       "\n",
       "   population  households  median_income  median_house_value  \n",
       "0      1015.0       472.0         1.4936             66900.0  \n",
       "1      1129.0       463.0         1.8200             80100.0  \n",
       "2       333.0       117.0         1.6509             85700.0  \n",
       "3       515.0       226.0         3.1917             73400.0  \n",
       "4       624.0       262.0         1.9250             65500.0  "
      ]
     },
     "execution_count": 12,
     "metadata": {},
     "output_type": "execute_result"
    }
   ],
   "source": [
    "california_housing_dataframe.head()"
   ]
  },
  {
   "cell_type": "markdown",
   "metadata": {
    "colab_type": "text",
    "id": "iPAgZGIilcgY"
   },
   "source": [
    "# **Selecting subsets of a dataframe**"
   ]
  },
  {
   "cell_type": "markdown",
   "metadata": {
    "colab_type": "text",
    "id": "3iFiHBSAm31h"
   },
   "source": [
    "**Listing the indexes for the dataframe**"
   ]
  },
  {
   "cell_type": "code",
   "execution_count": 15,
   "metadata": {
    "colab": {},
    "colab_type": "code",
    "id": "vt7yJqkXlh5Y"
   },
   "outputs": [
    {
     "data": {
      "text/html": [
       "<div>\n",
       "<style scoped>\n",
       "    .dataframe tbody tr th:only-of-type {\n",
       "        vertical-align: middle;\n",
       "    }\n",
       "\n",
       "    .dataframe tbody tr th {\n",
       "        vertical-align: top;\n",
       "    }\n",
       "\n",
       "    .dataframe thead th {\n",
       "        text-align: right;\n",
       "    }\n",
       "</style>\n",
       "<table border=\"1\" class=\"dataframe\">\n",
       "  <thead>\n",
       "    <tr style=\"text-align: right;\">\n",
       "      <th></th>\n",
       "      <th>Index</th>\n",
       "      <th>\"Year\"</th>\n",
       "      <th>\"Age\"</th>\n",
       "      <th>\"Name\"</th>\n",
       "      <th>\"Movie\"</th>\n",
       "    </tr>\n",
       "  </thead>\n",
       "  <tbody>\n",
       "    <tr>\n",
       "      <th>84</th>\n",
       "      <td>85</td>\n",
       "      <td>2012</td>\n",
       "      <td>39</td>\n",
       "      <td>\"Jean Dujardin\"</td>\n",
       "      <td>\"The Artist\"</td>\n",
       "    </tr>\n",
       "    <tr>\n",
       "      <th>85</th>\n",
       "      <td>86</td>\n",
       "      <td>2013</td>\n",
       "      <td>55</td>\n",
       "      <td>\"Daniel Day-Lewis\"</td>\n",
       "      <td>\"Lincoln\"</td>\n",
       "    </tr>\n",
       "    <tr>\n",
       "      <th>86</th>\n",
       "      <td>87</td>\n",
       "      <td>2014</td>\n",
       "      <td>44</td>\n",
       "      <td>\"Matthew McConaughey\"</td>\n",
       "      <td>\"Dallas Buyers Club\"</td>\n",
       "    </tr>\n",
       "    <tr>\n",
       "      <th>87</th>\n",
       "      <td>88</td>\n",
       "      <td>2015</td>\n",
       "      <td>33</td>\n",
       "      <td>\"Eddie Redmayne\"</td>\n",
       "      <td>\"The Theory of Everything\"\\t</td>\n",
       "    </tr>\n",
       "    <tr>\n",
       "      <th>88</th>\n",
       "      <td>89</td>\n",
       "      <td>2016</td>\n",
       "      <td>41</td>\n",
       "      <td>\"Leonardo DiCaprio\"</td>\n",
       "      <td>\"The Revenant\"</td>\n",
       "    </tr>\n",
       "  </tbody>\n",
       "</table>\n",
       "</div>"
      ],
      "text/plain": [
       "    Index   \"Year\"   \"Age\"                  \"Name\"  \\\n",
       "84     85     2012      39         \"Jean Dujardin\"   \n",
       "85     86     2013      55      \"Daniel Day-Lewis\"   \n",
       "86     87     2014      44   \"Matthew McConaughey\"   \n",
       "87     88     2015      33        \"Eddie Redmayne\"   \n",
       "88     89     2016      41     \"Leonardo DiCaprio\"   \n",
       "\n",
       "                          \"Movie\"  \n",
       "84                   \"The Artist\"  \n",
       "85                      \"Lincoln\"  \n",
       "86           \"Dallas Buyers Club\"  \n",
       "87   \"The Theory of Everything\"\\t  \n",
       "88                 \"The Revenant\"  "
      ]
     },
     "execution_count": 15,
     "metadata": {},
     "output_type": "execute_result"
    }
   ],
   "source": [
    "#create a dataframe\n",
    "df2 = pd.read_csv(\"oscarNoErrors.csv\", sep=\",\",error_bad_lines=False)\n",
    "df2.tail()"
   ]
  },
  {
   "cell_type": "code",
   "execution_count": 16,
   "metadata": {
    "colab": {},
    "colab_type": "code",
    "id": "23_0RT-gnA4w"
   },
   "outputs": [],
   "source": [
    "#create a variable index to hold the indexes\n",
    "index = df2.index"
   ]
  },
  {
   "cell_type": "code",
   "execution_count": 17,
   "metadata": {
    "colab": {},
    "colab_type": "code",
    "id": "mIfVNi2StaqB"
   },
   "outputs": [
    {
     "data": {
      "text/plain": [
       "Index(['Index', ' \"Year\"', ' \"Age\"', ' \"Name\"', ' \"Movie\"'], dtype='object')"
      ]
     },
     "execution_count": 17,
     "metadata": {},
     "output_type": "execute_result"
    }
   ],
   "source": [
    "#create a variable to hold the column names\n",
    "columns1 = df2.columns\n",
    "columns1"
   ]
  },
  {
   "cell_type": "code",
   "execution_count": 18,
   "metadata": {
    "colab": {},
    "colab_type": "code",
    "id": "-HwfpnUVp7JA"
   },
   "outputs": [
    {
     "data": {
      "text/plain": [
       "array([[1, 1928, 44, ' \"Emil Jannings\"',\n",
       "        ' \"The Last Command The Way of All Flesh\"'],\n",
       "       [2, 1929, 41, ' \"Warner Baxter\"', ' \"In Old Arizona\"'],\n",
       "       [3, 1930, 62, ' \"George Arliss\"', ' \"Disraeli\"'],\n",
       "       [4, 1931, 53, ' \"Lionel Barrymore\"', ' \"A Free Soul\"'],\n",
       "       [5, 1932, 47, ' \"Wallace Beery\"', ' \"The Champ\"'],\n",
       "       [6, 1933, 35, ' \"Fredric March\"', ' \"Dr. Jekyll and Mr. Hyde\"'],\n",
       "       [7, 1934, 34, ' \"Charles Laughton\"',\n",
       "        ' \"The Private Life of Henry VIII\"'],\n",
       "       [8, 1935, 34, ' \"Clark Gable\"', ' \"It Happened One Night\"'],\n",
       "       [9, 1936, 49, ' \"Victor McLaglen\"', ' \"The Informer\"\\t'],\n",
       "       [10, 1937, 41, ' \"Paul Muni\"', ' \"The Story of Louis Pasteur\"\\t'],\n",
       "       [11, 1938, 37, ' \"Spencer Tracy\"', ' \"Captains Courageous\"'],\n",
       "       [12, 1939, 38, ' \"Spencer Tracy\"', ' \"Boys Town\"'],\n",
       "       [13, 1940, 34, ' \"Robert Donat\"', ' \"Goodbye Mr. Chips\"\\t'],\n",
       "       [14, 1941, 32, ' \"James Stewart\"', ' \"The Philadelphia Story\"'],\n",
       "       [15, 1942, 40, ' \"Gary Cooper\"', ' \"Sergeant York\"'],\n",
       "       [16, 1943, 43, ' \"James Cagney\"', ' \"Yankee Doodle Dandy\"\\t'],\n",
       "       [17, 1944, 48, ' \"Paul Lukas\"', ' \"Watch on the Rhine\"\\t'],\n",
       "       [18, 1945, 41, ' \"Bing Crosby\"', ' \"Going My Way\"'],\n",
       "       [19, 1946, 39, ' \"Ray Milland\"', ' \"The Lost Weekend\" \\t'],\n",
       "       [20, 1947, 49, ' \"Fredric March\"',\n",
       "        ' \"The Best Years of Our Lives\"'],\n",
       "       [21, 1948, 57, ' \"Ronald Colman\"', ' \"A Double Life\"'],\n",
       "       [22, 1949, 41, ' \"Laurence Olivier\"', ' \"Hamlet\"'],\n",
       "       [23, 1950, 38, ' \"Broderick Crawford\"', ' \"All the King\\'s Men\"'],\n",
       "       [24, 1951, 39, ' \"José Ferrer\"', ' \"Cyrano de Bergerac\"'],\n",
       "       [25, 1952, 52, ' \"Humphrey Bogart\"', ' \"The African Queen\"'],\n",
       "       [26, 1953, 51, ' \"Gary Cooper\"', ' \"High Noon\"'],\n",
       "       [27, 1954, 35, ' \"William Holden\"', ' \"Stalag 17\"'],\n",
       "       [28, 1955, 30, ' \"Marlon Brando\"', ' \"On the Waterfront\"'],\n",
       "       [29, 1956, 39, ' \"Ernest Borgnine\"', ' \"Marty\"'],\n",
       "       [30, 1957, 36, ' \"Yul Brynner\"', ' \"The King and I\"'],\n",
       "       [31, 1958, 43, ' \"Alec Guinness\"',\n",
       "        ' \"The Bridge on the River Kwai\"'],\n",
       "       [32, 1959, 49, ' \"David Niven\"', ' \"Separate Tables\"'],\n",
       "       [33, 1960, 36, ' \"Charlton Heston\"', ' \"Ben-Hur\"'],\n",
       "       [34, 1961, 47, ' \"Burt Lancaster\"', ' \"Elmer Gantry\"'],\n",
       "       [35, 1962, 31, ' \"Maximilian Schell\"',\n",
       "        ' \"Judgment at Nuremberg\"\\t'],\n",
       "       [36, 1963, 47, ' \"Gregory Peck\"', ' \"To Kill a Mockingbird\"'],\n",
       "       [37, 1964, 37, ' \"Sidney Poitier\"', ' \"Lilies of the Field\"'],\n",
       "       [38, 1965, 57, ' \"Rex Harrison\"', ' \"My Fair Lady\"'],\n",
       "       [39, 1966, 42, ' \"Lee Marvin\"', ' \"Cat Ballou\"\\t'],\n",
       "       [40, 1967, 45, ' \"Paul Scofield\"', ' \"A Man for All Seasons\"'],\n",
       "       [41, 1968, 42, ' \"Rod Steiger\"', ' \"In the Heat of the Night\"\\t'],\n",
       "       [42, 1969, 45, ' \"Cliff Robertson\"', ' \"Charly\"'],\n",
       "       [43, 1970, 62, ' \"John Wayne\"', ' \"True Grit\"'],\n",
       "       [44, 1971, 43, ' \"George C. Scott\"', ' \"Patton\"'],\n",
       "       [45, 1972, 42, ' \"Gene Hackman\"', ' \"The French Connection\"'],\n",
       "       [46, 1973, 48, ' \"Marlon Brando\"', ' \"The Godfather\"'],\n",
       "       [47, 1974, 49, ' \"Jack Lemmon\"', ' \"Save the Tiger\"'],\n",
       "       [48, 1975, 56, ' \"Art Carney\"', ' \"Harry and Tonto\"'],\n",
       "       [49, 1976, 38, ' \"Jack Nicholson\"',\n",
       "        ' \"One Flew Over the Cuckoo\\'s Nest\"'],\n",
       "       [50, 1977, 60, ' \"Peter Finch\"', ' \"Network\"'],\n",
       "       [51, 1978, 30, ' \"Richard Dreyfuss\"', ' \"The Goodbye Girl\"'],\n",
       "       [52, 1979, 40, ' \"Jon Voight\"', ' \"Coming Home\"'],\n",
       "       [53, 1980, 42, ' \"Dustin Hoffman\"', ' \"Kramer vs. Kramer\"'],\n",
       "       [54, 1981, 37, ' \"Robert De Niro\"', ' \"Raging Bull\"'],\n",
       "       [55, 1982, 76, ' \"Henry Fonda\"', ' \"On Golden Pond\"'],\n",
       "       [56, 1983, 39, ' \"Ben Kingsley\"', ' \"Gandhi\"'],\n",
       "       [57, 1984, 53, ' \"Robert Duvall\"', ' \"Tender Mercies\"'],\n",
       "       [58, 1985, 45, ' \"F. Murray Abraham\"', ' \"Amadeus\"'],\n",
       "       [59, 1986, 36, ' \"William Hurt\"', ' \"Kiss of the Spider Woman\"'],\n",
       "       [60, 1987, 62, ' \"Paul Newman\"', ' \"The Color of Money\"'],\n",
       "       [61, 1988, 43, ' \"Michael Douglas\"', ' \"Wall Street\"'],\n",
       "       [62, 1989, 51, ' \"Dustin Hoffman\"', ' \"Rain Man\"'],\n",
       "       [63, 1990, 32, ' \"Daniel Day-Lewis\"', ' \"My Left Foot\"'],\n",
       "       [64, 1991, 42, ' \"Jeremy Irons\"', ' \"Reversal of Fortune\"'],\n",
       "       [65, 1992, 54, ' \"Anthony Hopkins\"',\n",
       "        ' \"The Silence of the Lambs\"'],\n",
       "       [66, 1993, 52, ' \"Al Pacino\"', ' \"Scent of a Woman\"'],\n",
       "       [67, 1994, 37, ' \"Tom Hanks\"', ' \"Philadelphia\"'],\n",
       "       [68, 1995, 38, ' \"Tom Hanks\"', ' \"Forrest Gump\"'],\n",
       "       [69, 1996, 32, ' \"Nicolas Cage\"', ' \"Leaving Las Vegas\"'],\n",
       "       [70, 1997, 45, ' \"Geoffrey Rush\"', ' \"Shine\"'],\n",
       "       [71, 1998, 60, ' \"Jack Nicholson\"', ' \"As Good as It Gets\"'],\n",
       "       [72, 1999, 46, ' \"Roberto Benigni\"', ' \"Life Is Beautiful\"'],\n",
       "       [73, 2000, 40, ' \"Kevin Spacey\"', ' \"American Beauty\"'],\n",
       "       [74, 2001, 36, ' \"Russell Crowe\"', ' \"Gladiator\"'],\n",
       "       [75, 2002, 47, ' \"Denzel Washington\"', ' \"Training Day\"\\t'],\n",
       "       [76, 2003, 29, ' \"Adrien Brody\"', ' \"The Pianist\"'],\n",
       "       [77, 2004, 43, ' \"Sean Penn\"', ' \"Mystic River\"'],\n",
       "       [78, 2005, 37, ' \"Jamie Foxx\"', ' \"Ray\"'],\n",
       "       [79, 2006, 38, ' \"Philip Seymour Hoffman\"', ' \"Capote\"'],\n",
       "       [80, 2007, 45, ' \"Forest Whitaker\"',\n",
       "        ' \"The Last King of Scotland\"\\t'],\n",
       "       [81, 2008, 50, ' \"Daniel Day-Lewis\"', ' \"There Will Be Blood\"'],\n",
       "       [82, 2009, 48, ' \"Sean Penn\"', ' \"Milk\"'],\n",
       "       [83, 2010, 60, ' \"Jeff Bridges\"', ' \"Crazy Heart\"'],\n",
       "       [84, 2011, 50, ' \"Colin Firth\"', ' \"The King\\'s Speech\"\\t'],\n",
       "       [85, 2012, 39, ' \"Jean Dujardin\"', ' \"The Artist\"'],\n",
       "       [86, 2013, 55, ' \"Daniel Day-Lewis\"', ' \"Lincoln\"'],\n",
       "       [87, 2014, 44, ' \"Matthew McConaughey\"', ' \"Dallas Buyers Club\"'],\n",
       "       [88, 2015, 33, ' \"Eddie Redmayne\"',\n",
       "        ' \"The Theory of Everything\"\\t'],\n",
       "       [89, 2016, 41, ' \"Leonardo DiCaprio\"', ' \"The Revenant\"']],\n",
       "      dtype=object)"
      ]
     },
     "execution_count": 18,
     "metadata": {},
     "output_type": "execute_result"
    }
   ],
   "source": [
    "#create a variable to hold all the values of the dataframe\n",
    "values = df2.values\n",
    "values"
   ]
  },
  {
   "cell_type": "markdown",
   "metadata": {
    "colab_type": "text",
    "id": "jxQJ3zKanmU3"
   },
   "source": [
    "\n",
    "1. Create a Pandas dataframe using the California housing data<br>\n",
    "2. Create a variable to hold the column housing_median_age\n",
    "3. Create a variable to hold all the values in the dataset, without the column names. "
   ]
  },
  {
   "cell_type": "code",
   "execution_count": 19,
   "metadata": {
    "colab": {},
    "colab_type": "code",
    "id": "XDY0UbYlqM8z"
   },
   "outputs": [
    {
     "name": "stdout",
     "output_type": "stream",
     "text": [
      "       housing_median_age\n",
      "0                    15.0\n",
      "1                    19.0\n",
      "2                    17.0\n",
      "3                    14.0\n",
      "4                    20.0\n",
      "...                   ...\n",
      "16995                52.0\n",
      "16996                36.0\n",
      "16997                17.0\n",
      "16998                19.0\n",
      "16999                52.0\n",
      "\n",
      "[17000 rows x 1 columns]\n"
     ]
    },
    {
     "data": {
      "text/plain": [
       "array([[-1.1431e+02,  3.4190e+01,  1.5000e+01, ...,  4.7200e+02,\n",
       "         1.4936e+00,  6.6900e+04],\n",
       "       [-1.1447e+02,  3.4400e+01,  1.9000e+01, ...,  4.6300e+02,\n",
       "         1.8200e+00,  8.0100e+04],\n",
       "       [-1.1456e+02,  3.3690e+01,  1.7000e+01, ...,  1.1700e+02,\n",
       "         1.6509e+00,  8.5700e+04],\n",
       "       ...,\n",
       "       [-1.2430e+02,  4.1840e+01,  1.7000e+01, ...,  4.5600e+02,\n",
       "         3.0313e+00,  1.0360e+05],\n",
       "       [-1.2430e+02,  4.1800e+01,  1.9000e+01, ...,  4.7800e+02,\n",
       "         1.9797e+00,  8.5800e+04],\n",
       "       [-1.2435e+02,  4.0540e+01,  5.2000e+01, ...,  2.7000e+02,\n",
       "         3.0147e+00,  9.4600e+04]])"
      ]
     },
     "execution_count": 19,
     "metadata": {},
     "output_type": "execute_result"
    }
   ],
   "source": [
    "california_housing_dataframe = pd.read_csv(\"https://download.mlcc.google.com/mledu-datasets/california_housing_train.csv\", sep=\",\")\n",
    "housing_median_age = california_housing_dataframe[[\"housing_median_age\"]]\n",
    "print(housing_median_age)\n",
    "\n",
    "chdf = california_housing_dataframe.values\n",
    "chdf"
   ]
  },
  {
   "cell_type": "markdown",
   "metadata": {
    "colab_type": "text",
    "id": "A0aYtJbhm87p"
   },
   "source": [
    "**To select a columns of the dataframe**"
   ]
  },
  {
   "cell_type": "code",
   "execution_count": 20,
   "metadata": {
    "colab": {},
    "colab_type": "code",
    "id": "y_GXwIQvqe91"
   },
   "outputs": [
    {
     "data": {
      "text/html": [
       "<div>\n",
       "<style scoped>\n",
       "    .dataframe tbody tr th:only-of-type {\n",
       "        vertical-align: middle;\n",
       "    }\n",
       "\n",
       "    .dataframe tbody tr th {\n",
       "        vertical-align: top;\n",
       "    }\n",
       "\n",
       "    .dataframe thead th {\n",
       "        text-align: right;\n",
       "    }\n",
       "</style>\n",
       "<table border=\"1\" class=\"dataframe\">\n",
       "  <thead>\n",
       "    <tr style=\"text-align: right;\">\n",
       "      <th></th>\n",
       "      <th>\"Name\"</th>\n",
       "      <th>\"Year\"</th>\n",
       "    </tr>\n",
       "  </thead>\n",
       "  <tbody>\n",
       "    <tr>\n",
       "      <th>0</th>\n",
       "      <td>\"Emil Jannings\"</td>\n",
       "      <td>1928</td>\n",
       "    </tr>\n",
       "    <tr>\n",
       "      <th>1</th>\n",
       "      <td>\"Warner Baxter\"</td>\n",
       "      <td>1929</td>\n",
       "    </tr>\n",
       "    <tr>\n",
       "      <th>2</th>\n",
       "      <td>\"George Arliss\"</td>\n",
       "      <td>1930</td>\n",
       "    </tr>\n",
       "    <tr>\n",
       "      <th>3</th>\n",
       "      <td>\"Lionel Barrymore\"</td>\n",
       "      <td>1931</td>\n",
       "    </tr>\n",
       "    <tr>\n",
       "      <th>4</th>\n",
       "      <td>\"Wallace Beery\"</td>\n",
       "      <td>1932</td>\n",
       "    </tr>\n",
       "    <tr>\n",
       "      <th>...</th>\n",
       "      <td>...</td>\n",
       "      <td>...</td>\n",
       "    </tr>\n",
       "    <tr>\n",
       "      <th>84</th>\n",
       "      <td>\"Jean Dujardin\"</td>\n",
       "      <td>2012</td>\n",
       "    </tr>\n",
       "    <tr>\n",
       "      <th>85</th>\n",
       "      <td>\"Daniel Day-Lewis\"</td>\n",
       "      <td>2013</td>\n",
       "    </tr>\n",
       "    <tr>\n",
       "      <th>86</th>\n",
       "      <td>\"Matthew McConaughey\"</td>\n",
       "      <td>2014</td>\n",
       "    </tr>\n",
       "    <tr>\n",
       "      <th>87</th>\n",
       "      <td>\"Eddie Redmayne\"</td>\n",
       "      <td>2015</td>\n",
       "    </tr>\n",
       "    <tr>\n",
       "      <th>88</th>\n",
       "      <td>\"Leonardo DiCaprio\"</td>\n",
       "      <td>2016</td>\n",
       "    </tr>\n",
       "  </tbody>\n",
       "</table>\n",
       "<p>89 rows × 2 columns</p>\n",
       "</div>"
      ],
      "text/plain": [
       "                    \"Name\"   \"Year\"\n",
       "0          \"Emil Jannings\"     1928\n",
       "1          \"Warner Baxter\"     1929\n",
       "2          \"George Arliss\"     1930\n",
       "3       \"Lionel Barrymore\"     1931\n",
       "4          \"Wallace Beery\"     1932\n",
       "..                     ...      ...\n",
       "84         \"Jean Dujardin\"     2012\n",
       "85      \"Daniel Day-Lewis\"     2013\n",
       "86   \"Matthew McConaughey\"     2014\n",
       "87        \"Eddie Redmayne\"     2015\n",
       "88     \"Leonardo DiCaprio\"     2016\n",
       "\n",
       "[89 rows x 2 columns]"
      ]
     },
     "execution_count": 20,
     "metadata": {},
     "output_type": "execute_result"
    }
   ],
   "source": [
    "#create a dataframe\n",
    "df2 = pd.read_csv(\"oscarNoErrors.csv\", sep=\",\",error_bad_lines=False)\n",
    "df2[[' \"Name\"',' \"Year\"']]"
   ]
  },
  {
   "cell_type": "markdown",
   "metadata": {
    "colab_type": "text",
    "id": "bv_YLHGCuvqD"
   },
   "source": [
    "# **The .loc indexer**\n",
    "The .loc indexer selects data in a different way than just the indexing operator. It can select subsets of rows or columns. It can also simultaneously select subsets of rows and columns. Most importantly, it only selects data by the LABEL of the rows and columns.<br><br>\n",
    "\n",
    "https://pandas.pydata.org/pandas-docs/stable/reference/api/pandas.DataFrame.loc.html\n"
   ]
  },
  {
   "cell_type": "code",
   "execution_count": 21,
   "metadata": {
    "colab": {},
    "colab_type": "code",
    "id": "wp24wGvXq_2h"
   },
   "outputs": [
    {
     "name": "stdout",
     "output_type": "stream",
     "text": [
      "Index(['longitude', 'latitude', 'housing_median_age', 'total_rooms',\n",
      "       'total_bedrooms', 'population', 'households', 'median_income',\n",
      "       'median_house_value'],\n",
      "      dtype='object')\n",
      "\n",
      "\n"
     ]
    },
    {
     "data": {
      "text/plain": [
       "0        5612.0\n",
       "1        7650.0\n",
       "2         720.0\n",
       "3        1501.0\n",
       "4        1454.0\n",
       "          ...  \n",
       "16995    2217.0\n",
       "16996    2349.0\n",
       "16997    2677.0\n",
       "16998    2672.0\n",
       "16999    1820.0\n",
       "Name: total_rooms, Length: 17000, dtype: float64"
      ]
     },
     "execution_count": 21,
     "metadata": {},
     "output_type": "execute_result"
    }
   ],
   "source": [
    "#the .loc will return a single row of data when given the index of the row\n",
    "#It returns a dataframe when the columns names are now the index values\n",
    "print(california_housing_dataframe.columns)\n",
    "print(\"\\n\")\n",
    "#columns\n",
    "california_housing_dataframe.loc[:,'total_rooms']"
   ]
  },
  {
   "cell_type": "code",
   "execution_count": 22,
   "metadata": {
    "colab": {},
    "colab_type": "code",
    "id": "SVCn1TRcHCdg"
   },
   "outputs": [
    {
     "name": "stdout",
     "output_type": "stream",
     "text": [
      "returns a series: \n",
      " Index                     85\n",
      " \"Year\"                 2012\n",
      " \"Age\"                    39\n",
      " \"Name\"      \"Jean Dujardin\"\n",
      " \"Movie\"        \"The Artist\"\n",
      "Name: 84, dtype: object\n",
      "\n",
      "\n",
      "returns a dataframe: \n",
      "\n"
     ]
    },
    {
     "data": {
      "text/html": [
       "<div>\n",
       "<style scoped>\n",
       "    .dataframe tbody tr th:only-of-type {\n",
       "        vertical-align: middle;\n",
       "    }\n",
       "\n",
       "    .dataframe tbody tr th {\n",
       "        vertical-align: top;\n",
       "    }\n",
       "\n",
       "    .dataframe thead th {\n",
       "        text-align: right;\n",
       "    }\n",
       "</style>\n",
       "<table border=\"1\" class=\"dataframe\">\n",
       "  <thead>\n",
       "    <tr style=\"text-align: right;\">\n",
       "      <th></th>\n",
       "      <th>Index</th>\n",
       "      <th>\"Year\"</th>\n",
       "      <th>\"Age\"</th>\n",
       "      <th>\"Name\"</th>\n",
       "      <th>\"Movie\"</th>\n",
       "    </tr>\n",
       "  </thead>\n",
       "  <tbody>\n",
       "    <tr>\n",
       "      <th>84</th>\n",
       "      <td>85</td>\n",
       "      <td>2012</td>\n",
       "      <td>39</td>\n",
       "      <td>\"Jean Dujardin\"</td>\n",
       "      <td>\"The Artist\"</td>\n",
       "    </tr>\n",
       "  </tbody>\n",
       "</table>\n",
       "</div>"
      ],
      "text/plain": [
       "    Index   \"Year\"   \"Age\"            \"Name\"        \"Movie\"\n",
       "84     85     2012      39   \"Jean Dujardin\"   \"The Artist\""
      ]
     },
     "execution_count": 22,
     "metadata": {},
     "output_type": "execute_result"
    }
   ],
   "source": [
    "#rows - use index values to identify rows\n",
    "df2 = pd.read_csv(\"oscarNoErrors.csv\", sep=\",\",error_bad_lines=False)\n",
    "print(\"returns a series: \\n\",df2.loc[84])\n",
    "print(\"\\n\\nreturns a dataframe: \\n\")\n",
    "df2.loc[[84]]"
   ]
  },
  {
   "cell_type": "markdown",
   "metadata": {
    "colab_type": "text",
    "id": "wWZ1PHQBvkH0"
   },
   "source": [
    "\n",
    "1. Using the california housing data\n",
    "2.Create a dataframe from indexed rows 5-10<br><br>\n"
   ]
  },
  {
   "cell_type": "code",
   "execution_count": 23,
   "metadata": {
    "colab": {},
    "colab_type": "code",
    "id": "PpT8gczav43B"
   },
   "outputs": [
    {
     "data": {
      "text/html": [
       "<div>\n",
       "<style scoped>\n",
       "    .dataframe tbody tr th:only-of-type {\n",
       "        vertical-align: middle;\n",
       "    }\n",
       "\n",
       "    .dataframe tbody tr th {\n",
       "        vertical-align: top;\n",
       "    }\n",
       "\n",
       "    .dataframe thead th {\n",
       "        text-align: right;\n",
       "    }\n",
       "</style>\n",
       "<table border=\"1\" class=\"dataframe\">\n",
       "  <thead>\n",
       "    <tr style=\"text-align: right;\">\n",
       "      <th></th>\n",
       "      <th>longitude</th>\n",
       "      <th>latitude</th>\n",
       "      <th>housing_median_age</th>\n",
       "      <th>total_rooms</th>\n",
       "      <th>total_bedrooms</th>\n",
       "      <th>population</th>\n",
       "      <th>households</th>\n",
       "      <th>median_income</th>\n",
       "      <th>median_house_value</th>\n",
       "    </tr>\n",
       "  </thead>\n",
       "  <tbody>\n",
       "    <tr>\n",
       "      <th>5</th>\n",
       "      <td>-114.58</td>\n",
       "      <td>33.63</td>\n",
       "      <td>29.0</td>\n",
       "      <td>1387.0</td>\n",
       "      <td>236.0</td>\n",
       "      <td>671.0</td>\n",
       "      <td>239.0</td>\n",
       "      <td>3.3438</td>\n",
       "      <td>74000.0</td>\n",
       "    </tr>\n",
       "    <tr>\n",
       "      <th>6</th>\n",
       "      <td>-114.58</td>\n",
       "      <td>33.61</td>\n",
       "      <td>25.0</td>\n",
       "      <td>2907.0</td>\n",
       "      <td>680.0</td>\n",
       "      <td>1841.0</td>\n",
       "      <td>633.0</td>\n",
       "      <td>2.6768</td>\n",
       "      <td>82400.0</td>\n",
       "    </tr>\n",
       "    <tr>\n",
       "      <th>7</th>\n",
       "      <td>-114.59</td>\n",
       "      <td>34.83</td>\n",
       "      <td>41.0</td>\n",
       "      <td>812.0</td>\n",
       "      <td>168.0</td>\n",
       "      <td>375.0</td>\n",
       "      <td>158.0</td>\n",
       "      <td>1.7083</td>\n",
       "      <td>48500.0</td>\n",
       "    </tr>\n",
       "    <tr>\n",
       "      <th>8</th>\n",
       "      <td>-114.59</td>\n",
       "      <td>33.61</td>\n",
       "      <td>34.0</td>\n",
       "      <td>4789.0</td>\n",
       "      <td>1175.0</td>\n",
       "      <td>3134.0</td>\n",
       "      <td>1056.0</td>\n",
       "      <td>2.1782</td>\n",
       "      <td>58400.0</td>\n",
       "    </tr>\n",
       "    <tr>\n",
       "      <th>9</th>\n",
       "      <td>-114.60</td>\n",
       "      <td>34.83</td>\n",
       "      <td>46.0</td>\n",
       "      <td>1497.0</td>\n",
       "      <td>309.0</td>\n",
       "      <td>787.0</td>\n",
       "      <td>271.0</td>\n",
       "      <td>2.1908</td>\n",
       "      <td>48100.0</td>\n",
       "    </tr>\n",
       "    <tr>\n",
       "      <th>10</th>\n",
       "      <td>-114.60</td>\n",
       "      <td>33.62</td>\n",
       "      <td>16.0</td>\n",
       "      <td>3741.0</td>\n",
       "      <td>801.0</td>\n",
       "      <td>2434.0</td>\n",
       "      <td>824.0</td>\n",
       "      <td>2.6797</td>\n",
       "      <td>86500.0</td>\n",
       "    </tr>\n",
       "  </tbody>\n",
       "</table>\n",
       "</div>"
      ],
      "text/plain": [
       "    longitude  latitude  housing_median_age  total_rooms  total_bedrooms  \\\n",
       "5     -114.58     33.63                29.0       1387.0           236.0   \n",
       "6     -114.58     33.61                25.0       2907.0           680.0   \n",
       "7     -114.59     34.83                41.0        812.0           168.0   \n",
       "8     -114.59     33.61                34.0       4789.0          1175.0   \n",
       "9     -114.60     34.83                46.0       1497.0           309.0   \n",
       "10    -114.60     33.62                16.0       3741.0           801.0   \n",
       "\n",
       "    population  households  median_income  median_house_value  \n",
       "5        671.0       239.0         3.3438             74000.0  \n",
       "6       1841.0       633.0         2.6768             82400.0  \n",
       "7        375.0       158.0         1.7083             48500.0  \n",
       "8       3134.0      1056.0         2.1782             58400.0  \n",
       "9        787.0       271.0         2.1908             48100.0  \n",
       "10      2434.0       824.0         2.6797             86500.0  "
      ]
     },
     "execution_count": 23,
     "metadata": {},
     "output_type": "execute_result"
    }
   ],
   "source": [
    "california_housing_dataframe.loc[5:10]"
   ]
  },
  {
   "cell_type": "markdown",
   "metadata": {
    "colab_type": "text",
    "id": "aAQy-BntxpuB"
   },
   "source": [
    "Using the california housing data<br>\n",
    "Create a dataframe from indexed rows 2-6 and longitude\tand latitude columns"
   ]
  },
  {
   "cell_type": "code",
   "execution_count": 24,
   "metadata": {
    "colab": {},
    "colab_type": "code",
    "id": "3EkVUWjNx65E"
   },
   "outputs": [
    {
     "data": {
      "text/html": [
       "<div>\n",
       "<style scoped>\n",
       "    .dataframe tbody tr th:only-of-type {\n",
       "        vertical-align: middle;\n",
       "    }\n",
       "\n",
       "    .dataframe tbody tr th {\n",
       "        vertical-align: top;\n",
       "    }\n",
       "\n",
       "    .dataframe thead th {\n",
       "        text-align: right;\n",
       "    }\n",
       "</style>\n",
       "<table border=\"1\" class=\"dataframe\">\n",
       "  <thead>\n",
       "    <tr style=\"text-align: right;\">\n",
       "      <th></th>\n",
       "      <th>longitude</th>\n",
       "      <th>latitude</th>\n",
       "    </tr>\n",
       "  </thead>\n",
       "  <tbody>\n",
       "    <tr>\n",
       "      <th>2</th>\n",
       "      <td>-114.56</td>\n",
       "      <td>33.69</td>\n",
       "    </tr>\n",
       "    <tr>\n",
       "      <th>3</th>\n",
       "      <td>-114.57</td>\n",
       "      <td>33.64</td>\n",
       "    </tr>\n",
       "    <tr>\n",
       "      <th>4</th>\n",
       "      <td>-114.57</td>\n",
       "      <td>33.57</td>\n",
       "    </tr>\n",
       "    <tr>\n",
       "      <th>5</th>\n",
       "      <td>-114.58</td>\n",
       "      <td>33.63</td>\n",
       "    </tr>\n",
       "    <tr>\n",
       "      <th>6</th>\n",
       "      <td>-114.58</td>\n",
       "      <td>33.61</td>\n",
       "    </tr>\n",
       "  </tbody>\n",
       "</table>\n",
       "</div>"
      ],
      "text/plain": [
       "   longitude  latitude\n",
       "2    -114.56     33.69\n",
       "3    -114.57     33.64\n",
       "4    -114.57     33.57\n",
       "5    -114.58     33.63\n",
       "6    -114.58     33.61"
      ]
     },
     "execution_count": 24,
     "metadata": {},
     "output_type": "execute_result"
    }
   ],
   "source": [
    "df = california_housing_dataframe.loc[2:6]\n",
    "df[['longitude', 'latitude']]"
   ]
  },
  {
   "cell_type": "markdown",
   "metadata": {
    "colab_type": "text",
    "id": "n_K167wwyMRy"
   },
   "source": [
    "# **The .iloc indexer**\n",
    "the iloc indexer is similar .loc, but .iloc only uses integer locations. <br><br>\n",
    "https://pandas.pydata.org/pandas-docs/stable/reference/api/pandas.DataFrame.iloc.html\n",
    "\n"
   ]
  },
  {
   "cell_type": "code",
   "execution_count": 25,
   "metadata": {
    "colab": {},
    "colab_type": "code",
    "id": "imGxvewPyu_e"
   },
   "outputs": [
    {
     "name": "stdout",
     "output_type": "stream",
     "text": [
      "Index                                    31\n",
      " \"Year\"                                1958\n",
      " \"Age\"                                   43\n",
      " \"Name\"                     \"Alec Guinness\"\n",
      " \"Movie\"     \"The Bridge on the River Kwai\"\n",
      "Name: 30, dtype: object\n",
      "\n",
      "\n",
      "0            \"Emil Jannings\"\n",
      "1            \"Warner Baxter\"\n",
      "2            \"George Arliss\"\n",
      "3         \"Lionel Barrymore\"\n",
      "4            \"Wallace Beery\"\n",
      "               ...          \n",
      "84           \"Jean Dujardin\"\n",
      "85        \"Daniel Day-Lewis\"\n",
      "86     \"Matthew McConaughey\"\n",
      "87          \"Eddie Redmayne\"\n",
      "88       \"Leonardo DiCaprio\"\n",
      "Name:  \"Name\", Length: 89, dtype: object\n",
      "\n",
      "\n"
     ]
    },
    {
     "data": {
      "text/html": [
       "<div>\n",
       "<style scoped>\n",
       "    .dataframe tbody tr th:only-of-type {\n",
       "        vertical-align: middle;\n",
       "    }\n",
       "\n",
       "    .dataframe tbody tr th {\n",
       "        vertical-align: top;\n",
       "    }\n",
       "\n",
       "    .dataframe thead th {\n",
       "        text-align: right;\n",
       "    }\n",
       "</style>\n",
       "<table border=\"1\" class=\"dataframe\">\n",
       "  <thead>\n",
       "    <tr style=\"text-align: right;\">\n",
       "      <th></th>\n",
       "      <th>\"Age\"</th>\n",
       "      <th>\"Name\"</th>\n",
       "      <th>\"Movie\"</th>\n",
       "    </tr>\n",
       "  </thead>\n",
       "  <tbody>\n",
       "    <tr>\n",
       "      <th>4</th>\n",
       "      <td>47</td>\n",
       "      <td>\"Wallace Beery\"</td>\n",
       "      <td>\"The Champ\"</td>\n",
       "    </tr>\n",
       "    <tr>\n",
       "      <th>5</th>\n",
       "      <td>35</td>\n",
       "      <td>\"Fredric March\"</td>\n",
       "      <td>\"Dr. Jekyll and Mr. Hyde\"</td>\n",
       "    </tr>\n",
       "    <tr>\n",
       "      <th>6</th>\n",
       "      <td>34</td>\n",
       "      <td>\"Charles Laughton\"</td>\n",
       "      <td>\"The Private Life of Henry VIII\"</td>\n",
       "    </tr>\n",
       "  </tbody>\n",
       "</table>\n",
       "</div>"
      ],
      "text/plain": [
       "    \"Age\"               \"Name\"                            \"Movie\"\n",
       "4      47      \"Wallace Beery\"                        \"The Champ\"\n",
       "5      35      \"Fredric March\"          \"Dr. Jekyll and Mr. Hyde\"\n",
       "6      34   \"Charles Laughton\"   \"The Private Life of Henry VIII\""
      ]
     },
     "execution_count": 25,
     "metadata": {},
     "output_type": "execute_result"
    }
   ],
   "source": [
    "#select a single row\n",
    "print(df2.iloc[30])\n",
    "print(\"\\n\")\n",
    "print(df2.iloc[:,3])\n",
    "print(\"\\n\")\n",
    "df2.iloc[4:7,2:5]"
   ]
  },
  {
   "cell_type": "code",
   "execution_count": 26,
   "metadata": {
    "colab": {},
    "colab_type": "code",
    "id": "V3J51GF6y3Ls"
   },
   "outputs": [
    {
     "data": {
      "text/html": [
       "<div>\n",
       "<style scoped>\n",
       "    .dataframe tbody tr th:only-of-type {\n",
       "        vertical-align: middle;\n",
       "    }\n",
       "\n",
       "    .dataframe tbody tr th {\n",
       "        vertical-align: top;\n",
       "    }\n",
       "\n",
       "    .dataframe thead th {\n",
       "        text-align: right;\n",
       "    }\n",
       "</style>\n",
       "<table border=\"1\" class=\"dataframe\">\n",
       "  <thead>\n",
       "    <tr style=\"text-align: right;\">\n",
       "      <th></th>\n",
       "      <th>Index</th>\n",
       "      <th>\"Year\"</th>\n",
       "      <th>\"Age\"</th>\n",
       "      <th>\"Name\"</th>\n",
       "      <th>\"Movie\"</th>\n",
       "    </tr>\n",
       "  </thead>\n",
       "  <tbody>\n",
       "    <tr>\n",
       "      <th>44</th>\n",
       "      <td>45</td>\n",
       "      <td>1972</td>\n",
       "      <td>42</td>\n",
       "      <td>\"Gene Hackman\"</td>\n",
       "      <td>\"The French Connection\"</td>\n",
       "    </tr>\n",
       "    <tr>\n",
       "      <th>55</th>\n",
       "      <td>56</td>\n",
       "      <td>1983</td>\n",
       "      <td>39</td>\n",
       "      <td>\"Ben Kingsley\"</td>\n",
       "      <td>\"Gandhi\"</td>\n",
       "    </tr>\n",
       "    <tr>\n",
       "      <th>60</th>\n",
       "      <td>61</td>\n",
       "      <td>1988</td>\n",
       "      <td>43</td>\n",
       "      <td>\"Michael Douglas\"</td>\n",
       "      <td>\"Wall Street\"</td>\n",
       "    </tr>\n",
       "  </tbody>\n",
       "</table>\n",
       "</div>"
      ],
      "text/plain": [
       "    Index   \"Year\"   \"Age\"              \"Name\"                   \"Movie\"\n",
       "44     45     1972      42      \"Gene Hackman\"   \"The French Connection\"\n",
       "55     56     1983      39      \"Ben Kingsley\"                  \"Gandhi\"\n",
       "60     61     1988      43   \"Michael Douglas\"             \"Wall Street\""
      ]
     },
     "execution_count": 26,
     "metadata": {},
     "output_type": "execute_result"
    }
   ],
   "source": [
    "#select multiple rows\n",
    "df2.iloc[[44,55,60]]"
   ]
  },
  {
   "cell_type": "markdown",
   "metadata": {
    "colab_type": "text",
    "id": "4HDRgre4zWYI"
   },
   "source": [
    "\n",
    "Using the california housing data and iloc<br>\n",
    "Create a dataframe from indexed rows 2-6 and longitude\tand latitude columns"
   ]
  },
  {
   "cell_type": "code",
   "execution_count": 27,
   "metadata": {
    "colab": {},
    "colab_type": "code",
    "id": "gkBmGU1tzjKB"
   },
   "outputs": [
    {
     "data": {
      "text/html": [
       "<div>\n",
       "<style scoped>\n",
       "    .dataframe tbody tr th:only-of-type {\n",
       "        vertical-align: middle;\n",
       "    }\n",
       "\n",
       "    .dataframe tbody tr th {\n",
       "        vertical-align: top;\n",
       "    }\n",
       "\n",
       "    .dataframe thead th {\n",
       "        text-align: right;\n",
       "    }\n",
       "</style>\n",
       "<table border=\"1\" class=\"dataframe\">\n",
       "  <thead>\n",
       "    <tr style=\"text-align: right;\">\n",
       "      <th></th>\n",
       "      <th>longitude</th>\n",
       "      <th>latitude</th>\n",
       "    </tr>\n",
       "  </thead>\n",
       "  <tbody>\n",
       "    <tr>\n",
       "      <th>2</th>\n",
       "      <td>-114.56</td>\n",
       "      <td>33.69</td>\n",
       "    </tr>\n",
       "    <tr>\n",
       "      <th>3</th>\n",
       "      <td>-114.57</td>\n",
       "      <td>33.64</td>\n",
       "    </tr>\n",
       "    <tr>\n",
       "      <th>4</th>\n",
       "      <td>-114.57</td>\n",
       "      <td>33.57</td>\n",
       "    </tr>\n",
       "    <tr>\n",
       "      <th>5</th>\n",
       "      <td>-114.58</td>\n",
       "      <td>33.63</td>\n",
       "    </tr>\n",
       "  </tbody>\n",
       "</table>\n",
       "</div>"
      ],
      "text/plain": [
       "   longitude  latitude\n",
       "2    -114.56     33.69\n",
       "3    -114.57     33.64\n",
       "4    -114.57     33.57\n",
       "5    -114.58     33.63"
      ]
     },
     "execution_count": 27,
     "metadata": {},
     "output_type": "execute_result"
    }
   ],
   "source": [
    "#, Using iloc\n",
    "california_housing_dataframe.iloc[2:6, 0:2]\n"
   ]
  },
  {
   "cell_type": "markdown",
   "metadata": {
    "colab_type": "text",
    "id": "NXwrGOZ59FQX"
   },
   "source": [
    "\n",
    "Print the first 5 rows of the california_housing_dataframe. <br>\n",
    "Use the head *function*"
   ]
  },
  {
   "cell_type": "code",
   "execution_count": 28,
   "metadata": {
    "colab": {},
    "colab_type": "code",
    "id": "XAP8Tn_u9Q0b"
   },
   "outputs": [
    {
     "data": {
      "text/html": [
       "<div>\n",
       "<style scoped>\n",
       "    .dataframe tbody tr th:only-of-type {\n",
       "        vertical-align: middle;\n",
       "    }\n",
       "\n",
       "    .dataframe tbody tr th {\n",
       "        vertical-align: top;\n",
       "    }\n",
       "\n",
       "    .dataframe thead th {\n",
       "        text-align: right;\n",
       "    }\n",
       "</style>\n",
       "<table border=\"1\" class=\"dataframe\">\n",
       "  <thead>\n",
       "    <tr style=\"text-align: right;\">\n",
       "      <th></th>\n",
       "      <th>longitude</th>\n",
       "      <th>latitude</th>\n",
       "      <th>housing_median_age</th>\n",
       "      <th>total_rooms</th>\n",
       "      <th>total_bedrooms</th>\n",
       "      <th>population</th>\n",
       "      <th>households</th>\n",
       "      <th>median_income</th>\n",
       "      <th>median_house_value</th>\n",
       "    </tr>\n",
       "  </thead>\n",
       "  <tbody>\n",
       "    <tr>\n",
       "      <th>0</th>\n",
       "      <td>-114.31</td>\n",
       "      <td>34.19</td>\n",
       "      <td>15.0</td>\n",
       "      <td>5612.0</td>\n",
       "      <td>1283.0</td>\n",
       "      <td>1015.0</td>\n",
       "      <td>472.0</td>\n",
       "      <td>1.4936</td>\n",
       "      <td>66900.0</td>\n",
       "    </tr>\n",
       "    <tr>\n",
       "      <th>1</th>\n",
       "      <td>-114.47</td>\n",
       "      <td>34.40</td>\n",
       "      <td>19.0</td>\n",
       "      <td>7650.0</td>\n",
       "      <td>1901.0</td>\n",
       "      <td>1129.0</td>\n",
       "      <td>463.0</td>\n",
       "      <td>1.8200</td>\n",
       "      <td>80100.0</td>\n",
       "    </tr>\n",
       "    <tr>\n",
       "      <th>2</th>\n",
       "      <td>-114.56</td>\n",
       "      <td>33.69</td>\n",
       "      <td>17.0</td>\n",
       "      <td>720.0</td>\n",
       "      <td>174.0</td>\n",
       "      <td>333.0</td>\n",
       "      <td>117.0</td>\n",
       "      <td>1.6509</td>\n",
       "      <td>85700.0</td>\n",
       "    </tr>\n",
       "    <tr>\n",
       "      <th>3</th>\n",
       "      <td>-114.57</td>\n",
       "      <td>33.64</td>\n",
       "      <td>14.0</td>\n",
       "      <td>1501.0</td>\n",
       "      <td>337.0</td>\n",
       "      <td>515.0</td>\n",
       "      <td>226.0</td>\n",
       "      <td>3.1917</td>\n",
       "      <td>73400.0</td>\n",
       "    </tr>\n",
       "    <tr>\n",
       "      <th>4</th>\n",
       "      <td>-114.57</td>\n",
       "      <td>33.57</td>\n",
       "      <td>20.0</td>\n",
       "      <td>1454.0</td>\n",
       "      <td>326.0</td>\n",
       "      <td>624.0</td>\n",
       "      <td>262.0</td>\n",
       "      <td>1.9250</td>\n",
       "      <td>65500.0</td>\n",
       "    </tr>\n",
       "  </tbody>\n",
       "</table>\n",
       "</div>"
      ],
      "text/plain": [
       "   longitude  latitude  housing_median_age  total_rooms  total_bedrooms  \\\n",
       "0    -114.31     34.19                15.0       5612.0          1283.0   \n",
       "1    -114.47     34.40                19.0       7650.0          1901.0   \n",
       "2    -114.56     33.69                17.0        720.0           174.0   \n",
       "3    -114.57     33.64                14.0       1501.0           337.0   \n",
       "4    -114.57     33.57                20.0       1454.0           326.0   \n",
       "\n",
       "   population  households  median_income  median_house_value  \n",
       "0      1015.0       472.0         1.4936             66900.0  \n",
       "1      1129.0       463.0         1.8200             80100.0  \n",
       "2       333.0       117.0         1.6509             85700.0  \n",
       "3       515.0       226.0         3.1917             73400.0  \n",
       "4       624.0       262.0         1.9250             65500.0  "
      ]
     },
     "execution_count": 28,
     "metadata": {},
     "output_type": "execute_result"
    }
   ],
   "source": [
    "california_housing_dataframe.head()\n",
    "california_housing_dataframe.head(5)"
   ]
  },
  {
   "cell_type": "markdown",
   "metadata": {
    "colab_type": "text",
    "id": "OXcH_06S9yWG"
   },
   "source": [
    "**Once data is in a Pandas dataframe, it can be manipulated with Pandas commands.** "
   ]
  },
  {
   "cell_type": "markdown",
   "metadata": {
    "colab_type": "text",
    "id": "sUO5kgVe-2Y9"
   },
   "source": [
    "In the example below, print all the sections where the houses have a median age less than or equal to 20. "
   ]
  },
  {
   "cell_type": "code",
   "execution_count": 29,
   "metadata": {
    "colab": {},
    "colab_type": "code",
    "id": "Ht9mDa6Y9ymB"
   },
   "outputs": [
    {
     "data": {
      "text/plain": [
       "longitude             5209\n",
       "latitude              5209\n",
       "housing_median_age    5209\n",
       "total_rooms           5209\n",
       "total_bedrooms        5209\n",
       "population            5209\n",
       "households            5209\n",
       "median_income         5209\n",
       "median_house_value    5209\n",
       "dtype: int64"
      ]
     },
     "execution_count": 29,
     "metadata": {},
     "output_type": "execute_result"
    }
   ],
   "source": [
    "column_name = california_housing_dataframe[\"housing_median_age\"]\n",
    "young_age = california_housing_dataframe.loc[(column_name<=20) ]\n",
    "young_age.count()"
   ]
  },
  {
   "cell_type": "markdown",
   "metadata": {
    "colab_type": "text",
    "id": "pbKevhqm_HcL"
   },
   "source": [
    "\n",
    "\n",
    "List all the sections where the median_income is greater than 3"
   ]
  },
  {
   "cell_type": "code",
   "execution_count": 30,
   "metadata": {
    "colab": {},
    "colab_type": "code",
    "id": "r7doLalODH-0"
   },
   "outputs": [
    {
     "name": "stdout",
     "output_type": "stream",
     "text": [
      "longitude             10923\n",
      "latitude              10923\n",
      "housing_median_age    10923\n",
      "total_rooms           10923\n",
      "total_bedrooms        10923\n",
      "population            10923\n",
      "households            10923\n",
      "median_income         10923\n",
      "median_house_value    10923\n",
      "dtype: int64\n",
      "       longitude  latitude  housing_median_age  total_rooms  total_bedrooms  \\\n",
      "3        -114.57     33.64                14.0       1501.0           337.0   \n",
      "5        -114.58     33.63                29.0       1387.0           236.0   \n",
      "13       -114.61     34.83                31.0       2478.0           464.0   \n",
      "23       -114.98     33.82                15.0        644.0           129.0   \n",
      "25       -115.32     32.82                34.0        591.0           139.0   \n",
      "...          ...       ...                 ...          ...             ...   \n",
      "16986    -124.19     40.73                21.0       5694.0          1056.0   \n",
      "16992    -124.23     40.81                52.0       1112.0           209.0   \n",
      "16993    -124.23     40.54                52.0       2694.0           453.0   \n",
      "16997    -124.30     41.84                17.0       2677.0           531.0   \n",
      "16999    -124.35     40.54                52.0       1820.0           300.0   \n",
      "\n",
      "       population  households  median_income  median_house_value  \n",
      "3           515.0       226.0         3.1917             73400.0  \n",
      "5           671.0       239.0         3.3438             74000.0  \n",
      "13         1346.0       479.0         3.2120             70400.0  \n",
      "23          137.0        52.0         3.2097             71300.0  \n",
      "25          327.0        89.0         3.6528            100000.0  \n",
      "...           ...         ...            ...                 ...  \n",
      "16986      2907.0       972.0         3.5363             90100.0  \n",
      "16992       544.0       172.0         3.3462             50800.0  \n",
      "16993      1152.0       435.0         3.0806            106700.0  \n",
      "16997      1244.0       456.0         3.0313            103600.0  \n",
      "16999       806.0       270.0         3.0147             94600.0  \n",
      "\n",
      "[10923 rows x 9 columns]\n"
     ]
    }
   ],
   "source": [
    "column_name = california_housing_dataframe[\"median_income\"]\n",
    "median_income = california_housing_dataframe.loc[(column_name > 3) ]\n",
    "print(median_income.count())\n",
    "print(median_income)"
   ]
  },
  {
   "cell_type": "markdown",
   "metadata": {
    "colab_type": "text",
    "id": "qe4oQF3IAsti"
   },
   "source": [
    "**Pandas allows you to combine 2 or more data conditions**"
   ]
  },
  {
   "cell_type": "code",
   "execution_count": 31,
   "metadata": {
    "colab": {},
    "colab_type": "code",
    "id": "pR9rH8P_AYGS"
   },
   "outputs": [
    {
     "data": {
      "text/html": [
       "<div>\n",
       "<style scoped>\n",
       "    .dataframe tbody tr th:only-of-type {\n",
       "        vertical-align: middle;\n",
       "    }\n",
       "\n",
       "    .dataframe tbody tr th {\n",
       "        vertical-align: top;\n",
       "    }\n",
       "\n",
       "    .dataframe thead th {\n",
       "        text-align: right;\n",
       "    }\n",
       "</style>\n",
       "<table border=\"1\" class=\"dataframe\">\n",
       "  <thead>\n",
       "    <tr style=\"text-align: right;\">\n",
       "      <th></th>\n",
       "      <th>longitude</th>\n",
       "      <th>latitude</th>\n",
       "      <th>housing_median_age</th>\n",
       "      <th>total_rooms</th>\n",
       "      <th>total_bedrooms</th>\n",
       "      <th>population</th>\n",
       "      <th>households</th>\n",
       "      <th>median_income</th>\n",
       "      <th>median_house_value</th>\n",
       "    </tr>\n",
       "  </thead>\n",
       "  <tbody>\n",
       "    <tr>\n",
       "      <th>3</th>\n",
       "      <td>-114.57</td>\n",
       "      <td>33.64</td>\n",
       "      <td>14.0</td>\n",
       "      <td>1501.0</td>\n",
       "      <td>337.0</td>\n",
       "      <td>515.0</td>\n",
       "      <td>226.0</td>\n",
       "      <td>3.1917</td>\n",
       "      <td>73400.0</td>\n",
       "    </tr>\n",
       "    <tr>\n",
       "      <th>5</th>\n",
       "      <td>-114.58</td>\n",
       "      <td>33.63</td>\n",
       "      <td>29.0</td>\n",
       "      <td>1387.0</td>\n",
       "      <td>236.0</td>\n",
       "      <td>671.0</td>\n",
       "      <td>239.0</td>\n",
       "      <td>3.3438</td>\n",
       "      <td>74000.0</td>\n",
       "    </tr>\n",
       "    <tr>\n",
       "      <th>13</th>\n",
       "      <td>-114.61</td>\n",
       "      <td>34.83</td>\n",
       "      <td>31.0</td>\n",
       "      <td>2478.0</td>\n",
       "      <td>464.0</td>\n",
       "      <td>1346.0</td>\n",
       "      <td>479.0</td>\n",
       "      <td>3.2120</td>\n",
       "      <td>70400.0</td>\n",
       "    </tr>\n",
       "    <tr>\n",
       "      <th>23</th>\n",
       "      <td>-114.98</td>\n",
       "      <td>33.82</td>\n",
       "      <td>15.0</td>\n",
       "      <td>644.0</td>\n",
       "      <td>129.0</td>\n",
       "      <td>137.0</td>\n",
       "      <td>52.0</td>\n",
       "      <td>3.2097</td>\n",
       "      <td>71300.0</td>\n",
       "    </tr>\n",
       "    <tr>\n",
       "      <th>25</th>\n",
       "      <td>-115.32</td>\n",
       "      <td>32.82</td>\n",
       "      <td>34.0</td>\n",
       "      <td>591.0</td>\n",
       "      <td>139.0</td>\n",
       "      <td>327.0</td>\n",
       "      <td>89.0</td>\n",
       "      <td>3.6528</td>\n",
       "      <td>100000.0</td>\n",
       "    </tr>\n",
       "    <tr>\n",
       "      <th>...</th>\n",
       "      <td>...</td>\n",
       "      <td>...</td>\n",
       "      <td>...</td>\n",
       "      <td>...</td>\n",
       "      <td>...</td>\n",
       "      <td>...</td>\n",
       "      <td>...</td>\n",
       "      <td>...</td>\n",
       "      <td>...</td>\n",
       "    </tr>\n",
       "    <tr>\n",
       "      <th>16986</th>\n",
       "      <td>-124.19</td>\n",
       "      <td>40.73</td>\n",
       "      <td>21.0</td>\n",
       "      <td>5694.0</td>\n",
       "      <td>1056.0</td>\n",
       "      <td>2907.0</td>\n",
       "      <td>972.0</td>\n",
       "      <td>3.5363</td>\n",
       "      <td>90100.0</td>\n",
       "    </tr>\n",
       "    <tr>\n",
       "      <th>16992</th>\n",
       "      <td>-124.23</td>\n",
       "      <td>40.81</td>\n",
       "      <td>52.0</td>\n",
       "      <td>1112.0</td>\n",
       "      <td>209.0</td>\n",
       "      <td>544.0</td>\n",
       "      <td>172.0</td>\n",
       "      <td>3.3462</td>\n",
       "      <td>50800.0</td>\n",
       "    </tr>\n",
       "    <tr>\n",
       "      <th>16993</th>\n",
       "      <td>-124.23</td>\n",
       "      <td>40.54</td>\n",
       "      <td>52.0</td>\n",
       "      <td>2694.0</td>\n",
       "      <td>453.0</td>\n",
       "      <td>1152.0</td>\n",
       "      <td>435.0</td>\n",
       "      <td>3.0806</td>\n",
       "      <td>106700.0</td>\n",
       "    </tr>\n",
       "    <tr>\n",
       "      <th>16997</th>\n",
       "      <td>-124.30</td>\n",
       "      <td>41.84</td>\n",
       "      <td>17.0</td>\n",
       "      <td>2677.0</td>\n",
       "      <td>531.0</td>\n",
       "      <td>1244.0</td>\n",
       "      <td>456.0</td>\n",
       "      <td>3.0313</td>\n",
       "      <td>103600.0</td>\n",
       "    </tr>\n",
       "    <tr>\n",
       "      <th>16999</th>\n",
       "      <td>-124.35</td>\n",
       "      <td>40.54</td>\n",
       "      <td>52.0</td>\n",
       "      <td>1820.0</td>\n",
       "      <td>300.0</td>\n",
       "      <td>806.0</td>\n",
       "      <td>270.0</td>\n",
       "      <td>3.0147</td>\n",
       "      <td>94600.0</td>\n",
       "    </tr>\n",
       "  </tbody>\n",
       "</table>\n",
       "<p>10923 rows × 9 columns</p>\n",
       "</div>"
      ],
      "text/plain": [
       "       longitude  latitude  housing_median_age  total_rooms  total_bedrooms  \\\n",
       "3        -114.57     33.64                14.0       1501.0           337.0   \n",
       "5        -114.58     33.63                29.0       1387.0           236.0   \n",
       "13       -114.61     34.83                31.0       2478.0           464.0   \n",
       "23       -114.98     33.82                15.0        644.0           129.0   \n",
       "25       -115.32     32.82                34.0        591.0           139.0   \n",
       "...          ...       ...                 ...          ...             ...   \n",
       "16986    -124.19     40.73                21.0       5694.0          1056.0   \n",
       "16992    -124.23     40.81                52.0       1112.0           209.0   \n",
       "16993    -124.23     40.54                52.0       2694.0           453.0   \n",
       "16997    -124.30     41.84                17.0       2677.0           531.0   \n",
       "16999    -124.35     40.54                52.0       1820.0           300.0   \n",
       "\n",
       "       population  households  median_income  median_house_value  \n",
       "3           515.0       226.0         3.1917             73400.0  \n",
       "5           671.0       239.0         3.3438             74000.0  \n",
       "13         1346.0       479.0         3.2120             70400.0  \n",
       "23          137.0        52.0         3.2097             71300.0  \n",
       "25          327.0        89.0         3.6528            100000.0  \n",
       "...           ...         ...            ...                 ...  \n",
       "16986      2907.0       972.0         3.5363             90100.0  \n",
       "16992       544.0       172.0         3.3462             50800.0  \n",
       "16993      1152.0       435.0         3.0806            106700.0  \n",
       "16997      1244.0       456.0         3.0313            103600.0  \n",
       "16999       806.0       270.0         3.0147             94600.0  \n",
       "\n",
       "[10923 rows x 9 columns]"
      ]
     },
     "execution_count": 31,
     "metadata": {},
     "output_type": "execute_result"
    }
   ],
   "source": [
    "condition1_series1 = california_housing_dataframe[\"housing_median_age\"]<=20\n",
    "condition1_series2 = california_housing_dataframe[\"median_income\"]> 3.0\n",
    "\n",
    "california_housing_dataframe.loc[(condition1_series1<=20) & (condition1_series2)]"
   ]
  },
  {
   "cell_type": "code",
   "execution_count": 32,
   "metadata": {
    "colab": {},
    "colab_type": "code",
    "id": "_Fjrxd3EJA3K"
   },
   "outputs": [
    {
     "data": {
      "text/html": [
       "<div>\n",
       "<style scoped>\n",
       "    .dataframe tbody tr th:only-of-type {\n",
       "        vertical-align: middle;\n",
       "    }\n",
       "\n",
       "    .dataframe tbody tr th {\n",
       "        vertical-align: top;\n",
       "    }\n",
       "\n",
       "    .dataframe thead th {\n",
       "        text-align: right;\n",
       "    }\n",
       "</style>\n",
       "<table border=\"1\" class=\"dataframe\">\n",
       "  <thead>\n",
       "    <tr style=\"text-align: right;\">\n",
       "      <th></th>\n",
       "      <th>longitude</th>\n",
       "      <th>latitude</th>\n",
       "      <th>housing_median_age</th>\n",
       "      <th>total_rooms</th>\n",
       "      <th>total_bedrooms</th>\n",
       "      <th>population</th>\n",
       "      <th>households</th>\n",
       "      <th>median_income</th>\n",
       "      <th>median_house_value</th>\n",
       "    </tr>\n",
       "  </thead>\n",
       "  <tbody>\n",
       "    <tr>\n",
       "      <th>count</th>\n",
       "      <td>17000.000000</td>\n",
       "      <td>17000.000000</td>\n",
       "      <td>17000.000000</td>\n",
       "      <td>17000.000000</td>\n",
       "      <td>17000.000000</td>\n",
       "      <td>17000.000000</td>\n",
       "      <td>17000.000000</td>\n",
       "      <td>17000.000000</td>\n",
       "      <td>17000.000000</td>\n",
       "    </tr>\n",
       "    <tr>\n",
       "      <th>mean</th>\n",
       "      <td>-119.562108</td>\n",
       "      <td>35.625225</td>\n",
       "      <td>28.589353</td>\n",
       "      <td>2643.664412</td>\n",
       "      <td>539.410824</td>\n",
       "      <td>1429.573941</td>\n",
       "      <td>501.221941</td>\n",
       "      <td>3.883578</td>\n",
       "      <td>207300.912353</td>\n",
       "    </tr>\n",
       "    <tr>\n",
       "      <th>std</th>\n",
       "      <td>2.005166</td>\n",
       "      <td>2.137340</td>\n",
       "      <td>12.586937</td>\n",
       "      <td>2179.947071</td>\n",
       "      <td>421.499452</td>\n",
       "      <td>1147.852959</td>\n",
       "      <td>384.520841</td>\n",
       "      <td>1.908157</td>\n",
       "      <td>115983.764387</td>\n",
       "    </tr>\n",
       "    <tr>\n",
       "      <th>min</th>\n",
       "      <td>-124.350000</td>\n",
       "      <td>32.540000</td>\n",
       "      <td>1.000000</td>\n",
       "      <td>2.000000</td>\n",
       "      <td>1.000000</td>\n",
       "      <td>3.000000</td>\n",
       "      <td>1.000000</td>\n",
       "      <td>0.499900</td>\n",
       "      <td>14999.000000</td>\n",
       "    </tr>\n",
       "    <tr>\n",
       "      <th>25%</th>\n",
       "      <td>-121.790000</td>\n",
       "      <td>33.930000</td>\n",
       "      <td>18.000000</td>\n",
       "      <td>1462.000000</td>\n",
       "      <td>297.000000</td>\n",
       "      <td>790.000000</td>\n",
       "      <td>282.000000</td>\n",
       "      <td>2.566375</td>\n",
       "      <td>119400.000000</td>\n",
       "    </tr>\n",
       "    <tr>\n",
       "      <th>50%</th>\n",
       "      <td>-118.490000</td>\n",
       "      <td>34.250000</td>\n",
       "      <td>29.000000</td>\n",
       "      <td>2127.000000</td>\n",
       "      <td>434.000000</td>\n",
       "      <td>1167.000000</td>\n",
       "      <td>409.000000</td>\n",
       "      <td>3.544600</td>\n",
       "      <td>180400.000000</td>\n",
       "    </tr>\n",
       "    <tr>\n",
       "      <th>75%</th>\n",
       "      <td>-118.000000</td>\n",
       "      <td>37.720000</td>\n",
       "      <td>37.000000</td>\n",
       "      <td>3151.250000</td>\n",
       "      <td>648.250000</td>\n",
       "      <td>1721.000000</td>\n",
       "      <td>605.250000</td>\n",
       "      <td>4.767000</td>\n",
       "      <td>265000.000000</td>\n",
       "    </tr>\n",
       "    <tr>\n",
       "      <th>max</th>\n",
       "      <td>-114.310000</td>\n",
       "      <td>41.950000</td>\n",
       "      <td>52.000000</td>\n",
       "      <td>37937.000000</td>\n",
       "      <td>6445.000000</td>\n",
       "      <td>35682.000000</td>\n",
       "      <td>6082.000000</td>\n",
       "      <td>15.000100</td>\n",
       "      <td>500001.000000</td>\n",
       "    </tr>\n",
       "  </tbody>\n",
       "</table>\n",
       "</div>"
      ],
      "text/plain": [
       "          longitude      latitude  housing_median_age   total_rooms  \\\n",
       "count  17000.000000  17000.000000        17000.000000  17000.000000   \n",
       "mean    -119.562108     35.625225           28.589353   2643.664412   \n",
       "std        2.005166      2.137340           12.586937   2179.947071   \n",
       "min     -124.350000     32.540000            1.000000      2.000000   \n",
       "25%     -121.790000     33.930000           18.000000   1462.000000   \n",
       "50%     -118.490000     34.250000           29.000000   2127.000000   \n",
       "75%     -118.000000     37.720000           37.000000   3151.250000   \n",
       "max     -114.310000     41.950000           52.000000  37937.000000   \n",
       "\n",
       "       total_bedrooms    population    households  median_income  \\\n",
       "count    17000.000000  17000.000000  17000.000000   17000.000000   \n",
       "mean       539.410824   1429.573941    501.221941       3.883578   \n",
       "std        421.499452   1147.852959    384.520841       1.908157   \n",
       "min          1.000000      3.000000      1.000000       0.499900   \n",
       "25%        297.000000    790.000000    282.000000       2.566375   \n",
       "50%        434.000000   1167.000000    409.000000       3.544600   \n",
       "75%        648.250000   1721.000000    605.250000       4.767000   \n",
       "max       6445.000000  35682.000000   6082.000000      15.000100   \n",
       "\n",
       "       median_house_value  \n",
       "count        17000.000000  \n",
       "mean        207300.912353  \n",
       "std         115983.764387  \n",
       "min          14999.000000  \n",
       "25%         119400.000000  \n",
       "50%         180400.000000  \n",
       "75%         265000.000000  \n",
       "max         500001.000000  "
      ]
     },
     "execution_count": 32,
     "metadata": {},
     "output_type": "execute_result"
    }
   ],
   "source": [
    "california_housing_dataframe.describe()"
   ]
  },
  {
   "cell_type": "markdown",
   "metadata": {
    "colab_type": "text",
    "id": "2Z89Gf5bBYx0"
   },
   "source": [
    "List all the sections of california_house_dataframe that:\n",
    "1. That have less than 200 bedrooms\n",
    "2. And have a median income greater than 4.0"
   ]
  },
  {
   "cell_type": "code",
   "execution_count": 33,
   "metadata": {
    "colab": {},
    "colab_type": "code",
    "id": "STzw6DFZrKMd"
   },
   "outputs": [
    {
     "data": {
      "text/html": [
       "<div>\n",
       "<style scoped>\n",
       "    .dataframe tbody tr th:only-of-type {\n",
       "        vertical-align: middle;\n",
       "    }\n",
       "\n",
       "    .dataframe tbody tr th {\n",
       "        vertical-align: top;\n",
       "    }\n",
       "\n",
       "    .dataframe thead th {\n",
       "        text-align: right;\n",
       "    }\n",
       "</style>\n",
       "<table border=\"1\" class=\"dataframe\">\n",
       "  <thead>\n",
       "    <tr style=\"text-align: right;\">\n",
       "      <th></th>\n",
       "      <th>longitude</th>\n",
       "      <th>latitude</th>\n",
       "      <th>housing_median_age</th>\n",
       "      <th>total_rooms</th>\n",
       "      <th>total_bedrooms</th>\n",
       "      <th>population</th>\n",
       "      <th>households</th>\n",
       "      <th>median_income</th>\n",
       "      <th>median_house_value</th>\n",
       "    </tr>\n",
       "  </thead>\n",
       "  <tbody>\n",
       "    <tr>\n",
       "      <th>32</th>\n",
       "      <td>-115.39</td>\n",
       "      <td>32.76</td>\n",
       "      <td>16.0</td>\n",
       "      <td>1136.0</td>\n",
       "      <td>196.0</td>\n",
       "      <td>481.0</td>\n",
       "      <td>185.0</td>\n",
       "      <td>6.2558</td>\n",
       "      <td>146300.0</td>\n",
       "    </tr>\n",
       "    <tr>\n",
       "      <th>95</th>\n",
       "      <td>-115.58</td>\n",
       "      <td>32.81</td>\n",
       "      <td>5.0</td>\n",
       "      <td>805.0</td>\n",
       "      <td>143.0</td>\n",
       "      <td>458.0</td>\n",
       "      <td>143.0</td>\n",
       "      <td>4.4750</td>\n",
       "      <td>96300.0</td>\n",
       "    </tr>\n",
       "    <tr>\n",
       "      <th>113</th>\n",
       "      <td>-115.80</td>\n",
       "      <td>33.26</td>\n",
       "      <td>2.0</td>\n",
       "      <td>96.0</td>\n",
       "      <td>18.0</td>\n",
       "      <td>30.0</td>\n",
       "      <td>16.0</td>\n",
       "      <td>5.3374</td>\n",
       "      <td>47500.0</td>\n",
       "    </tr>\n",
       "    <tr>\n",
       "      <th>116</th>\n",
       "      <td>-115.88</td>\n",
       "      <td>32.93</td>\n",
       "      <td>15.0</td>\n",
       "      <td>208.0</td>\n",
       "      <td>49.0</td>\n",
       "      <td>51.0</td>\n",
       "      <td>20.0</td>\n",
       "      <td>4.0208</td>\n",
       "      <td>32500.0</td>\n",
       "    </tr>\n",
       "    <tr>\n",
       "      <th>129</th>\n",
       "      <td>-116.02</td>\n",
       "      <td>34.18</td>\n",
       "      <td>8.0</td>\n",
       "      <td>569.0</td>\n",
       "      <td>97.0</td>\n",
       "      <td>312.0</td>\n",
       "      <td>96.0</td>\n",
       "      <td>4.3021</td>\n",
       "      <td>94500.0</td>\n",
       "    </tr>\n",
       "    <tr>\n",
       "      <th>...</th>\n",
       "      <td>...</td>\n",
       "      <td>...</td>\n",
       "      <td>...</td>\n",
       "      <td>...</td>\n",
       "      <td>...</td>\n",
       "      <td>...</td>\n",
       "      <td>...</td>\n",
       "      <td>...</td>\n",
       "      <td>...</td>\n",
       "    </tr>\n",
       "    <tr>\n",
       "      <th>16589</th>\n",
       "      <td>-122.70</td>\n",
       "      <td>38.35</td>\n",
       "      <td>16.0</td>\n",
       "      <td>1328.0</td>\n",
       "      <td>187.0</td>\n",
       "      <td>607.0</td>\n",
       "      <td>197.0</td>\n",
       "      <td>5.0366</td>\n",
       "      <td>257800.0</td>\n",
       "    </tr>\n",
       "    <tr>\n",
       "      <th>16665</th>\n",
       "      <td>-122.77</td>\n",
       "      <td>38.92</td>\n",
       "      <td>26.0</td>\n",
       "      <td>712.0</td>\n",
       "      <td>140.0</td>\n",
       "      <td>293.0</td>\n",
       "      <td>100.0</td>\n",
       "      <td>4.0119</td>\n",
       "      <td>119400.0</td>\n",
       "    </tr>\n",
       "    <tr>\n",
       "      <th>16744</th>\n",
       "      <td>-122.91</td>\n",
       "      <td>39.17</td>\n",
       "      <td>44.0</td>\n",
       "      <td>202.0</td>\n",
       "      <td>42.0</td>\n",
       "      <td>142.0</td>\n",
       "      <td>39.0</td>\n",
       "      <td>4.3500</td>\n",
       "      <td>68300.0</td>\n",
       "    </tr>\n",
       "    <tr>\n",
       "      <th>16779</th>\n",
       "      <td>-123.01</td>\n",
       "      <td>38.67</td>\n",
       "      <td>33.0</td>\n",
       "      <td>914.0</td>\n",
       "      <td>147.0</td>\n",
       "      <td>394.0</td>\n",
       "      <td>132.0</td>\n",
       "      <td>4.6875</td>\n",
       "      <td>246200.0</td>\n",
       "    </tr>\n",
       "    <tr>\n",
       "      <th>16944</th>\n",
       "      <td>-124.14</td>\n",
       "      <td>40.67</td>\n",
       "      <td>23.0</td>\n",
       "      <td>580.0</td>\n",
       "      <td>117.0</td>\n",
       "      <td>320.0</td>\n",
       "      <td>109.0</td>\n",
       "      <td>4.2054</td>\n",
       "      <td>130600.0</td>\n",
       "    </tr>\n",
       "  </tbody>\n",
       "</table>\n",
       "<p>670 rows × 9 columns</p>\n",
       "</div>"
      ],
      "text/plain": [
       "       longitude  latitude  housing_median_age  total_rooms  total_bedrooms  \\\n",
       "32       -115.39     32.76                16.0       1136.0           196.0   \n",
       "95       -115.58     32.81                 5.0        805.0           143.0   \n",
       "113      -115.80     33.26                 2.0         96.0            18.0   \n",
       "116      -115.88     32.93                15.0        208.0            49.0   \n",
       "129      -116.02     34.18                 8.0        569.0            97.0   \n",
       "...          ...       ...                 ...          ...             ...   \n",
       "16589    -122.70     38.35                16.0       1328.0           187.0   \n",
       "16665    -122.77     38.92                26.0        712.0           140.0   \n",
       "16744    -122.91     39.17                44.0        202.0            42.0   \n",
       "16779    -123.01     38.67                33.0        914.0           147.0   \n",
       "16944    -124.14     40.67                23.0        580.0           117.0   \n",
       "\n",
       "       population  households  median_income  median_house_value  \n",
       "32          481.0       185.0         6.2558            146300.0  \n",
       "95          458.0       143.0         4.4750             96300.0  \n",
       "113          30.0        16.0         5.3374             47500.0  \n",
       "116          51.0        20.0         4.0208             32500.0  \n",
       "129         312.0        96.0         4.3021             94500.0  \n",
       "...           ...         ...            ...                 ...  \n",
       "16589       607.0       197.0         5.0366            257800.0  \n",
       "16665       293.0       100.0         4.0119            119400.0  \n",
       "16744       142.0        39.0         4.3500             68300.0  \n",
       "16779       394.0       132.0         4.6875            246200.0  \n",
       "16944       320.0       109.0         4.2054            130600.0  \n",
       "\n",
       "[670 rows x 9 columns]"
      ]
     },
     "execution_count": 33,
     "metadata": {},
     "output_type": "execute_result"
    }
   ],
   "source": [
    "bedroomsLessThan200 = california_housing_dataframe[\"total_bedrooms\"] < 200\n",
    "medIncomeMoreThan4 = california_housing_dataframe[\"median_income\"] > 4\n",
    "\n",
    "california_housing_dataframe.loc[bedroomsLessThan200 & medIncomeMoreThan4]"
   ]
  },
  {
   "cell_type": "markdown",
   "metadata": {
    "colab_type": "text",
    "id": "LmP3tyjKB_cT"
   },
   "source": [
    "# **Check for missing data and count them**\n",
    "\n",
    "1. Create a function that returns the sum of all the missing values\n",
    "2. Apply the functon to the dataset"
   ]
  },
  {
   "cell_type": "code",
   "execution_count": 34,
   "metadata": {
    "colab": {},
    "colab_type": "code",
    "id": "yam4EINIB_nt"
   },
   "outputs": [
    {
     "name": "stdout",
     "output_type": "stream",
     "text": [
      "Missing values per column:\n",
      "longitude             0\n",
      "latitude              0\n",
      "housing_median_age    0\n",
      "total_rooms           0\n",
      "total_bedrooms        0\n",
      "population            0\n",
      "households            0\n",
      "median_income         0\n",
      "median_house_value    0\n",
      "dtype: int64\n",
      "\n",
      "Missing values per row:\n",
      "0    0\n",
      "1    0\n",
      "2    0\n",
      "3    0\n",
      "4    0\n",
      "dtype: int64\n"
     ]
    }
   ],
   "source": [
    "#Create a new function:\n",
    "def num_missing(x):\n",
    "  return sum(x.isnull())\n",
    "\n",
    "#Applying per column:\n",
    "print (\"Missing values per column:\")\n",
    "#axis=0 defines that function is to be applied on each column\n",
    "print (california_housing_dataframe.apply(num_missing, axis=0)) \n",
    "\n",
    "\n",
    "#Applying per row:\n",
    "print (\"\\nMissing values per row:\")\n",
    " #axis=1 defines that function is to be applied on each row\n",
    "print (california_housing_dataframe.apply(num_missing, axis=1).head())"
   ]
  },
  {
   "cell_type": "markdown",
   "metadata": {
    "colab_type": "text",
    "id": "DaUrlCsoDXM7"
   },
   "source": [
    "Use the dataframe called student_info<br>\n",
    "Use the num_missing function to list the missing data"
   ]
  },
  {
   "cell_type": "code",
   "execution_count": 35,
   "metadata": {
    "colab": {},
    "colab_type": "code",
    "id": "WSPJbYfPsF-U"
   },
   "outputs": [
    {
     "name": "stdout",
     "output_type": "stream",
     "text": [
      "    name     id\n",
      "0    bob    NaN\n",
      "1    ted  112.0\n",
      "2  alice  113.0\n",
      "3    max  114.0\n",
      "4   bill  115.0\n",
      "5    ida  116.0\n",
      "6   mark    NaN\n",
      "name    0\n",
      "id      2\n",
      "dtype: int64\n",
      "0    1\n",
      "1    0\n",
      "2    0\n",
      "3    0\n",
      "4    0\n",
      "5    0\n",
      "6    1\n",
      "dtype: int64\n"
     ]
    }
   ],
   "source": [
    "def value_missing(x):\n",
    "  return sum(x.isna())\n",
    "print(student_info)\n",
    "print(student_info.apply(value_missing, axis=0))\n",
    "print(student_info.apply(value_missing, axis=1))"
   ]
  },
  {
   "cell_type": "markdown",
   "metadata": {
    "colab_type": "text",
    "id": "zM4tJCCzEki9"
   },
   "source": [
    "\n",
    "Fix the missing values and run the num_missing function again. "
   ]
  },
  {
   "cell_type": "code",
   "execution_count": 36,
   "metadata": {
    "colab": {},
    "colab_type": "code",
    "id": "X60RinCwtHKl"
   },
   "outputs": [
    {
     "name": "stdout",
     "output_type": "stream",
     "text": [
      "    name     id\n",
      "0    bob   56.0\n",
      "1    ted  112.0\n",
      "2  alice  113.0\n",
      "3    max  114.0\n",
      "4   bill  115.0\n",
      "5    ida  116.0\n",
      "6   mark   65.0\n",
      "name    0\n",
      "id      0\n",
      "dtype: int64\n",
      "0    0\n",
      "1    0\n",
      "2    0\n",
      "3    0\n",
      "4    0\n",
      "5    0\n",
      "6    0\n",
      "dtype: int64\n"
     ]
    }
   ],
   "source": [
    "student_info.iloc[0,1] = 56\n",
    "student_info.iloc[6,1] = 65\n",
    "print(student_info)\n",
    "print(student_info.apply(value_missing, axis=0))\n",
    "print(student_info.apply(value_missing, axis=1))"
   ]
  },
  {
   "cell_type": "markdown",
   "metadata": {
    "colab_type": "text",
    "id": "1DajkgFcIYHn"
   },
   "source": [
    "# **Using Pandas with Problem CSV Files**\n",
    "\n",
    "Sometimes there are problems with a CSV file and you may not even be able to read it in correctly. \n",
    "For example in the example below when trying to read in a CSV file, an error occurs. "
   ]
  },
  {
   "cell_type": "code",
   "execution_count": 39,
   "metadata": {
    "colab": {},
    "colab_type": "code",
    "id": "NSSTTXbF90aB"
   },
   "outputs": [
    {
     "data": {
      "text/html": [
       "<div>\n",
       "<style scoped>\n",
       "    .dataframe tbody tr th:only-of-type {\n",
       "        vertical-align: middle;\n",
       "    }\n",
       "\n",
       "    .dataframe tbody tr th {\n",
       "        vertical-align: top;\n",
       "    }\n",
       "\n",
       "    .dataframe thead th {\n",
       "        text-align: right;\n",
       "    }\n",
       "</style>\n",
       "<table border=\"1\" class=\"dataframe\">\n",
       "  <thead>\n",
       "    <tr style=\"text-align: right;\">\n",
       "      <th></th>\n",
       "      <th>Year</th>\n",
       "      <th>Score</th>\n",
       "      <th>Title</th>\n",
       "    </tr>\n",
       "  </thead>\n",
       "  <tbody>\n",
       "    <tr>\n",
       "      <th>0</th>\n",
       "      <td>1968</td>\n",
       "      <td>86</td>\n",
       "      <td>\"Greetings\"</td>\n",
       "    </tr>\n",
       "    <tr>\n",
       "      <th>1</th>\n",
       "      <td>1970</td>\n",
       "      <td>17</td>\n",
       "      <td>\"Bloody Mama\"</td>\n",
       "    </tr>\n",
       "    <tr>\n",
       "      <th>2</th>\n",
       "      <td>1970</td>\n",
       "      <td>73</td>\n",
       "      <td>\"Hi Mom!\"</td>\n",
       "    </tr>\n",
       "    <tr>\n",
       "      <th>3</th>\n",
       "      <td>1971</td>\n",
       "      <td>40</td>\n",
       "      <td>\"Born to Win\"</td>\n",
       "    </tr>\n",
       "    <tr>\n",
       "      <th>4</th>\n",
       "      <td>1973</td>\n",
       "      <td>98</td>\n",
       "      <td>\"Mean Streets\"</td>\n",
       "    </tr>\n",
       "    <tr>\n",
       "      <th>...</th>\n",
       "      <td>...</td>\n",
       "      <td>...</td>\n",
       "      <td>...</td>\n",
       "    </tr>\n",
       "    <tr>\n",
       "      <th>82</th>\n",
       "      <td>2014</td>\n",
       "      <td>9</td>\n",
       "      <td>\"The Bag Man\"</td>\n",
       "    </tr>\n",
       "    <tr>\n",
       "      <th>83</th>\n",
       "      <td>2015</td>\n",
       "      <td>60</td>\n",
       "      <td>\"Joy\"</td>\n",
       "    </tr>\n",
       "    <tr>\n",
       "      <th>84</th>\n",
       "      <td>2015</td>\n",
       "      <td>26</td>\n",
       "      <td>\"Heist\"</td>\n",
       "    </tr>\n",
       "    <tr>\n",
       "      <th>85</th>\n",
       "      <td>2015</td>\n",
       "      <td>61</td>\n",
       "      <td>\"The Intern\"</td>\n",
       "    </tr>\n",
       "    <tr>\n",
       "      <th>86</th>\n",
       "      <td>2016</td>\n",
       "      <td>11</td>\n",
       "      <td>\"Dirty Grandpa\"</td>\n",
       "    </tr>\n",
       "  </tbody>\n",
       "</table>\n",
       "<p>87 rows × 3 columns</p>\n",
       "</div>"
      ],
      "text/plain": [
       "    Year   Score             Title\n",
       "0   1968      86       \"Greetings\"\n",
       "1   1970      17     \"Bloody Mama\"\n",
       "2   1970      73         \"Hi Mom!\"\n",
       "3   1971      40     \"Born to Win\"\n",
       "4   1973      98    \"Mean Streets\"\n",
       "..   ...     ...               ...\n",
       "82  2014       9     \"The Bag Man\"\n",
       "83  2015      60             \"Joy\"\n",
       "84  2015      26           \"Heist\"\n",
       "85  2015      61      \"The Intern\"\n",
       "86  2016      11   \"Dirty Grandpa\"\n",
       "\n",
       "[87 rows x 3 columns]"
      ]
     },
     "execution_count": 39,
     "metadata": {},
     "output_type": "execute_result"
    }
   ],
   "source": [
    "df2 = pd.read_csv(\"deniro.csv\", sep = ',')\n",
    "df2"
   ]
  },
  {
   "cell_type": "markdown",
   "metadata": {
    "colab_type": "text",
    "id": "peu6-MNxPn1q"
   },
   "source": [
    "1. Figure out what lines were skipped and why. <br>\n",
    "Hint: \n",
    "use cat to read the file<br>\n",
    "2. Add those lines to the dataframe\n",
    "\n",
    "<br>\n",
    "As an example: I have added a row to the dataframe for you. \n",
    "\n"
   ]
  },
  {
   "cell_type": "code",
   "execution_count": 40,
   "metadata": {
    "colab": {},
    "colab_type": "code",
    "id": "gjQtDjVXcpcA"
   },
   "outputs": [
    {
     "data": {
      "text/plain": [
       "Index(['Year', ' Score', ' Title'], dtype='object')"
      ]
     },
     "execution_count": 40,
     "metadata": {},
     "output_type": "execute_result"
    }
   ],
   "source": [
    "#Print the column names with the columns command\n",
    "df2.columns"
   ]
  },
  {
   "cell_type": "code",
   "execution_count": 41,
   "metadata": {
    "colab": {},
    "colab_type": "code",
    "id": "_-NN_RYtRhDR"
   },
   "outputs": [
    {
     "data": {
      "text/html": [
       "<div>\n",
       "<style scoped>\n",
       "    .dataframe tbody tr th:only-of-type {\n",
       "        vertical-align: middle;\n",
       "    }\n",
       "\n",
       "    .dataframe tbody tr th {\n",
       "        vertical-align: top;\n",
       "    }\n",
       "\n",
       "    .dataframe thead th {\n",
       "        text-align: right;\n",
       "    }\n",
       "</style>\n",
       "<table border=\"1\" class=\"dataframe\">\n",
       "  <thead>\n",
       "    <tr style=\"text-align: right;\">\n",
       "      <th></th>\n",
       "      <th>Year</th>\n",
       "      <th>Score</th>\n",
       "      <th>Title</th>\n",
       "    </tr>\n",
       "  </thead>\n",
       "  <tbody>\n",
       "    <tr>\n",
       "      <th>0</th>\n",
       "      <td>1970</td>\n",
       "      <td>73</td>\n",
       "      <td>Hi Mom!</td>\n",
       "    </tr>\n",
       "    <tr>\n",
       "      <th>1</th>\n",
       "      <td>1974</td>\n",
       "      <td>97</td>\n",
       "      <td>The Godfather Part II</td>\n",
       "    </tr>\n",
       "    <tr>\n",
       "      <th>2</th>\n",
       "      <td>1977</td>\n",
       "      <td>67</td>\n",
       "      <td>New York New York</td>\n",
       "    </tr>\n",
       "  </tbody>\n",
       "</table>\n",
       "</div>"
      ],
      "text/plain": [
       "   Year   Score                  Title\n",
       "0  1970      73                Hi Mom!\n",
       "1  1974      97  The Godfather Part II\n",
       "2  1977      67      New York New York"
      ]
     },
     "execution_count": 41,
     "metadata": {},
     "output_type": "execute_result"
    }
   ],
   "source": [
    "#Create a dataFrame for the new row\n",
    "df_add = pd.DataFrame([[1970, 73, \"Hi Mom!\"], [1974,  97, \"The Godfather Part II\"], [1977,  67, \"New York New York\"]], columns =(['Year', ' Score', ' Title']))\n",
    "df_add"
   ]
  },
  {
   "cell_type": "code",
   "execution_count": 42,
   "metadata": {
    "colab": {},
    "colab_type": "code",
    "id": "9T2jIW11jqn6"
   },
   "outputs": [
    {
     "data": {
      "text/html": [
       "<div>\n",
       "<style scoped>\n",
       "    .dataframe tbody tr th:only-of-type {\n",
       "        vertical-align: middle;\n",
       "    }\n",
       "\n",
       "    .dataframe tbody tr th {\n",
       "        vertical-align: top;\n",
       "    }\n",
       "\n",
       "    .dataframe thead th {\n",
       "        text-align: right;\n",
       "    }\n",
       "</style>\n",
       "<table border=\"1\" class=\"dataframe\">\n",
       "  <thead>\n",
       "    <tr style=\"text-align: right;\">\n",
       "      <th></th>\n",
       "      <th>Score</th>\n",
       "      <th>Title</th>\n",
       "      <th>Year</th>\n",
       "    </tr>\n",
       "  </thead>\n",
       "  <tbody>\n",
       "    <tr>\n",
       "      <th>0</th>\n",
       "      <td>86</td>\n",
       "      <td>\"Greetings\"</td>\n",
       "      <td>1968</td>\n",
       "    </tr>\n",
       "    <tr>\n",
       "      <th>1</th>\n",
       "      <td>17</td>\n",
       "      <td>\"Bloody Mama\"</td>\n",
       "      <td>1970</td>\n",
       "    </tr>\n",
       "    <tr>\n",
       "      <th>2</th>\n",
       "      <td>73</td>\n",
       "      <td>\"Hi Mom!\"</td>\n",
       "      <td>1970</td>\n",
       "    </tr>\n",
       "    <tr>\n",
       "      <th>3</th>\n",
       "      <td>40</td>\n",
       "      <td>\"Born to Win\"</td>\n",
       "      <td>1971</td>\n",
       "    </tr>\n",
       "    <tr>\n",
       "      <th>4</th>\n",
       "      <td>98</td>\n",
       "      <td>\"Mean Streets\"</td>\n",
       "      <td>1973</td>\n",
       "    </tr>\n",
       "    <tr>\n",
       "      <th>...</th>\n",
       "      <td>...</td>\n",
       "      <td>...</td>\n",
       "      <td>...</td>\n",
       "    </tr>\n",
       "    <tr>\n",
       "      <th>85</th>\n",
       "      <td>61</td>\n",
       "      <td>\"The Intern\"</td>\n",
       "      <td>2015</td>\n",
       "    </tr>\n",
       "    <tr>\n",
       "      <th>86</th>\n",
       "      <td>11</td>\n",
       "      <td>\"Dirty Grandpa\"</td>\n",
       "      <td>2016</td>\n",
       "    </tr>\n",
       "    <tr>\n",
       "      <th>87</th>\n",
       "      <td>73</td>\n",
       "      <td>Hi Mom!</td>\n",
       "      <td>1970</td>\n",
       "    </tr>\n",
       "    <tr>\n",
       "      <th>88</th>\n",
       "      <td>97</td>\n",
       "      <td>The Godfather Part II</td>\n",
       "      <td>1974</td>\n",
       "    </tr>\n",
       "    <tr>\n",
       "      <th>89</th>\n",
       "      <td>67</td>\n",
       "      <td>New York New York</td>\n",
       "      <td>1977</td>\n",
       "    </tr>\n",
       "  </tbody>\n",
       "</table>\n",
       "<p>90 rows × 3 columns</p>\n",
       "</div>"
      ],
      "text/plain": [
       "     Score                  Title  Year\n",
       "0       86            \"Greetings\"  1968\n",
       "1       17          \"Bloody Mama\"  1970\n",
       "2       73              \"Hi Mom!\"  1970\n",
       "3       40          \"Born to Win\"  1971\n",
       "4       98         \"Mean Streets\"  1973\n",
       "..     ...                    ...   ...\n",
       "85      61           \"The Intern\"  2015\n",
       "86      11        \"Dirty Grandpa\"  2016\n",
       "87      73                Hi Mom!  1970\n",
       "88      97  The Godfather Part II  1974\n",
       "89      67      New York New York  1977\n",
       "\n",
       "[90 rows x 3 columns]"
      ]
     },
     "execution_count": 42,
     "metadata": {},
     "output_type": "execute_result"
    }
   ],
   "source": [
    "#append the two dataFrames\n",
    "df3 = df2.append(df_add,sort=True, ignore_index=True)\n",
    "df3"
   ]
  },
  {
   "cell_type": "code",
   "execution_count": 43,
   "metadata": {
    "colab": {},
    "colab_type": "code",
    "id": "f0-0AEgx-I4T"
   },
   "outputs": [
    {
     "data": {
      "text/html": [
       "<div>\n",
       "<style scoped>\n",
       "    .dataframe tbody tr th:only-of-type {\n",
       "        vertical-align: middle;\n",
       "    }\n",
       "\n",
       "    .dataframe tbody tr th {\n",
       "        vertical-align: top;\n",
       "    }\n",
       "\n",
       "    .dataframe thead th {\n",
       "        text-align: right;\n",
       "    }\n",
       "</style>\n",
       "<table border=\"1\" class=\"dataframe\">\n",
       "  <thead>\n",
       "    <tr style=\"text-align: right;\">\n",
       "      <th></th>\n",
       "      <th>Score</th>\n",
       "      <th>Title</th>\n",
       "      <th>Year</th>\n",
       "    </tr>\n",
       "  </thead>\n",
       "  <tbody>\n",
       "    <tr>\n",
       "      <th>0</th>\n",
       "      <td>86</td>\n",
       "      <td>\"Greetings\"</td>\n",
       "      <td>1968</td>\n",
       "    </tr>\n",
       "    <tr>\n",
       "      <th>1</th>\n",
       "      <td>17</td>\n",
       "      <td>\"Bloody Mama\"</td>\n",
       "      <td>1970</td>\n",
       "    </tr>\n",
       "    <tr>\n",
       "      <th>2</th>\n",
       "      <td>73</td>\n",
       "      <td>\"Hi Mom!\"</td>\n",
       "      <td>1970</td>\n",
       "    </tr>\n",
       "    <tr>\n",
       "      <th>87</th>\n",
       "      <td>73</td>\n",
       "      <td>Hi Mom!</td>\n",
       "      <td>1970</td>\n",
       "    </tr>\n",
       "    <tr>\n",
       "      <th>3</th>\n",
       "      <td>40</td>\n",
       "      <td>\"Born to Win\"</td>\n",
       "      <td>1971</td>\n",
       "    </tr>\n",
       "    <tr>\n",
       "      <th>...</th>\n",
       "      <td>...</td>\n",
       "      <td>...</td>\n",
       "      <td>...</td>\n",
       "    </tr>\n",
       "    <tr>\n",
       "      <th>82</th>\n",
       "      <td>9</td>\n",
       "      <td>\"The Bag Man\"</td>\n",
       "      <td>2014</td>\n",
       "    </tr>\n",
       "    <tr>\n",
       "      <th>83</th>\n",
       "      <td>60</td>\n",
       "      <td>\"Joy\"</td>\n",
       "      <td>2015</td>\n",
       "    </tr>\n",
       "    <tr>\n",
       "      <th>84</th>\n",
       "      <td>26</td>\n",
       "      <td>\"Heist\"</td>\n",
       "      <td>2015</td>\n",
       "    </tr>\n",
       "    <tr>\n",
       "      <th>85</th>\n",
       "      <td>61</td>\n",
       "      <td>\"The Intern\"</td>\n",
       "      <td>2015</td>\n",
       "    </tr>\n",
       "    <tr>\n",
       "      <th>86</th>\n",
       "      <td>11</td>\n",
       "      <td>\"Dirty Grandpa\"</td>\n",
       "      <td>2016</td>\n",
       "    </tr>\n",
       "  </tbody>\n",
       "</table>\n",
       "<p>90 rows × 3 columns</p>\n",
       "</div>"
      ],
      "text/plain": [
       "     Score             Title  Year\n",
       "0       86       \"Greetings\"  1968\n",
       "1       17     \"Bloody Mama\"  1970\n",
       "2       73         \"Hi Mom!\"  1970\n",
       "87      73           Hi Mom!  1970\n",
       "3       40     \"Born to Win\"  1971\n",
       "..     ...               ...   ...\n",
       "82       9     \"The Bag Man\"  2014\n",
       "83      60             \"Joy\"  2015\n",
       "84      26           \"Heist\"  2015\n",
       "85      61      \"The Intern\"  2015\n",
       "86      11   \"Dirty Grandpa\"  2016\n",
       "\n",
       "[90 rows x 3 columns]"
      ]
     },
     "execution_count": 43,
     "metadata": {},
     "output_type": "execute_result"
    }
   ],
   "source": [
    "#Sort the dataframe by Year\n",
    "df3.sort_values(by='Year')"
   ]
  },
  {
   "cell_type": "markdown",
   "metadata": {
    "colab_type": "text",
    "id": "dtB1_3UJI9xs"
   },
   "source": [
    "**DataFrames can be Sorted by an axis:**<br>\n"
   ]
  },
  {
   "cell_type": "code",
   "execution_count": 44,
   "metadata": {
    "colab": {},
    "colab_type": "code",
    "id": "pmjfB2uLI-mv"
   },
   "outputs": [
    {
     "data": {
      "text/html": [
       "<div>\n",
       "<style scoped>\n",
       "    .dataframe tbody tr th:only-of-type {\n",
       "        vertical-align: middle;\n",
       "    }\n",
       "\n",
       "    .dataframe tbody tr th {\n",
       "        vertical-align: top;\n",
       "    }\n",
       "\n",
       "    .dataframe thead th {\n",
       "        text-align: right;\n",
       "    }\n",
       "</style>\n",
       "<table border=\"1\" class=\"dataframe\">\n",
       "  <thead>\n",
       "    <tr style=\"text-align: right;\">\n",
       "      <th></th>\n",
       "      <th>Year</th>\n",
       "      <th>Title</th>\n",
       "      <th>Score</th>\n",
       "    </tr>\n",
       "  </thead>\n",
       "  <tbody>\n",
       "    <tr>\n",
       "      <th>0</th>\n",
       "      <td>1968</td>\n",
       "      <td>\"Greetings\"</td>\n",
       "      <td>86</td>\n",
       "    </tr>\n",
       "    <tr>\n",
       "      <th>1</th>\n",
       "      <td>1970</td>\n",
       "      <td>\"Bloody Mama\"</td>\n",
       "      <td>17</td>\n",
       "    </tr>\n",
       "    <tr>\n",
       "      <th>2</th>\n",
       "      <td>1970</td>\n",
       "      <td>\"Hi Mom!\"</td>\n",
       "      <td>73</td>\n",
       "    </tr>\n",
       "    <tr>\n",
       "      <th>3</th>\n",
       "      <td>1971</td>\n",
       "      <td>\"Born to Win\"</td>\n",
       "      <td>40</td>\n",
       "    </tr>\n",
       "    <tr>\n",
       "      <th>4</th>\n",
       "      <td>1973</td>\n",
       "      <td>\"Mean Streets\"</td>\n",
       "      <td>98</td>\n",
       "    </tr>\n",
       "    <tr>\n",
       "      <th>...</th>\n",
       "      <td>...</td>\n",
       "      <td>...</td>\n",
       "      <td>...</td>\n",
       "    </tr>\n",
       "    <tr>\n",
       "      <th>85</th>\n",
       "      <td>2015</td>\n",
       "      <td>\"The Intern\"</td>\n",
       "      <td>61</td>\n",
       "    </tr>\n",
       "    <tr>\n",
       "      <th>86</th>\n",
       "      <td>2016</td>\n",
       "      <td>\"Dirty Grandpa\"</td>\n",
       "      <td>11</td>\n",
       "    </tr>\n",
       "    <tr>\n",
       "      <th>87</th>\n",
       "      <td>1970</td>\n",
       "      <td>Hi Mom!</td>\n",
       "      <td>73</td>\n",
       "    </tr>\n",
       "    <tr>\n",
       "      <th>88</th>\n",
       "      <td>1974</td>\n",
       "      <td>The Godfather Part II</td>\n",
       "      <td>97</td>\n",
       "    </tr>\n",
       "    <tr>\n",
       "      <th>89</th>\n",
       "      <td>1977</td>\n",
       "      <td>New York New York</td>\n",
       "      <td>67</td>\n",
       "    </tr>\n",
       "  </tbody>\n",
       "</table>\n",
       "<p>90 rows × 3 columns</p>\n",
       "</div>"
      ],
      "text/plain": [
       "    Year                  Title   Score\n",
       "0   1968            \"Greetings\"      86\n",
       "1   1970          \"Bloody Mama\"      17\n",
       "2   1970              \"Hi Mom!\"      73\n",
       "3   1971          \"Born to Win\"      40\n",
       "4   1973         \"Mean Streets\"      98\n",
       "..   ...                    ...     ...\n",
       "85  2015           \"The Intern\"      61\n",
       "86  2016        \"Dirty Grandpa\"      11\n",
       "87  1970                Hi Mom!      73\n",
       "88  1974  The Godfather Part II      97\n",
       "89  1977      New York New York      67\n",
       "\n",
       "[90 rows x 3 columns]"
      ]
     },
     "execution_count": 44,
     "metadata": {},
     "output_type": "execute_result"
    }
   ],
   "source": [
    "df3.sort_index(axis=1, ascending=False)"
   ]
  },
  {
   "cell_type": "markdown",
   "metadata": {
    "colab_type": "text",
    "id": "8xQC79arnEQB"
   },
   "source": [
    "\n",
    "Load the file called oscar_winners.csv into a Pandas DataFrame. \n",
    "Fix any problems you encounter. "
   ]
  },
  {
   "cell_type": "code",
   "execution_count": 45,
   "metadata": {
    "cellView": "form",
    "colab": {},
    "colab_type": "code",
    "id": "rsDKKKo8Tz3A"
   },
   "outputs": [
    {
     "data": {
      "text/html": [
       "<div>\n",
       "<style scoped>\n",
       "    .dataframe tbody tr th:only-of-type {\n",
       "        vertical-align: middle;\n",
       "    }\n",
       "\n",
       "    .dataframe tbody tr th {\n",
       "        vertical-align: top;\n",
       "    }\n",
       "\n",
       "    .dataframe thead th {\n",
       "        text-align: right;\n",
       "    }\n",
       "</style>\n",
       "<table border=\"1\" class=\"dataframe\">\n",
       "  <thead>\n",
       "    <tr style=\"text-align: right;\">\n",
       "      <th></th>\n",
       "      <th>Index</th>\n",
       "      <th>Year</th>\n",
       "      <th>Age</th>\n",
       "      <th>Name</th>\n",
       "      <th>Movie</th>\n",
       "    </tr>\n",
       "  </thead>\n",
       "  <tbody>\n",
       "    <tr>\n",
       "      <th>0</th>\n",
       "      <td>1</td>\n",
       "      <td>1928</td>\n",
       "      <td>44</td>\n",
       "      <td>Emil Jannings</td>\n",
       "      <td>The Last Command, The Way of All Flesh</td>\n",
       "    </tr>\n",
       "    <tr>\n",
       "      <th>1</th>\n",
       "      <td>2</td>\n",
       "      <td>1929</td>\n",
       "      <td>41</td>\n",
       "      <td>Warner Baxter</td>\n",
       "      <td>In Old Arizona</td>\n",
       "    </tr>\n",
       "    <tr>\n",
       "      <th>2</th>\n",
       "      <td>3</td>\n",
       "      <td>1930</td>\n",
       "      <td>62</td>\n",
       "      <td>George Arliss</td>\n",
       "      <td>Disraeli</td>\n",
       "    </tr>\n",
       "    <tr>\n",
       "      <th>3</th>\n",
       "      <td>4</td>\n",
       "      <td>1931</td>\n",
       "      <td>53</td>\n",
       "      <td>Lionel Barrymore</td>\n",
       "      <td>A Free Soul</td>\n",
       "    </tr>\n",
       "    <tr>\n",
       "      <th>4</th>\n",
       "      <td>5</td>\n",
       "      <td>1932</td>\n",
       "      <td>47</td>\n",
       "      <td>Wallace Beery</td>\n",
       "      <td>The Champ</td>\n",
       "    </tr>\n",
       "    <tr>\n",
       "      <th>...</th>\n",
       "      <td>...</td>\n",
       "      <td>...</td>\n",
       "      <td>...</td>\n",
       "      <td>...</td>\n",
       "      <td>...</td>\n",
       "    </tr>\n",
       "    <tr>\n",
       "      <th>84</th>\n",
       "      <td>85</td>\n",
       "      <td>2012</td>\n",
       "      <td>39</td>\n",
       "      <td>Jean Dujardin</td>\n",
       "      <td>The Artist</td>\n",
       "    </tr>\n",
       "    <tr>\n",
       "      <th>85</th>\n",
       "      <td>86</td>\n",
       "      <td>2013</td>\n",
       "      <td>55</td>\n",
       "      <td>Daniel Day-Lewis</td>\n",
       "      <td>Lincoln</td>\n",
       "    </tr>\n",
       "    <tr>\n",
       "      <th>86</th>\n",
       "      <td>87</td>\n",
       "      <td>2014</td>\n",
       "      <td>44</td>\n",
       "      <td>Matthew McConaughey</td>\n",
       "      <td>Dallas Buyers Club</td>\n",
       "    </tr>\n",
       "    <tr>\n",
       "      <th>87</th>\n",
       "      <td>88</td>\n",
       "      <td>2015</td>\n",
       "      <td>33</td>\n",
       "      <td>Eddie Redmayne</td>\n",
       "      <td>The Theory of Everything\\t</td>\n",
       "    </tr>\n",
       "    <tr>\n",
       "      <th>88</th>\n",
       "      <td>89</td>\n",
       "      <td>2016</td>\n",
       "      <td>41</td>\n",
       "      <td>Leonardo DiCaprio</td>\n",
       "      <td>The Revenant</td>\n",
       "    </tr>\n",
       "  </tbody>\n",
       "</table>\n",
       "<p>89 rows × 5 columns</p>\n",
       "</div>"
      ],
      "text/plain": [
       "    Index  Year  Age                 Name  \\\n",
       "0       1  1928   44        Emil Jannings   \n",
       "1       2  1929   41        Warner Baxter   \n",
       "2       3  1930   62        George Arliss   \n",
       "3       4  1931   53     Lionel Barrymore   \n",
       "4       5  1932   47        Wallace Beery   \n",
       "..    ...   ...  ...                  ...   \n",
       "84     85  2012   39        Jean Dujardin   \n",
       "85     86  2013   55     Daniel Day-Lewis   \n",
       "86     87  2014   44  Matthew McConaughey   \n",
       "87     88  2015   33       Eddie Redmayne   \n",
       "88     89  2016   41    Leonardo DiCaprio   \n",
       "\n",
       "                                     Movie  \n",
       "0   The Last Command, The Way of All Flesh  \n",
       "1                           In Old Arizona  \n",
       "2                                 Disraeli  \n",
       "3                              A Free Soul  \n",
       "4                                The Champ  \n",
       "..                                     ...  \n",
       "84                              The Artist  \n",
       "85                                 Lincoln  \n",
       "86                      Dallas Buyers Club  \n",
       "87              The Theory of Everything\\t  \n",
       "88                            The Revenant  \n",
       "\n",
       "[89 rows x 5 columns]"
      ]
     },
     "execution_count": 45,
     "metadata": {},
     "output_type": "execute_result"
    }
   ],
   "source": [
    "#@title \n",
    "df2 = pd.read_csv(\"oscar_winners.csv\", sep=\",\",error_bad_lines=False, skipinitialspace = True, quotechar='\"')\n",
    "df2"
   ]
  },
  {
   "cell_type": "markdown",
   "metadata": {
    "colab_type": "text",
    "id": "1NN-OvHYnKuk"
   },
   "source": [
    "\n",
    "1. Read the letter_frequency.csv file. <br>\n",
    "> It has the letter, number of times the letter appears in a document, and the percentage of the frequency of the letter. <br>\n",
    "\n",
    "2. Print all the *vowels* whose frequency is greater than the frequency of the letter 'U'. \n"
   ]
  },
  {
   "cell_type": "code",
   "execution_count": 46,
   "metadata": {
    "colab": {},
    "colab_type": "code",
    "id": "WWXvrwJxu7Om"
   },
   "outputs": [
    {
     "name": "stdout",
     "output_type": "stream",
     "text": [
      "     Letter   \"Frequency\"   \"Percentage\"\n",
      "0       \"A\"      24373121            8.1\n",
      "1       \"B\"       4762938            1.6\n",
      "2       \"C\"       8982417            3.0\n",
      "3       \"D\"      10805580            3.6\n",
      "4       \"E\"      37907119           12.6\n",
      "5       \"F\"       7486889            2.5\n",
      "6       \"G\"       5143059            1.7\n",
      "7       \"H\"      18058207            6.0\n",
      "8       \"I\"      21820970            7.3\n",
      "9       \"J\"        474021            0.2\n",
      "10      \"K\"       1720909            0.6\n",
      "11      \"L\"      11730498            3.9\n",
      "12      \"M\"       7391366            2.5\n",
      "13      \"N\"      21402466            7.1\n",
      "14      \"O\"      23215532            7.7\n",
      "15      \"P\"       5719422            1.9\n",
      "16      \"Q\"        297237            0.1\n",
      "17      \"R\"      17897352            5.9\n",
      "18      \"S\"      19059775            6.3\n",
      "19      \"T\"      28691274            9.5\n",
      "20      \"U\"       8022379            2.7\n",
      "21      \"V\"       2835696            0.9\n",
      "22      \"W\"       6505294            2.2\n",
      "23      \"X\"        562732            0.2\n",
      "24      \"Y\"       5910495            2.0\n",
      "25      \"Z\"         93172            0.0\n",
      "=============Below are the vowels whose frequency is greater than the frequency of the letter 'U'.=============\n",
      "0         \"A\"\n",
      "1        None\n",
      "2        None\n",
      "3        None\n",
      "4         \"E\"\n",
      "5        None\n",
      "6        None\n",
      "7        None\n",
      "8         \"I\"\n",
      "9        None\n",
      "10       None\n",
      "11       None\n",
      "12       None\n",
      "13       None\n",
      "14        \"O\"\n",
      "15       None\n",
      "16       None\n",
      "17       None\n",
      "18       None\n",
      "19       None\n",
      "20       None\n",
      "21       None\n",
      "22       None\n",
      "23       None\n",
      "24       None\n",
      "25       None\n",
      "dtype: object\n"
     ]
    }
   ],
   "source": [
    "dataframe = pd.read_csv(\"letter_frequency.csv\", sep=\",\",error_bad_lines=False) \n",
    "print(dataframe)\n",
    "frequencyOfU = dataframe.at[20,' \"Frequency\"']\n",
    "#print(frequencyOfU)\n",
    "\n",
    "def checkFrequency(item):\n",
    "  #print('============',item[0])\n",
    "  if(item[0] == '    \"A\"' or item[0] == '    \"E\"' or item[0] == '    \"I\"' or item[0] == '    \"O\"'):\n",
    "    #print(\"frequency of \", item[0], \" = \", item[1])\n",
    "    if(item[1] > frequencyOfU):\n",
    "      #print('Frequency greater')\n",
    "      return item[0]\n",
    "\n",
    "print(\"=============Below are the vowels whose frequency is greater than the frequency of the letter 'U'.=============\")\n",
    "print(dataframe.apply(checkFrequency, axis=1))"
   ]
  },
  {
   "cell_type": "markdown",
   "metadata": {
    "colab_type": "text",
    "id": "naxWILsG-sxC"
   },
   "source": [
    "\n",
    "**When reading in CSV files, you must really understand your data **<br><br>\n",
    "Load letter_frequency.csv into a dataframe.<br>\n",
    "1. Print out the column names<br>\n",
    ">print(dataframe-name.columns)<br>\n",
    "2. Print out a row<br>\n",
    ">print(dataframe-name.loc[[row#]])<br>\n",
    "3. Print out a specific value<br>\n",
    ">dataframe-name.at[row#, column name]"
   ]
  },
  {
   "cell_type": "markdown",
   "metadata": {
    "colab_type": "text",
    "id": "DuhaZkVSQ3j2"
   },
   "source": [
    "**Categorizing Variables**"
   ]
  },
  {
   "cell_type": "code",
   "execution_count": 47,
   "metadata": {
    "colab": {},
    "colab_type": "code",
    "id": "SyvmLRXZQ3uG"
   },
   "outputs": [
    {
     "data": {
      "text/html": [
       "<div>\n",
       "<style scoped>\n",
       "    .dataframe tbody tr th:only-of-type {\n",
       "        vertical-align: middle;\n",
       "    }\n",
       "\n",
       "    .dataframe tbody tr th {\n",
       "        vertical-align: top;\n",
       "    }\n",
       "\n",
       "    .dataframe thead th {\n",
       "        text-align: right;\n",
       "    }\n",
       "</style>\n",
       "<table border=\"1\" class=\"dataframe\">\n",
       "  <thead>\n",
       "    <tr style=\"text-align: right;\">\n",
       "      <th></th>\n",
       "      <th>food</th>\n",
       "      <th>ounces</th>\n",
       "    </tr>\n",
       "  </thead>\n",
       "  <tbody>\n",
       "    <tr>\n",
       "      <th>0</th>\n",
       "      <td>bacon</td>\n",
       "      <td>4.0</td>\n",
       "    </tr>\n",
       "    <tr>\n",
       "      <th>1</th>\n",
       "      <td>pulled pork</td>\n",
       "      <td>3.0</td>\n",
       "    </tr>\n",
       "    <tr>\n",
       "      <th>2</th>\n",
       "      <td>bacon</td>\n",
       "      <td>12.0</td>\n",
       "    </tr>\n",
       "    <tr>\n",
       "      <th>3</th>\n",
       "      <td>Pastrami</td>\n",
       "      <td>6.0</td>\n",
       "    </tr>\n",
       "    <tr>\n",
       "      <th>4</th>\n",
       "      <td>corned beef</td>\n",
       "      <td>7.5</td>\n",
       "    </tr>\n",
       "    <tr>\n",
       "      <th>5</th>\n",
       "      <td>Bacon</td>\n",
       "      <td>8.0</td>\n",
       "    </tr>\n",
       "    <tr>\n",
       "      <th>6</th>\n",
       "      <td>pastrami</td>\n",
       "      <td>3.0</td>\n",
       "    </tr>\n",
       "    <tr>\n",
       "      <th>7</th>\n",
       "      <td>honey ham</td>\n",
       "      <td>5.0</td>\n",
       "    </tr>\n",
       "    <tr>\n",
       "      <th>8</th>\n",
       "      <td>nova lox</td>\n",
       "      <td>6.0</td>\n",
       "    </tr>\n",
       "  </tbody>\n",
       "</table>\n",
       "</div>"
      ],
      "text/plain": [
       "          food  ounces\n",
       "0        bacon     4.0\n",
       "1  pulled pork     3.0\n",
       "2        bacon    12.0\n",
       "3     Pastrami     6.0\n",
       "4  corned beef     7.5\n",
       "5        Bacon     8.0\n",
       "6     pastrami     3.0\n",
       "7    honey ham     5.0\n",
       "8     nova lox     6.0"
      ]
     },
     "execution_count": 47,
     "metadata": {},
     "output_type": "execute_result"
    }
   ],
   "source": [
    "#Create a dataframe\n",
    "data = pd.DataFrame({'food': ['bacon', 'pulled pork', 'bacon', 'Pastrami',\n",
    "                              'corned beef', 'Bacon', 'pastrami', 'honey ham','nova lox'],\n",
    "                 'ounces': [4, 3, 12, 6, 7.5, 8, 3, 5, 6]})\n",
    "data"
   ]
  },
  {
   "cell_type": "markdown",
   "metadata": {
    "colab_type": "text",
    "id": "74n4ZZYKQcY0"
   },
   "source": [
    "**Referencing columns by name and index**"
   ]
  },
  {
   "cell_type": "code",
   "execution_count": 48,
   "metadata": {
    "colab": {},
    "colab_type": "code",
    "id": "bw0Vacs-Prnr"
   },
   "outputs": [
    {
     "data": {
      "text/plain": [
       "0          bacon\n",
       "1    pulled pork\n",
       "2          bacon\n",
       "3       Pastrami\n",
       "4    corned beef\n",
       "5          Bacon\n",
       "6       pastrami\n",
       "7      honey ham\n",
       "8       nova lox\n",
       "Name: food, dtype: object"
      ]
     },
     "execution_count": 48,
     "metadata": {},
     "output_type": "execute_result"
    }
   ],
   "source": [
    "#data.loc[: , \"food\"]\n",
    "data[data.columns[0]]"
   ]
  },
  {
   "cell_type": "markdown",
   "metadata": {
    "colab_type": "text",
    "id": "nVfuklQzRaUz"
   },
   "source": [
    "Add a column that contains a variable for the source of food. "
   ]
  },
  {
   "cell_type": "code",
   "execution_count": 49,
   "metadata": {
    "colab": {},
    "colab_type": "code",
    "id": "v4qFicYuRZja"
   },
   "outputs": [],
   "source": [
    "#Step 1: create dictionary to map the food-source relationship\n",
    "meat_to_animal = {\n",
    "    'bacon': 'pig',\n",
    "    'pulled pork': 'pig',\n",
    "    'pastrami': 'cow',\n",
    "    'corned beef': 'cow',\n",
    "    'honey ham': 'pig',\n",
    "    'nova lox': 'salmon'\n",
    "}"
   ]
  },
  {
   "cell_type": "code",
   "execution_count": null,
   "metadata": {
    "colab": {},
    "colab_type": "code",
    "id": "ryBPxGWiSz48"
   },
   "outputs": [],
   "source": [
    "#create a new variable\n",
    "data['animal'] = data['food'].map(str.lower).map(meat_to_animal)\n",
    "data"
   ]
  },
  {
   "cell_type": "code",
   "execution_count": 50,
   "metadata": {
    "colab": {},
    "colab_type": "code",
    "id": "s3jM0F8CSF5_"
   },
   "outputs": [
    {
     "data": {
      "text/html": [
       "<div>\n",
       "<style scoped>\n",
       "    .dataframe tbody tr th:only-of-type {\n",
       "        vertical-align: middle;\n",
       "    }\n",
       "\n",
       "    .dataframe tbody tr th {\n",
       "        vertical-align: top;\n",
       "    }\n",
       "\n",
       "    .dataframe thead th {\n",
       "        text-align: right;\n",
       "    }\n",
       "</style>\n",
       "<table border=\"1\" class=\"dataframe\">\n",
       "  <thead>\n",
       "    <tr style=\"text-align: right;\">\n",
       "      <th></th>\n",
       "      <th>food</th>\n",
       "      <th>ounces</th>\n",
       "      <th>family_serving</th>\n",
       "    </tr>\n",
       "  </thead>\n",
       "  <tbody>\n",
       "    <tr>\n",
       "      <th>0</th>\n",
       "      <td>bacon</td>\n",
       "      <td>4.0</td>\n",
       "      <td>40.0</td>\n",
       "    </tr>\n",
       "    <tr>\n",
       "      <th>1</th>\n",
       "      <td>pulled pork</td>\n",
       "      <td>3.0</td>\n",
       "      <td>30.0</td>\n",
       "    </tr>\n",
       "    <tr>\n",
       "      <th>2</th>\n",
       "      <td>bacon</td>\n",
       "      <td>12.0</td>\n",
       "      <td>120.0</td>\n",
       "    </tr>\n",
       "    <tr>\n",
       "      <th>3</th>\n",
       "      <td>Pastrami</td>\n",
       "      <td>6.0</td>\n",
       "      <td>60.0</td>\n",
       "    </tr>\n",
       "    <tr>\n",
       "      <th>4</th>\n",
       "      <td>corned beef</td>\n",
       "      <td>7.5</td>\n",
       "      <td>75.0</td>\n",
       "    </tr>\n",
       "    <tr>\n",
       "      <th>5</th>\n",
       "      <td>Bacon</td>\n",
       "      <td>8.0</td>\n",
       "      <td>80.0</td>\n",
       "    </tr>\n",
       "    <tr>\n",
       "      <th>6</th>\n",
       "      <td>pastrami</td>\n",
       "      <td>3.0</td>\n",
       "      <td>30.0</td>\n",
       "    </tr>\n",
       "    <tr>\n",
       "      <th>7</th>\n",
       "      <td>honey ham</td>\n",
       "      <td>5.0</td>\n",
       "      <td>50.0</td>\n",
       "    </tr>\n",
       "    <tr>\n",
       "      <th>8</th>\n",
       "      <td>nova lox</td>\n",
       "      <td>6.0</td>\n",
       "      <td>60.0</td>\n",
       "    </tr>\n",
       "  </tbody>\n",
       "</table>\n",
       "</div>"
      ],
      "text/plain": [
       "          food  ounces  family_serving\n",
       "0        bacon     4.0            40.0\n",
       "1  pulled pork     3.0            30.0\n",
       "2        bacon    12.0           120.0\n",
       "3     Pastrami     6.0            60.0\n",
       "4  corned beef     7.5            75.0\n",
       "5        Bacon     8.0            80.0\n",
       "6     pastrami     3.0            30.0\n",
       "7    honey ham     5.0            50.0\n",
       "8     nova lox     6.0            60.0"
      ]
     },
     "execution_count": 50,
     "metadata": {},
     "output_type": "execute_result"
    }
   ],
   "source": [
    "#Or add the new variable using the assign function\n",
    "#Notice with this method I created a new dataframe\n",
    "new_data = data.assign(family_serving = data['ounces']*10)\n",
    "new_data"
   ]
  },
  {
   "cell_type": "markdown",
   "metadata": {
    "colab_type": "text",
    "id": "Bxc2WoZQTf3K"
   },
   "source": [
    "**Drop a column**"
   ]
  },
  {
   "cell_type": "code",
   "execution_count": 51,
   "metadata": {
    "colab": {},
    "colab_type": "code",
    "id": "FO4NU-MITiJH"
   },
   "outputs": [
    {
     "data": {
      "text/html": [
       "<div>\n",
       "<style scoped>\n",
       "    .dataframe tbody tr th:only-of-type {\n",
       "        vertical-align: middle;\n",
       "    }\n",
       "\n",
       "    .dataframe tbody tr th {\n",
       "        vertical-align: top;\n",
       "    }\n",
       "\n",
       "    .dataframe thead th {\n",
       "        text-align: right;\n",
       "    }\n",
       "</style>\n",
       "<table border=\"1\" class=\"dataframe\">\n",
       "  <thead>\n",
       "    <tr style=\"text-align: right;\">\n",
       "      <th></th>\n",
       "      <th>food</th>\n",
       "      <th>ounces</th>\n",
       "    </tr>\n",
       "  </thead>\n",
       "  <tbody>\n",
       "    <tr>\n",
       "      <th>0</th>\n",
       "      <td>bacon</td>\n",
       "      <td>4.0</td>\n",
       "    </tr>\n",
       "    <tr>\n",
       "      <th>1</th>\n",
       "      <td>pulled pork</td>\n",
       "      <td>3.0</td>\n",
       "    </tr>\n",
       "    <tr>\n",
       "      <th>2</th>\n",
       "      <td>bacon</td>\n",
       "      <td>12.0</td>\n",
       "    </tr>\n",
       "    <tr>\n",
       "      <th>3</th>\n",
       "      <td>Pastrami</td>\n",
       "      <td>6.0</td>\n",
       "    </tr>\n",
       "    <tr>\n",
       "      <th>4</th>\n",
       "      <td>corned beef</td>\n",
       "      <td>7.5</td>\n",
       "    </tr>\n",
       "    <tr>\n",
       "      <th>5</th>\n",
       "      <td>Bacon</td>\n",
       "      <td>8.0</td>\n",
       "    </tr>\n",
       "    <tr>\n",
       "      <th>6</th>\n",
       "      <td>pastrami</td>\n",
       "      <td>3.0</td>\n",
       "    </tr>\n",
       "    <tr>\n",
       "      <th>7</th>\n",
       "      <td>honey ham</td>\n",
       "      <td>5.0</td>\n",
       "    </tr>\n",
       "    <tr>\n",
       "      <th>8</th>\n",
       "      <td>nova lox</td>\n",
       "      <td>6.0</td>\n",
       "    </tr>\n",
       "  </tbody>\n",
       "</table>\n",
       "</div>"
      ],
      "text/plain": [
       "          food  ounces\n",
       "0        bacon     4.0\n",
       "1  pulled pork     3.0\n",
       "2        bacon    12.0\n",
       "3     Pastrami     6.0\n",
       "4  corned beef     7.5\n",
       "5        Bacon     8.0\n",
       "6     pastrami     3.0\n",
       "7    honey ham     5.0\n",
       "8     nova lox     6.0"
      ]
     },
     "execution_count": 51,
     "metadata": {},
     "output_type": "execute_result"
    }
   ],
   "source": [
    "new_data.drop('family_serving',axis='columns',inplace=True)\n",
    "new_data"
   ]
  },
  {
   "cell_type": "markdown",
   "metadata": {
    "colab_type": "text",
    "id": "Ljp5g_4FTUY3"
   },
   "source": [
    "\n",
    "\n",
    "1. Use the testTitanic.csv file to create a dataframe. <br>\n",
    "survival - Survival (0 = No; 1 = Yes)<br>\n",
    "class - Passenger Class (1 = 1st; 2 = 2nd; 3 = 3rd)<br>\n",
    "name - Name<br>\n",
    "sex - Sex<br>\n",
    "age - Age<br>\n",
    "sibsp - Number of Siblings/Spouses Aboard<br>\n",
    "parch - Number of Parents/Children Aboard<br>\n",
    "ticket - Ticket Number<br>\n",
    "fare - Passenger Fare<br>\n",
    "cabin - Cabin<br>\n",
    "embarked - Port of Embarkation <br>\n",
    "(C = Cherbourg; Q = Queenstown; S = Southampton)<br>\n",
    "<br>\n",
    "\n",
    "2. Add a column for citizenship based on embark point. <br>\n",
    ">April 10, 1912 Passengers in Southampton, England, board the ship. <br>\n",
    "April 11, 1912 after stopping in France the Titanic picks up more passengers in Queenstown, Ireland<br>\n",
    "\n",
    "3. Drop the SibSp column"
   ]
  },
  {
   "cell_type": "code",
   "execution_count": 52,
   "metadata": {
    "colab": {},
    "colab_type": "code",
    "id": "s1_yV4IbBKqM"
   },
   "outputs": [
    {
     "data": {
      "text/html": [
       "<div>\n",
       "<style scoped>\n",
       "    .dataframe tbody tr th:only-of-type {\n",
       "        vertical-align: middle;\n",
       "    }\n",
       "\n",
       "    .dataframe tbody tr th {\n",
       "        vertical-align: top;\n",
       "    }\n",
       "\n",
       "    .dataframe thead th {\n",
       "        text-align: right;\n",
       "    }\n",
       "</style>\n",
       "<table border=\"1\" class=\"dataframe\">\n",
       "  <thead>\n",
       "    <tr style=\"text-align: right;\">\n",
       "      <th></th>\n",
       "      <th>PassengerId</th>\n",
       "      <th>Pclass</th>\n",
       "      <th>Name</th>\n",
       "      <th>Sex</th>\n",
       "      <th>Age</th>\n",
       "      <th>Parch</th>\n",
       "      <th>Ticket</th>\n",
       "      <th>Fare</th>\n",
       "      <th>Cabin</th>\n",
       "      <th>Embarked</th>\n",
       "      <th>Citizenship</th>\n",
       "    </tr>\n",
       "  </thead>\n",
       "  <tbody>\n",
       "    <tr>\n",
       "      <th>0</th>\n",
       "      <td>892</td>\n",
       "      <td>3</td>\n",
       "      <td>Kelly, Mr. James</td>\n",
       "      <td>male</td>\n",
       "      <td>34.5</td>\n",
       "      <td>0</td>\n",
       "      <td>330911</td>\n",
       "      <td>7.8292</td>\n",
       "      <td>NaN</td>\n",
       "      <td>Q</td>\n",
       "      <td>Ireland</td>\n",
       "    </tr>\n",
       "    <tr>\n",
       "      <th>1</th>\n",
       "      <td>893</td>\n",
       "      <td>3</td>\n",
       "      <td>Wilkes, Mrs. James (Ellen Needs)</td>\n",
       "      <td>female</td>\n",
       "      <td>47.0</td>\n",
       "      <td>0</td>\n",
       "      <td>363272</td>\n",
       "      <td>7.0000</td>\n",
       "      <td>NaN</td>\n",
       "      <td>S</td>\n",
       "      <td>England</td>\n",
       "    </tr>\n",
       "    <tr>\n",
       "      <th>2</th>\n",
       "      <td>894</td>\n",
       "      <td>2</td>\n",
       "      <td>Myles, Mr. Thomas Francis</td>\n",
       "      <td>male</td>\n",
       "      <td>62.0</td>\n",
       "      <td>0</td>\n",
       "      <td>240276</td>\n",
       "      <td>9.6875</td>\n",
       "      <td>NaN</td>\n",
       "      <td>Q</td>\n",
       "      <td>Ireland</td>\n",
       "    </tr>\n",
       "    <tr>\n",
       "      <th>3</th>\n",
       "      <td>895</td>\n",
       "      <td>3</td>\n",
       "      <td>Wirz, Mr. Albert</td>\n",
       "      <td>male</td>\n",
       "      <td>27.0</td>\n",
       "      <td>0</td>\n",
       "      <td>315154</td>\n",
       "      <td>8.6625</td>\n",
       "      <td>NaN</td>\n",
       "      <td>S</td>\n",
       "      <td>England</td>\n",
       "    </tr>\n",
       "    <tr>\n",
       "      <th>4</th>\n",
       "      <td>896</td>\n",
       "      <td>3</td>\n",
       "      <td>Hirvonen, Mrs. Alexander (Helga E Lindqvist)</td>\n",
       "      <td>female</td>\n",
       "      <td>22.0</td>\n",
       "      <td>1</td>\n",
       "      <td>3101298</td>\n",
       "      <td>12.2875</td>\n",
       "      <td>NaN</td>\n",
       "      <td>S</td>\n",
       "      <td>England</td>\n",
       "    </tr>\n",
       "    <tr>\n",
       "      <th>...</th>\n",
       "      <td>...</td>\n",
       "      <td>...</td>\n",
       "      <td>...</td>\n",
       "      <td>...</td>\n",
       "      <td>...</td>\n",
       "      <td>...</td>\n",
       "      <td>...</td>\n",
       "      <td>...</td>\n",
       "      <td>...</td>\n",
       "      <td>...</td>\n",
       "      <td>...</td>\n",
       "    </tr>\n",
       "    <tr>\n",
       "      <th>413</th>\n",
       "      <td>1305</td>\n",
       "      <td>3</td>\n",
       "      <td>Spector, Mr. Woolf</td>\n",
       "      <td>male</td>\n",
       "      <td>NaN</td>\n",
       "      <td>0</td>\n",
       "      <td>A.5. 3236</td>\n",
       "      <td>8.0500</td>\n",
       "      <td>NaN</td>\n",
       "      <td>S</td>\n",
       "      <td>England</td>\n",
       "    </tr>\n",
       "    <tr>\n",
       "      <th>414</th>\n",
       "      <td>1306</td>\n",
       "      <td>1</td>\n",
       "      <td>Oliva y Ocana, Dona. Fermina</td>\n",
       "      <td>female</td>\n",
       "      <td>39.0</td>\n",
       "      <td>0</td>\n",
       "      <td>PC 17758</td>\n",
       "      <td>108.9000</td>\n",
       "      <td>C105</td>\n",
       "      <td>C</td>\n",
       "      <td>France</td>\n",
       "    </tr>\n",
       "    <tr>\n",
       "      <th>415</th>\n",
       "      <td>1307</td>\n",
       "      <td>3</td>\n",
       "      <td>Saether, Mr. Simon Sivertsen</td>\n",
       "      <td>male</td>\n",
       "      <td>38.5</td>\n",
       "      <td>0</td>\n",
       "      <td>SOTON/O.Q. 3101262</td>\n",
       "      <td>7.2500</td>\n",
       "      <td>NaN</td>\n",
       "      <td>S</td>\n",
       "      <td>England</td>\n",
       "    </tr>\n",
       "    <tr>\n",
       "      <th>416</th>\n",
       "      <td>1308</td>\n",
       "      <td>3</td>\n",
       "      <td>Ware, Mr. Frederick</td>\n",
       "      <td>male</td>\n",
       "      <td>NaN</td>\n",
       "      <td>0</td>\n",
       "      <td>359309</td>\n",
       "      <td>8.0500</td>\n",
       "      <td>NaN</td>\n",
       "      <td>S</td>\n",
       "      <td>England</td>\n",
       "    </tr>\n",
       "    <tr>\n",
       "      <th>417</th>\n",
       "      <td>1309</td>\n",
       "      <td>3</td>\n",
       "      <td>Peter, Master. Michael J</td>\n",
       "      <td>male</td>\n",
       "      <td>NaN</td>\n",
       "      <td>1</td>\n",
       "      <td>2668</td>\n",
       "      <td>22.3583</td>\n",
       "      <td>NaN</td>\n",
       "      <td>C</td>\n",
       "      <td>France</td>\n",
       "    </tr>\n",
       "  </tbody>\n",
       "</table>\n",
       "<p>418 rows × 11 columns</p>\n",
       "</div>"
      ],
      "text/plain": [
       "     PassengerId  Pclass                                          Name  \\\n",
       "0            892       3                              Kelly, Mr. James   \n",
       "1            893       3              Wilkes, Mrs. James (Ellen Needs)   \n",
       "2            894       2                     Myles, Mr. Thomas Francis   \n",
       "3            895       3                              Wirz, Mr. Albert   \n",
       "4            896       3  Hirvonen, Mrs. Alexander (Helga E Lindqvist)   \n",
       "..           ...     ...                                           ...   \n",
       "413         1305       3                            Spector, Mr. Woolf   \n",
       "414         1306       1                  Oliva y Ocana, Dona. Fermina   \n",
       "415         1307       3                  Saether, Mr. Simon Sivertsen   \n",
       "416         1308       3                           Ware, Mr. Frederick   \n",
       "417         1309       3                      Peter, Master. Michael J   \n",
       "\n",
       "        Sex   Age  Parch              Ticket      Fare Cabin Embarked  \\\n",
       "0      male  34.5      0              330911    7.8292   NaN        Q   \n",
       "1    female  47.0      0              363272    7.0000   NaN        S   \n",
       "2      male  62.0      0              240276    9.6875   NaN        Q   \n",
       "3      male  27.0      0              315154    8.6625   NaN        S   \n",
       "4    female  22.0      1             3101298   12.2875   NaN        S   \n",
       "..      ...   ...    ...                 ...       ...   ...      ...   \n",
       "413    male   NaN      0           A.5. 3236    8.0500   NaN        S   \n",
       "414  female  39.0      0            PC 17758  108.9000  C105        C   \n",
       "415    male  38.5      0  SOTON/O.Q. 3101262    7.2500   NaN        S   \n",
       "416    male   NaN      0              359309    8.0500   NaN        S   \n",
       "417    male   NaN      1                2668   22.3583   NaN        C   \n",
       "\n",
       "    Citizenship  \n",
       "0       Ireland  \n",
       "1       England  \n",
       "2       Ireland  \n",
       "3       England  \n",
       "4       England  \n",
       "..          ...  \n",
       "413     England  \n",
       "414      France  \n",
       "415     England  \n",
       "416     England  \n",
       "417      France  \n",
       "\n",
       "[418 rows x 11 columns]"
      ]
     },
     "execution_count": 52,
     "metadata": {},
     "output_type": "execute_result"
    }
   ],
   "source": [
    "dataframe = pd.read_csv(\"testTitanic.csv\", sep=\",\",error_bad_lines=False) \n",
    "embarkToCitizenship = {\n",
    "    'Q': 'Ireland',\n",
    "    'S': 'England',\n",
    "    'C': 'France'\n",
    "}\n",
    "dataframe['Citizenship'] = dataframe['Embarked'].map(embarkToCitizenship)\n",
    "\n",
    "dataframe.drop('SibSp',axis='columns',inplace=True)\n",
    "dataframe\n"
   ]
  },
  {
   "cell_type": "markdown",
   "metadata": {
    "colab_type": "text",
    "id": "T3zzruP9WkEh"
   },
   "source": [
    "**Rename Columns and Row**"
   ]
  },
  {
   "cell_type": "code",
   "execution_count": 53,
   "metadata": {
    "colab": {},
    "colab_type": "code",
    "id": "G7QvfdGrWoIx"
   },
   "outputs": [
    {
     "data": {
      "text/html": [
       "<div>\n",
       "<style scoped>\n",
       "    .dataframe tbody tr th:only-of-type {\n",
       "        vertical-align: middle;\n",
       "    }\n",
       "\n",
       "    .dataframe tbody tr th {\n",
       "        vertical-align: top;\n",
       "    }\n",
       "\n",
       "    .dataframe thead th {\n",
       "        text-align: right;\n",
       "    }\n",
       "</style>\n",
       "<table border=\"1\" class=\"dataframe\">\n",
       "  <thead>\n",
       "    <tr style=\"text-align: right;\">\n",
       "      <th></th>\n",
       "      <th>one</th>\n",
       "      <th>two</th>\n",
       "      <th>three</th>\n",
       "      <th>four</th>\n",
       "    </tr>\n",
       "  </thead>\n",
       "  <tbody>\n",
       "    <tr>\n",
       "      <th>Ohio</th>\n",
       "      <td>0</td>\n",
       "      <td>1</td>\n",
       "      <td>2</td>\n",
       "      <td>3</td>\n",
       "    </tr>\n",
       "    <tr>\n",
       "      <th>Colorado</th>\n",
       "      <td>4</td>\n",
       "      <td>5</td>\n",
       "      <td>6</td>\n",
       "      <td>7</td>\n",
       "    </tr>\n",
       "    <tr>\n",
       "      <th>New York</th>\n",
       "      <td>8</td>\n",
       "      <td>9</td>\n",
       "      <td>10</td>\n",
       "      <td>11</td>\n",
       "    </tr>\n",
       "  </tbody>\n",
       "</table>\n",
       "</div>"
      ],
      "text/plain": [
       "          one  two  three  four\n",
       "Ohio        0    1      2     3\n",
       "Colorado    4    5      6     7\n",
       "New York    8    9     10    11"
      ]
     },
     "execution_count": 53,
     "metadata": {},
     "output_type": "execute_result"
    }
   ],
   "source": [
    "data = pd.DataFrame(np.arange(12).reshape((3, 4)),index=['Ohio', 'Colorado', 'New York'],\n",
    "                    columns=['one', 'two', 'three', 'four'])\n",
    "data"
   ]
  },
  {
   "cell_type": "markdown",
   "metadata": {
    "colab_type": "text",
    "id": "qOMEG99jW62i"
   },
   "source": [
    "**Use the rename function**<br>\n",
    "Rename a row using the rename function"
   ]
  },
  {
   "cell_type": "code",
   "execution_count": 54,
   "metadata": {
    "colab": {},
    "colab_type": "code",
    "id": "Yp55DjpUW0rn"
   },
   "outputs": [
    {
     "data": {
      "text/html": [
       "<div>\n",
       "<style scoped>\n",
       "    .dataframe tbody tr th:only-of-type {\n",
       "        vertical-align: middle;\n",
       "    }\n",
       "\n",
       "    .dataframe tbody tr th {\n",
       "        vertical-align: top;\n",
       "    }\n",
       "\n",
       "    .dataframe thead th {\n",
       "        text-align: right;\n",
       "    }\n",
       "</style>\n",
       "<table border=\"1\" class=\"dataframe\">\n",
       "  <thead>\n",
       "    <tr style=\"text-align: right;\">\n",
       "      <th></th>\n",
       "      <th>one_p</th>\n",
       "      <th>two_p</th>\n",
       "      <th>three</th>\n",
       "      <th>four</th>\n",
       "    </tr>\n",
       "  </thead>\n",
       "  <tbody>\n",
       "    <tr>\n",
       "      <th>Iowa</th>\n",
       "      <td>0</td>\n",
       "      <td>1</td>\n",
       "      <td>2</td>\n",
       "      <td>3</td>\n",
       "    </tr>\n",
       "    <tr>\n",
       "      <th>Colorado</th>\n",
       "      <td>4</td>\n",
       "      <td>5</td>\n",
       "      <td>6</td>\n",
       "      <td>7</td>\n",
       "    </tr>\n",
       "    <tr>\n",
       "      <th>New York</th>\n",
       "      <td>8</td>\n",
       "      <td>9</td>\n",
       "      <td>10</td>\n",
       "      <td>11</td>\n",
       "    </tr>\n",
       "  </tbody>\n",
       "</table>\n",
       "</div>"
      ],
      "text/plain": [
       "          one_p  two_p  three  four\n",
       "Iowa          0      1      2     3\n",
       "Colorado      4      5      6     7\n",
       "New York      8      9     10    11"
      ]
     },
     "execution_count": 54,
     "metadata": {},
     "output_type": "execute_result"
    }
   ],
   "source": [
    "#Using rename function\n",
    "data.rename(index = {'Ohio':'Iowa'}, columns={'one':'one_p','two':'two_p'},inplace=True)\n",
    "data"
   ]
  },
  {
   "cell_type": "markdown",
   "metadata": {
    "colab_type": "text",
    "id": "bXvYL7gtXKec"
   },
   "source": [
    "**Rename a column**<br>\n",
    "Rename a column using the rename function"
   ]
  },
  {
   "cell_type": "code",
   "execution_count": 55,
   "metadata": {
    "colab": {},
    "colab_type": "code",
    "id": "5yh_vvelXKn0"
   },
   "outputs": [
    {
     "data": {
      "text/html": [
       "<div>\n",
       "<style scoped>\n",
       "    .dataframe tbody tr th:only-of-type {\n",
       "        vertical-align: middle;\n",
       "    }\n",
       "\n",
       "    .dataframe tbody tr th {\n",
       "        vertical-align: top;\n",
       "    }\n",
       "\n",
       "    .dataframe thead th {\n",
       "        text-align: right;\n",
       "    }\n",
       "</style>\n",
       "<table border=\"1\" class=\"dataframe\">\n",
       "  <thead>\n",
       "    <tr style=\"text-align: right;\">\n",
       "      <th></th>\n",
       "      <th>one_p</th>\n",
       "      <th>two_p</th>\n",
       "      <th>three</th>\n",
       "      <th>four</th>\n",
       "    </tr>\n",
       "  </thead>\n",
       "  <tbody>\n",
       "    <tr>\n",
       "      <th>Iowa</th>\n",
       "      <td>0</td>\n",
       "      <td>1</td>\n",
       "      <td>2</td>\n",
       "      <td>3</td>\n",
       "    </tr>\n",
       "    <tr>\n",
       "      <th>Colorado</th>\n",
       "      <td>4</td>\n",
       "      <td>5</td>\n",
       "      <td>6</td>\n",
       "      <td>7</td>\n",
       "    </tr>\n",
       "    <tr>\n",
       "      <th>New York</th>\n",
       "      <td>8</td>\n",
       "      <td>9</td>\n",
       "      <td>10</td>\n",
       "      <td>11</td>\n",
       "    </tr>\n",
       "  </tbody>\n",
       "</table>\n",
       "</div>"
      ],
      "text/plain": [
       "          one_p  two_p  three  four\n",
       "Iowa          0      1      2     3\n",
       "Colorado      4      5      6     7\n",
       "New York      8      9     10    11"
      ]
     },
     "execution_count": 55,
     "metadata": {},
     "output_type": "execute_result"
    }
   ],
   "source": [
    "#Using rename function\n",
    "data.rename(columns={'one':'one_p','two':'two_p'},inplace=True)\n",
    "data"
   ]
  },
  {
   "cell_type": "markdown",
   "metadata": {
    "colab_type": "text",
    "id": "O5a_ZVZ8XbxQ"
   },
   "source": [
    "Use the rename function to change the case for a column"
   ]
  },
  {
   "cell_type": "code",
   "execution_count": 56,
   "metadata": {
    "colab": {},
    "colab_type": "code",
    "id": "He2v4jDVXkvC"
   },
   "outputs": [
    {
     "data": {
      "text/html": [
       "<div>\n",
       "<style scoped>\n",
       "    .dataframe tbody tr th:only-of-type {\n",
       "        vertical-align: middle;\n",
       "    }\n",
       "\n",
       "    .dataframe tbody tr th {\n",
       "        vertical-align: top;\n",
       "    }\n",
       "\n",
       "    .dataframe thead th {\n",
       "        text-align: right;\n",
       "    }\n",
       "</style>\n",
       "<table border=\"1\" class=\"dataframe\">\n",
       "  <thead>\n",
       "    <tr style=\"text-align: right;\">\n",
       "      <th></th>\n",
       "      <th>One_P</th>\n",
       "      <th>Two_P</th>\n",
       "      <th>Three</th>\n",
       "      <th>Four</th>\n",
       "    </tr>\n",
       "  </thead>\n",
       "  <tbody>\n",
       "    <tr>\n",
       "      <th>IOWA</th>\n",
       "      <td>0</td>\n",
       "      <td>1</td>\n",
       "      <td>2</td>\n",
       "      <td>3</td>\n",
       "    </tr>\n",
       "    <tr>\n",
       "      <th>COLORADO</th>\n",
       "      <td>4</td>\n",
       "      <td>5</td>\n",
       "      <td>6</td>\n",
       "      <td>7</td>\n",
       "    </tr>\n",
       "    <tr>\n",
       "      <th>NEW YORK</th>\n",
       "      <td>8</td>\n",
       "      <td>9</td>\n",
       "      <td>10</td>\n",
       "      <td>11</td>\n",
       "    </tr>\n",
       "  </tbody>\n",
       "</table>\n",
       "</div>"
      ],
      "text/plain": [
       "          One_P  Two_P  Three  Four\n",
       "IOWA          0      1      2     3\n",
       "COLORADO      4      5      6     7\n",
       "NEW YORK      8      9     10    11"
      ]
     },
     "execution_count": 56,
     "metadata": {},
     "output_type": "execute_result"
    }
   ],
   "source": [
    "#Use the string function with the rename function\n",
    "data.rename(index = str.upper, columns=str.title,inplace=True)\n",
    "data"
   ]
  },
  {
   "cell_type": "markdown",
   "metadata": {
    "colab_type": "text",
    "id": "Qjg3skmmXuUX"
   },
   "source": [
    "\n",
    "1. Use the testTitanic.csv file to create a dataframe. <br>\n",
    "2. Change the values in the Sex column to:<br>\n",
    ">M for Male, F for female\n"
   ]
  },
  {
   "cell_type": "markdown",
   "metadata": {
    "colab_type": "text",
    "id": "YmxAnx1RYS1P"
   },
   "source": [
    "**Binning continuous variables**<br>\n"
   ]
  },
  {
   "cell_type": "code",
   "execution_count": 57,
   "metadata": {
    "colab": {},
    "colab_type": "code",
    "id": "DbHnGfeqYdQZ"
   },
   "outputs": [],
   "source": [
    "#Create a series\n",
    "ages = [20, 22, 25, 27, 21, 23, 37, 31, 61, 45, 120, 32]"
   ]
  },
  {
   "cell_type": "markdown",
   "metadata": {
    "colab_type": "text",
    "id": "PvUuPp6UYmo8"
   },
   "source": [
    "Create bins for each age range"
   ]
  },
  {
   "cell_type": "code",
   "execution_count": 58,
   "metadata": {
    "colab": {},
    "colab_type": "code",
    "id": "_w6sf0y3Yw8Q"
   },
   "outputs": [
    {
     "data": {
      "text/plain": [
       "[(18, 25], (18, 25], (18, 25], (25, 35], (18, 25], ..., (25, 35], (60, 100], (35, 60], (100, 120], (25, 35]]\n",
       "Length: 12\n",
       "Categories (5, interval[int64]): [(18, 25] < (25, 35] < (35, 60] < (60, 100] < (100, 120]]"
      ]
     },
     "execution_count": 58,
     "metadata": {},
     "output_type": "execute_result"
    }
   ],
   "source": [
    "#Understanding the output - \n",
    "#'(' means the value is included in the bin, \n",
    "#'[' means the value is excluded\n",
    "\n",
    "bins = [18, 25, 35, 60, 100, 120]\n",
    "cats = pd.cut(ages, bins)\n",
    "cats"
   ]
  },
  {
   "cell_type": "code",
   "execution_count": 60,
   "metadata": {
    "colab": {},
    "colab_type": "code",
    "id": "Ad_BMTbpZ6or"
   },
   "outputs": [
    {
     "data": {
      "text/plain": [
       "(18, 25]      5\n",
       "(25, 35]      3\n",
       "(35, 60]      2\n",
       "(100, 120]    1\n",
       "(60, 100]     1\n",
       "dtype: int64"
      ]
     },
     "execution_count": 60,
     "metadata": {},
     "output_type": "execute_result"
    }
   ],
   "source": [
    "pd.value_counts(cats)"
   ]
  },
  {
   "cell_type": "code",
   "execution_count": 59,
   "metadata": {
    "colab": {},
    "colab_type": "code",
    "id": "SLQJpOcAaKBI"
   },
   "outputs": [
    {
     "data": {
      "text/plain": [
       "Youth         5\n",
       "YoungAdult    3\n",
       "MiddleAge     2\n",
       "Ancient       1\n",
       "Senior        1\n",
       "dtype: int64"
      ]
     },
     "execution_count": 59,
     "metadata": {},
     "output_type": "execute_result"
    }
   ],
   "source": [
    "bin_names = ['Youth', 'YoungAdult', 'MiddleAge', 'Senior', 'Ancient']\n",
    "new_cats = pd.cut(ages, bins,labels=bin_names)\n",
    "\n",
    "pd.value_counts(new_cats)"
   ]
  },
  {
   "cell_type": "code",
   "execution_count": 61,
   "metadata": {
    "colab": {},
    "colab_type": "code",
    "id": "OB64q1C7aciC"
   },
   "outputs": [
    {
     "data": {
      "text/plain": [
       "Youth          5\n",
       "YoungAdult     8\n",
       "MiddleAge     10\n",
       "Ancient       11\n",
       "Senior        12\n",
       "dtype: int64"
      ]
     },
     "execution_count": 61,
     "metadata": {},
     "output_type": "execute_result"
    }
   ],
   "source": [
    "#Cumulative Sum\n",
    "pd.value_counts(new_cats).cumsum()"
   ]
  },
  {
   "cell_type": "markdown",
   "metadata": {
    "colab_type": "text",
    "id": "pLYqESnbav0I"
   },
   "source": [
    "\n",
    "1. Use the testTitanic.csv file to create a dataframe. <br>\n",
    "2. Bin the ages of the passengers"
   ]
  },
  {
   "cell_type": "markdown",
   "metadata": {
    "colab_type": "text",
    "id": "GETB7cYGhc-L"
   },
   "source": [
    "# **Writing to an Excel Spreadsheet**\n",
    "The code to write to an Excel speadsheet is fairly straight foward: <br>\n",
    "1. Create a Pandas dataframe\n",
    "2. Create a pathname to the .xlsx file\n",
    "3. Use the builtin method to_excel<br><Br>\n",
    "\n",
    "I do not have Excel, so I cannot check that this code actually produces something that you would want...but it does create a file with an .xlsx extension. \n"
   ]
  },
  {
   "cell_type": "code",
   "execution_count": 62,
   "metadata": {
    "colab": {},
    "colab_type": "code",
    "id": "jNecaJDohdM0"
   },
   "outputs": [],
   "source": [
    "## convert your array into a dataframe\n",
    "dataframe = pd.read_csv(\"letter_frequency.csv\", quotechar='\"', skipinitialspace=True, sep=\",\",error_bad_lines=False) \n",
    "\n",
    "## save to xlsx file\n",
    "filepath = 'my_excel_file.xlsx'\n",
    "\n",
    "dataframe.to_excel(filepath, index=False)"
   ]
  },
  {
   "cell_type": "code",
   "execution_count": null,
   "metadata": {},
   "outputs": [],
   "source": []
  }
 ],
 "metadata": {
  "colab": {
   "collapsed_sections": [],
   "include_colab_link": true,
   "name": "P1 Pandas.ipynb",
   "private_outputs": true,
   "provenance": []
  },
  "kernelspec": {
   "display_name": "Python 3",
   "language": "python",
   "name": "python3"
  },
  "language_info": {
   "codemirror_mode": {
    "name": "ipython",
    "version": 3
   },
   "file_extension": ".py",
   "mimetype": "text/x-python",
   "name": "python",
   "nbconvert_exporter": "python",
   "pygments_lexer": "ipython3",
   "version": "3.8.3"
  }
 },
 "nbformat": 4,
 "nbformat_minor": 4
}
