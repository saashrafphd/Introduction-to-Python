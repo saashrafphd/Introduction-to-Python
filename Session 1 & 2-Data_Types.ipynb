{
 "cells": [
  {
   "cell_type": "markdown",
   "metadata": {},
   "source": [
    "# Introduction to Python"
   ]
  },
  {
   "cell_type": "markdown",
   "metadata": {},
   "source": [
    "## Table of Content"
   ]
  },
  {
   "cell_type": "markdown",
   "metadata": {},
   "source": [
    "<div style=\"margin-top: 20px\">\n",
    "    <ul>\n",
    "        <li><a href=\"#PythonDT\">Python Data Types</a>\n",
    "            <ul>\n",
    "                <li> <a href=\"#PrimitiveDT\"> Primitive Data Types</a>\n",
    "                    <ul>\n",
    "                        <li><a href=\"#int\">Integer</a></li>\n",
    "                        <li><a href=\"#float\">Float</a></li>\n",
    "                        <li><a href=\"#complex\">Complex</a></li>\n",
    "                        <li><a href=\"#string\">String</a></li>\n",
    "                        <li><a href=\"#boolean\">Booleans</a></li>\n",
    "                        <li><a href=\"#Cbolean\">Combining Boolean Values</a></li>\n",
    "                        <li><a href=\"#Conbolean\">Boolean Conversion</a></li>                        \n",
    "                    </ul>\n",
    "                <li> <a href=\"#NPrimitiveDT\"> Non-Primitive Data Types</a>\n",
    "                    <ul>\n",
    "                        <li><a href=\"#array\">Array</a></li>\n",
    "                        <li><a href=\"#list\">List</a></li>\n",
    "                        <li><a href=\"#tuple\">Tuple</a></li>\n",
    "                        <li><a href=\"#set\">Set</a></li>\n",
    "                        <li><a href=\"#dictionary\">Dictionary</a></li>\n",
    "                    </ul>                    \n",
    "            </ul>\n",
    "        <li><a href=\"#PrintF\">print() and type() functions</a></li>\n",
    "        <li><a href=\"#EO\">Expressions and arithmatic operations on numbers (integers and floats)</a></li>\n",
    "        <li><a href=\"#precedence\">print() and type() functions</a></li>\n",
    "        <li><a href=\"#functions\">Numeric Functions</a></li>\n",
    "        <li><a href=\"#Var\">Variables</a></li>\n",
    "        <li><a href=\"#lab\">Practice</a></li>\n",
    "            </ul>\n",
    "       \n",
    "</div>"
   ]
  },
  {
   "cell_type": "code",
   "execution_count": 1,
   "metadata": {},
   "outputs": [
    {
     "name": "stdout",
     "output_type": "stream",
     "text": [
      "Hello Python\n"
     ]
    }
   ],
   "source": [
    "# print Hello Python\n",
    "print(\"Hello Python\")"
   ]
  },
  {
   "cell_type": "markdown",
   "metadata": {},
   "source": [
    "<h3> Python Data Types </h3>\n",
    "<a id=\"PythonDT\"></a>"
   ]
  },
  {
   "cell_type": "markdown",
   "metadata": {},
   "source": [
    "<p> Like many other programming languages, Python works with many data types that classifies or categorizes data. Data Types define a kind of value which determines what functions and operations can be performed on that data. Each programming language has its own classification of data types that reflect its programming philosophy. </p>\n",
    "\n",
    "<p> There are two categories of data types in Python (primitive and non-primitive data types). Primitive data types contain the simplest Python data types, they are supported by pre-defined functions and methods by Python. Non-primitive data types are type which allows storing a collection of primitive values. Non-primitive data types are used to increase the functionality of Python.</p>\n",
    "\n",
    "##### Primitive Data Types are:\n",
    "<ul>\n",
    "    <li> Numeric </li>\n",
    "    <ul> \n",
    "        <li> Integer </li>\n",
    "        <li> Float </li>\n",
    "        <li> Complex </li>\n",
    "    </ul>\n",
    "    <li> Boolean </li>\n",
    "    <li> String </li>\n",
    "    </ul>\n",
    "    \n",
    "##### Non-primitive Data Types are:\n",
    "<ul>\n",
    "    <li> List </li>\n",
    "    <li> Array </li>\n",
    "    <li> Tuple </li>\n",
    "    <li> Dictionary </li>\n",
    "    <li> Set </li>\n",
    "    <li> File </li>"
   ]
  },
  {
   "cell_type": "markdown",
   "metadata": {},
   "source": [
    "<h3> Primitive Data Types </h3>\n",
    "<a id=\"PrimitiveDT\"></a>\n",
    "\n",
    "<p><b> Numeric Data Types consist of integers (whole numbers), float (floating point numbers), and complex (complex numbers) data types</b></p>"
   ]
  },
  {
   "cell_type": "markdown",
   "metadata": {},
   "source": [
    "<h3> Integers </h3>\n",
    "<a id = \"int\"> </a>\n",
    "<p> Integers represent numeric data, that is a whole number without a decimal point. They can be negative or positive.\n",
    "Examples of integers are: -120005, -2, -1, 1, 2, 120005. </p>\n",
    "\n",
    "<p> The following code cell illustrates some integer examples. </p>"
   ]
  },
  {
   "cell_type": "code",
   "execution_count": 2,
   "metadata": {},
   "outputs": [
    {
     "data": {
      "text/plain": [
       "2000"
      ]
     },
     "execution_count": 2,
     "metadata": {},
     "output_type": "execute_result"
    }
   ],
   "source": [
    "# Integer Number\n",
    "-1\n",
    "1\n",
    "100\n",
    "2000"
   ]
  },
  {
   "cell_type": "markdown",
   "metadata": {},
   "source": [
    "<h3> print() and type() Functions </h3>\n",
    "<a id=\"PrintF\"></a>"
   ]
  },
  {
   "cell_type": "markdown",
   "metadata": {},
   "source": [
    "<p> Jupyter interpreter show the last cell line as the output. To have more outputs we need to use <b>print()</b> function which displays the value passed to it on the screen. To call this function we call its name with following parentheses and putting the inputs, arguments, numeric or logical expressions between the parentheses. Numeric expression is a combination of numbers, arithmetic’s operators and parenthesis that can be evaluated. We will talk about logical expression later in the class. The function accepts one or several arguments for displaying its/their values. It also invokes a new line operation so the next entry to show on new editor line. </p>"
   ]
  },
  {
   "cell_type": "code",
   "execution_count": 3,
   "metadata": {},
   "outputs": [
    {
     "name": "stdout",
     "output_type": "stream",
     "text": [
      "1\n",
      "100\n",
      "2000\n"
     ]
    }
   ],
   "source": [
    "# print() function example with invoking new line \n",
    "print(1)\n",
    "print(100)\n",
    "print(2000)"
   ]
  },
  {
   "cell_type": "markdown",
   "metadata": {},
   "source": [
    "<p> Python automatically assigns the data type based on the data passed to it. You can use <b>type()</b> function to check the type of the data you interact with. </p> "
   ]
  },
  {
   "cell_type": "code",
   "execution_count": 4,
   "metadata": {},
   "outputs": [
    {
     "data": {
      "text/plain": [
       "int"
      ]
     },
     "execution_count": 4,
     "metadata": {},
     "output_type": "execute_result"
    }
   ],
   "source": [
    "# print the type of the number 10\n",
    "\n",
    "type(10)"
   ]
  },
  {
   "cell_type": "markdown",
   "metadata": {},
   "source": [
    "<h3> Floats </h3>\n",
    "<a id = \"float\"> </a>\n",
    "\n",
    "<p> Stands for (floating point number). Floats are rational numbers that end with decimal points. Examples of float numbers are 2.15, -100.0, and 1.2 </p>\n",
    "\n",
    "<p> The following code cell illustrates some float examples. </p>"
   ]
  },
  {
   "cell_type": "code",
   "execution_count": null,
   "metadata": {},
   "outputs": [],
   "source": [
    "# Float\n",
    "1.1\n",
    "2.330405\n",
    "-100.1\n",
    "200.0"
   ]
  },
  {
   "cell_type": "code",
   "execution_count": null,
   "metadata": {},
   "outputs": [],
   "source": [
    "print(1.1)\n",
    "print(2.330405)\n",
    "print(-100.1)\n",
    "print(200.0)"
   ]
  },
  {
   "cell_type": "markdown",
   "metadata": {},
   "source": [
    "<p> Below, are examples of using the type() function to check the type of float nunmbers: </p>"
   ]
  },
  {
   "cell_type": "code",
   "execution_count": null,
   "metadata": {},
   "outputs": [],
   "source": [
    "# print the type of the number 1.2\n",
    "type(1.2)"
   ]
  },
  {
   "cell_type": "markdown",
   "metadata": {},
   "source": [
    "<h3> Complex </h3>\n",
    "<a id = \"complex\"> </a>\n",
    "\n",
    "<p> Complex data type is for working with complex numbers. <b>This data type is not commonly use in the python programming unless you are working with academic or scientific computations</b>. A complex number is combination of two real numbers where one number represent real part and second number represent imaginary part of complex number followed by j - latter (j=SQRT(-1) - square root of -1). In Python, the complex number can be created through complex() function or direct assignment statement. Examples of complex members are 1 + 2j, -5 + 12j. </p>\n",
    "\n",
    "<p> The following code cell illustrates some complex data type examples. </p>"
   ]
  },
  {
   "cell_type": "code",
   "execution_count": null,
   "metadata": {},
   "outputs": [],
   "source": [
    "print(2j)\n",
    "print(1 + 2j)\n",
    "print(-5 + 12j)"
   ]
  },
  {
   "cell_type": "code",
   "execution_count": null,
   "metadata": {
    "scrolled": true
   },
   "outputs": [],
   "source": [
    "print(type(2j))\n",
    "print(type(1 + 2j))\n",
    "print(type(-5 + 12j))"
   ]
  },
  {
   "cell_type": "markdown",
   "metadata": {},
   "source": [
    "<h3> Expressions and arithmatic operations on numbers (integers and floats) </h3>\n",
    "<a id = \"EO\"> </a>"
   ]
  },
  {
   "cell_type": "markdown",
   "metadata": {},
   "source": [
    "<p> Expressions are combinations of values (or variables that contain those values) and operators. \n",
    "    For example: 1+2 is an expression. The values 1 and 2 are named operands, and the + is called operator. </p>\n",
    "\n",
    "When Python encounters an expression, it calculates the result and either stores it in memory (in a variable) or simply prints the result. \n",
    "\n",
    "Note: expressions are not only numeric. Later you will see string expressions and boolean expressions.\n",
    "\n",
    "Arithmetic operations in Python are illustrated in the following cells:"
   ]
  },
  {
   "cell_type": "code",
   "execution_count": null,
   "metadata": {},
   "outputs": [],
   "source": [
    "# Addition (+): adds two numbers \n",
    "\n",
    "print(1 + 2) #prints 2 on the screen\n",
    "\n",
    "print(1.0 + 3) #prints 4.0 on the screen\n",
    "\n",
    "print(300 + 1.0) #prints 301.0 on the screen"
   ]
  },
  {
   "cell_type": "code",
   "execution_count": null,
   "metadata": {},
   "outputs": [],
   "source": [
    "# Subtraction (-) : subtracts the right operand from the left operand\n",
    "\n",
    "print(4-1) # prints 3 on the screen\n",
    "\n",
    "print(5.0 - 3) # prints 2.0 on the screen\n",
    "\n",
    "print(13 - 15.0) # prints -2.0 on the screen"
   ]
  },
  {
   "cell_type": "code",
   "execution_count": null,
   "metadata": {},
   "outputs": [],
   "source": [
    "#Multiplicatoin (*): Multiplies the values on either side of the operator \n",
    "\n",
    "print(3 * 2) # prints 6 on the screen\n",
    "\n",
    "print(3.0 * 2) # prints 6.0 on the screen\n",
    "\n",
    "print(3 * 2.0) # prints 6.0 on the screen"
   ]
  },
  {
   "cell_type": "code",
   "execution_count": null,
   "metadata": {},
   "outputs": [],
   "source": [
    "# Division (/): divides left operand by right operand\n",
    "\n",
    "print(3/2) # prints 3.0 on the screen\n",
    "\n",
    "print(100 / 2.0) # prints 50.0 on the screen\n",
    "\n",
    "print(-100.0 / 2) # prints -50.0 on the screen"
   ]
  },
  {
   "cell_type": "code",
   "execution_count": null,
   "metadata": {},
   "outputs": [],
   "source": [
    "# Exponent (**): performs exponential calculation on operands\n",
    "\n",
    "print(2**3) # prints 8 on the screen"
   ]
  },
  {
   "cell_type": "code",
   "execution_count": null,
   "metadata": {
    "scrolled": true
   },
   "outputs": [],
   "source": [
    "#Floor or Integer division (//): division operands where the result is the quotient in which the digits after the decimal point\n",
    "# are removed. \n",
    "#But if one of the operands is negative, the result is floored. i.e., rounded away from zero (towards negative infinity). \n",
    "\n",
    "print(8 // 2 )\n",
    "\n",
    "print(9.0 // 2)\n",
    "\n",
    "print(-11 // 3)"
   ]
  },
  {
   "cell_type": "code",
   "execution_count": null,
   "metadata": {},
   "outputs": [],
   "source": [
    "# Modulus division (%): Divides left operand from the right operand and returns the remainder\n",
    "\n",
    "print(5%2) # prints 1 on the screen\n",
    "\n",
    "print(100 % 3.0) # prints 1.0 on the screen\n",
    "\n",
    "print(-100.0 % 2) # prints 0.0 on the screen"
   ]
  },
  {
   "cell_type": "markdown",
   "metadata": {},
   "source": [
    "<p> Note:  results of division is always a float number. Results of other operations are float if either of the numbers is a float. Otherwise, it is an int. </p>"
   ]
  },
  {
   "cell_type": "markdown",
   "metadata": {},
   "source": [
    "<h3> Order of Precedence </h3>\n",
    "<a id = \"precedence\"> </a>\n",
    "\n",
    "<p> The best practice is to use parentheses when you have complicated expressions. The parentheses influence other execution of the expressions. The following is the order of execution for the arithmetic operations: </p>\n",
    "<ul>\n",
    "    <li> 1. Terms inside parentheses </li>\n",
    "    <li> 2. Exponentiation </li>\n",
    "    <li> 3. Multiplication, division </li>\n",
    "    <li> 4. Division and subtraction </li>\n",
    "</ul>\n",
    "\n"
   ]
  },
  {
   "cell_type": "code",
   "execution_count": null,
   "metadata": {
    "scrolled": true
   },
   "outputs": [],
   "source": [
    "(8 - 4)* 3  "
   ]
  },
  {
   "cell_type": "code",
   "execution_count": null,
   "metadata": {},
   "outputs": [],
   "source": [
    "8 - 4* 3"
   ]
  },
  {
   "cell_type": "markdown",
   "metadata": {},
   "source": [
    "<h3> Numeric functions </h3>\n",
    "<a id = \"functions\"> </a>\n",
    "\n",
    "<p> Python includes built-in/predefined functions that can be used with numbers. </p>"
   ]
  },
  {
   "cell_type": "code",
   "execution_count": null,
   "metadata": {},
   "outputs": [],
   "source": [
    "#abs(x): returns the absolute value of a number\n",
    "\n",
    "print(abs(-1)) # prints 1 \n",
    "\n",
    "print(abs(1.2)) # prints 1,2 "
   ]
  },
  {
   "cell_type": "code",
   "execution_count": null,
   "metadata": {},
   "outputs": [],
   "source": [
    "#pow(x,y): returns x to the power of y\n",
    "\n",
    "print(pow(2,3)) # prints 8"
   ]
  },
  {
   "cell_type": "code",
   "execution_count": null,
   "metadata": {},
   "outputs": [],
   "source": [
    "# round(x): rounds x to the nearest integer\n",
    "print(round(1.6)) # prints 2 on the screen"
   ]
  },
  {
   "cell_type": "code",
   "execution_count": null,
   "metadata": {},
   "outputs": [],
   "source": [
    "# round(x,n): rounds x to the nearest n decimal digits \n",
    "\n",
    "print(round(3.33333, 2)) # prints 3.33 on the screen\n",
    "print(round(3.33338, 4)) # prints 3.33 on the screen"
   ]
  },
  {
   "cell_type": "code",
   "execution_count": null,
   "metadata": {},
   "outputs": [],
   "source": [
    "# min (x, y): returns the smallest number of x and y\n",
    "\n",
    "print(min(4,3)) # prints 3 on the screen"
   ]
  },
  {
   "cell_type": "code",
   "execution_count": null,
   "metadata": {},
   "outputs": [],
   "source": [
    "# max(x,y) : returns the largest number of x and y\n",
    "\n",
    "print(max(5,900)) # prints 900 on the screen"
   ]
  },
  {
   "cell_type": "markdown",
   "metadata": {},
   "source": [
    "<h3 id=\"Casting\"> Casting types </h3>\n",
    "<p> Python allows users to switch between types. A process named type casting. </p>"
   ]
  },
  {
   "cell_type": "code",
   "execution_count": null,
   "metadata": {},
   "outputs": [],
   "source": [
    "# int(x): switch x to an int.\n",
    "\n",
    "print(int(1.2)) #prints 1 on the screen\n",
    "\n",
    "print(int (1.9)) #prints 1 on the screen"
   ]
  },
  {
   "cell_type": "markdown",
   "metadata": {},
   "source": [
    "<p> Note: int function does not round numbers </p>"
   ]
  },
  {
   "cell_type": "code",
   "execution_count": null,
   "metadata": {},
   "outputs": [],
   "source": [
    "# float(x): switch x to a float number\n",
    "\n",
    "print(float(2)) #print 2.0 on the screen"
   ]
  },
  {
   "cell_type": "markdown",
   "metadata": {},
   "source": [
    "<h3> Boolean </h3>\n",
    "<a id = \"boolean\"> </a>\n",
    "\n",
    "<p> Boolean data type is used to store the values True and False which are results of boolean operations that answer yes/no questions. The boolean operations is used when we compare variables and the result of an expression is true or false.  </p>\n",
    "\n",
    "<p> Boolean is used when comparing variables with one of the following operators. </p>"
   ]
  },
  {
   "cell_type": "code",
   "execution_count": null,
   "metadata": {
    "scrolled": true
   },
   "outputs": [],
   "source": [
    "# is equal to (==): check is the operands are equal. Returns True if they are equal. False if they are not.\n",
    "print(3 == 4) # returns False\n",
    "print(5 == 5) # returns True"
   ]
  },
  {
   "cell_type": "code",
   "execution_count": null,
   "metadata": {},
   "outputs": [],
   "source": [
    "# is not equal to (!=): check is the operands are not equal. Returns True if they are different. False if they are equal\n",
    "\n",
    "print(3 != 4) #returns True"
   ]
  },
  {
   "cell_type": "code",
   "execution_count": null,
   "metadata": {},
   "outputs": [],
   "source": [
    "# greater than (>): checks if the left operand is greater than the right operand\n",
    "\n",
    "print(4 > 3) # returns True"
   ]
  },
  {
   "cell_type": "code",
   "execution_count": null,
   "metadata": {},
   "outputs": [],
   "source": [
    "# greater than or equal (>=): returns True if the left operand is greater than or equal the right operand\n",
    "print(3 >= 3) # returns True\n",
    "print(4 >= 3) # returns True"
   ]
  },
  {
   "cell_type": "code",
   "execution_count": null,
   "metadata": {},
   "outputs": [],
   "source": [
    "# less than (<): returns True if the left operand is less than the right operand\n",
    "print(4 < 50) #returns True"
   ]
  },
  {
   "cell_type": "code",
   "execution_count": null,
   "metadata": {
    "scrolled": true
   },
   "outputs": [],
   "source": [
    "# less than or equal (<=): returns True if the left operand is less than or equal the right operand\n",
    "print(4 < 50) #returns True"
   ]
  },
  {
   "cell_type": "markdown",
   "metadata": {},
   "source": [
    "<h3> Combining Boolean Values </h3>\n",
    "<a id = \"Cboolean\"> </a>\n",
    "\n",
    "<p> You can combine several boolean variable into expression for evaluation being True or False. It can be acomplish through standard concept of \"and\", \"or\" and \"not\".</p>"
   ]
  },
  {
   "cell_type": "code",
   "execution_count": null,
   "metadata": {},
   "outputs": [],
   "source": [
    "print((4 > 3) and (10 < 11))\n",
    "print((4 > 3) and (10 > 11))"
   ]
  },
  {
   "cell_type": "code",
   "execution_count": null,
   "metadata": {},
   "outputs": [],
   "source": [
    "print((4 > 3) or (10 < 11))\n",
    "print((4 > 3) or (10 > 11))"
   ]
  },
  {
   "cell_type": "code",
   "execution_count": null,
   "metadata": {},
   "outputs": [],
   "source": [
    "print( not(4 < 5) )\n",
    "print( not(4 < 3) )"
   ]
  },
  {
   "cell_type": "markdown",
   "metadata": {},
   "source": [
    "<h3> Boolean Conversion </h3>\n",
    "<a id = \"Conboolean\"> </a>\n",
    "\n",
    "<p> You can always cast bool values (True, False) to int or float. True will cast to 1 or 1.0 and False will cast to 0 or 0.0. However, any int or float number will cast to True bool values except the number 0. </p>"
   ]
  },
  {
   "cell_type": "code",
   "execution_count": null,
   "metadata": {
    "scrolled": true
   },
   "outputs": [],
   "source": [
    "# Casting bool examples\n",
    "\n",
    "print(int(True)) # returns 1\n",
    "print(float(True)) # returns 1.0\n",
    "print(int(False)) # returns 0\n",
    "print(bool(10)) # returns True\n",
    "print(bool(-1.2)) # returns True\n",
    "print(bool(0)) # returns False\n",
    "print(bool(0.0)) # returns False"
   ]
  },
  {
   "cell_type": "markdown",
   "metadata": {},
   "source": [
    "<h3> String </h3>\n",
    "<a id = \"string\"> </a>\n",
    "\n",
    "<p> String is a seaquence of caracters which can be created by using single '' or double \"\" quotes. Multi-line strings is defined by triple single ''' or double \"\"\" quotes. The more detailed descriotion of string data type will be explained in the next class where here we just introduce the data type.</p>\n",
    "\n",
    "<p> The following code illustrates string data type examples. </p>"
   ]
  },
  {
   "cell_type": "code",
   "execution_count": null,
   "metadata": {},
   "outputs": [],
   "source": [
    "'This is String'"
   ]
  },
  {
   "cell_type": "code",
   "execution_count": null,
   "metadata": {},
   "outputs": [],
   "source": [
    "\"This is String\""
   ]
  },
  {
   "cell_type": "code",
   "execution_count": null,
   "metadata": {
    "scrolled": true
   },
   "outputs": [],
   "source": [
    "print('This is String')"
   ]
  },
  {
   "cell_type": "code",
   "execution_count": null,
   "metadata": {},
   "outputs": [],
   "source": [
    "print(type('This is String'))"
   ]
  },
  {
   "cell_type": "code",
   "execution_count": null,
   "metadata": {},
   "outputs": [],
   "source": [
    "'''This\n",
    "is String'''"
   ]
  },
  {
   "cell_type": "code",
   "execution_count": null,
   "metadata": {
    "scrolled": true
   },
   "outputs": [],
   "source": [
    "print(\"\"\"This\n",
    "is String\"\"\")"
   ]
  },
  {
   "cell_type": "markdown",
   "metadata": {},
   "source": [
    "<h3> Variables </h3>\n",
    "<a id = \"Var\"> </a>\n",
    "\n",
    "<p> Variables are names given to a value that is stored in computer memory while the program is in run. Unless the variable contents are saved to disc, once the program is terminated, values stored in variables will be lost. </p>\n",
    "\n",
    "##### Creating Variables\n",
    "\n",
    "<p> An assignment statement creates a new variable and gives it a value </p>\n"
   ]
  },
  {
   "cell_type": "code",
   "execution_count": null,
   "metadata": {},
   "outputs": [],
   "source": [
    "# Creating variables \n",
    "\n",
    "import math #imports a predefined library names math in order to used some math predefined functions\n",
    "\n",
    "x = 1 # creates a variable called x and assigns it the value 1\n",
    "\n",
    "print(x)\n",
    "\n",
    "my_variable = 2.3 # creates a variable called my_variable and assigns it the value 2.3\n",
    "print(my_variable)\n",
    "\n",
    "PI = math.pi # creates a variable called PI and assigns it the value pi\n",
    "print(PI)"
   ]
  },
  {
   "cell_type": "markdown",
   "metadata": {},
   "source": [
    "#### Naming variables\n",
    "\n",
    "<p> A meaningful name of a variable is the one that illustrates what the variable is used for. Good naming convention improves the program’s readability, which in turn, helps reduce errors, the security, and the scalability of the code. </p> \n",
    "\n",
    "<p> Variable names can be as long as you like - by there are a few simple rule that need to be followed: </p>\n",
    "<ul>\n",
    "    <li> names have to begin with a letter or underscore (_) </li>\n",
    "    <li> names can include a letter, a number, or underscore (_) </li>\n",
    "    <li> you cannot use Python reserved words listed in the table below </li>\n",
    "    <li> Python variable names are case-sensetive. So the variable (X) is not the same as the variable (x) </li>\n",
    "    <li> As a convention, variable name starts with lowercase letters except for the first letters of each additional word (<i>totalSale, taxRate, rateOfChange</i>) </li>\n",
    "</ul>\n",
    "        \n",
    "<p> Example of Python reserved words: </p>"
   ]
  },
  {
   "cell_type": "code",
   "execution_count": null,
   "metadata": {},
   "outputs": [],
   "source": [
    "Keyword\tDescription\n",
    "and\tA logical operator\n",
    "as\tTo create an alias\n",
    "assert\tFor debugging\n",
    "break\tTo break out of a loop\n",
    "class\tTo define a class\n",
    "continue\tTo continue to the next iteration of a loop\n",
    "def\tTo define a function\n",
    "del\tTo delete an object\n",
    "elif\tUsed in conditional statements, same as else if\n",
    "else\tUsed in conditional statements\n",
    "except\tUsed with exceptions, what to do when an exception occurs\n",
    "False\tBoolean value, result of comparison operations\n",
    "finally\tUsed with exceptions, a block of code that will be executed no matter if there is an exception or not\n",
    "for\tTo create a for loop\n",
    "from\tTo import specific parts of a module"
   ]
  },
  {
   "cell_type": "markdown",
   "metadata": {},
   "source": [
    "Notes:\n",
    "<ul>\n",
    "    <li>You don’t have to memorize these words. Most python programming environments, keywords are displayed in a different color.</li>\n",
    "<li> For this course, we will use the “snake-case” convention. If you want to create a multi-word variable name, separate the words using underscore.\n",
    " </li> \n",
    "    </ul>"
   ]
  },
  {
   "cell_type": "markdown",
   "metadata": {},
   "source": [
    "##### Augmented Assignments\n",
    "\n",
    "<p> When we have an assignment statment such as <b>var = var + 1</b>, the right side of the expression is evaluated first and then assigned to the variable. This assignment can be rewritted through augmented assighnment <b>var += 1</b>. The operator <b>+=, -=, *=, /=, and **=<b> are example of the augmented assignments.</p>"
   ]
  },
  {
   "cell_type": "code",
   "execution_count": null,
   "metadata": {},
   "outputs": [],
   "source": [
    "# Example of Augmented Assignments\n",
    "num1 = 5\n",
    "num1 +=2\n",
    "print(num1)\n",
    "num2 = 8\n",
    "num2 -= 2\n",
    "print(num2)\n",
    "num3 = 9\n",
    "num3 /= 3\n",
    "print(num3)\n",
    "num4 = 2\n",
    "num4 *= 5\n",
    "print(num4)\n",
    "num5 = 3\n",
    "num5 **= 3\n",
    "print(num5)"
   ]
  },
  {
   "cell_type": "markdown",
   "metadata": {},
   "source": [
    "<h3>Non Primitive Data Types </h3>\n",
    "<a id=\"NPrimitiveDT\"></a>"
   ]
  },
  {
   "cell_type": "markdown",
   "metadata": {},
   "source": [
    "<h3> Array </h3>\n",
    "<a id = \"array\"> </a>\n",
    "\n",
    "<p>An array is a collection of elements of the same data type. It can only store numeric, string or other data types. To use the array we need to import numpay/array module and declare this array before we can use it. In Python, arrays are not commonly used unless you need a space-efficiency storage for your data and/or increase efficiency of your calculation or program. \n",
    "\n",
    "Here is the example of string-array where we have array of car names.\n",
    "</p>"
   ]
  },
  {
   "cell_type": "code",
   "execution_count": null,
   "metadata": {},
   "outputs": [],
   "source": [
    "from numpy import array\n",
    "cars = array([\"Ford\", \"Volvo\", \"BMW\"])\n",
    "print(cars)"
   ]
  },
  {
   "cell_type": "code",
   "execution_count": null,
   "metadata": {},
   "outputs": [],
   "source": [
    "print(type(cars))"
   ]
  },
  {
   "cell_type": "code",
   "execution_count": null,
   "metadata": {},
   "outputs": [],
   "source": [
    "temperature = array([91.7, 90.4, 93.5, 98.8])\n",
    "print(temperature)\n",
    "temperature"
   ]
  },
  {
   "cell_type": "markdown",
   "metadata": {},
   "source": [
    "<h3> List </h3>\n",
    "<a id = \"list\"> </a>\n",
    "\n",
    "<p> List is similar to array and it is one of the most used data types in Python. The popularity of the list can be explained by its flexible. It does not require special declaration like array does. The list is defined by brackets [] and its items are separated by commas. It also not restricted to the single data type like array and it can contain mixed data types. Here is the example of list:</p>"
   ]
  },
  {
   "cell_type": "code",
   "execution_count": null,
   "metadata": {},
   "outputs": [],
   "source": [
    "a = [1, 2.2, 'python']\n",
    "a"
   ]
  },
  {
   "cell_type": "code",
   "execution_count": null,
   "metadata": {},
   "outputs": [],
   "source": [
    "print(type(a))"
   ]
  },
  {
   "cell_type": "markdown",
   "metadata": {},
   "source": [
    "<h3> Tuples </h3>\n",
    "<a id = \"tuple\"> </a>\n",
    "\n",
    "<p>\n",
    "Tuple is an ordered sequence of items same as a list. The only difference is that tuples are immutable that means that tuples once created cannot be modified.\n",
    "\n",
    "Tuples are used to write-protected data and are usually faster than lists as they cannot change dynamically.\n",
    "\n",
    "It is defined within parentheses () where items are separated by commas.\n",
    "</p>"
   ]
  },
  {
   "cell_type": "code",
   "execution_count": null,
   "metadata": {},
   "outputs": [],
   "source": [
    "t = (5,'program', 1+3j)\n",
    "t"
   ]
  },
  {
   "cell_type": "code",
   "execution_count": null,
   "metadata": {},
   "outputs": [],
   "source": [
    "print(type(t))"
   ]
  },
  {
   "cell_type": "markdown",
   "metadata": {},
   "source": [
    "<h3> Set </h3>\n",
    "<a id = \"set\"> </a>\n",
    "\n",
    "<p> Set is a collection of unique items which cannot be ordered/sorted. Set is defined by { } and unique ites are separated by comma. Here are some examples of set: </p>"
   ]
  },
  {
   "cell_type": "code",
   "execution_count": null,
   "metadata": {},
   "outputs": [],
   "source": [
    "{5, 3, 7, 4, 2}"
   ]
  },
  {
   "cell_type": "code",
   "execution_count": null,
   "metadata": {},
   "outputs": [],
   "source": [
    "print(type({5,3,7,4,2}))"
   ]
  },
  {
   "cell_type": "markdown",
   "metadata": {},
   "source": [
    "<p> The following opetations can be perform on sets: union and intersection of two sets. Since set has unique values, it eliminate duplicates.</p>"
   ]
  },
  {
   "cell_type": "markdown",
   "metadata": {},
   "source": [
    "<h3> Dictionary </h3>\n",
    "<a id = \"dictionary\"> </a>\n",
    "\n",
    "<p> Dictionary is a collection of key-value pairs. Dictionary are optimized for data retrievals when we are working with a huge amount of data. To retrieve data from dictionary we must know the key value.\n",
    "    \n",
    "Dictionary is defined by braces {} where each item of the dictionary is determined by a pair of key: value. The key and value can be of different data types.\n",
    "</p>"
   ]
  },
  {
   "cell_type": "code",
   "execution_count": null,
   "metadata": {},
   "outputs": [],
   "source": [
    "d = {'key':'value', 'key1':'value1', 'key2':'value2'}\n",
    "d"
   ]
  },
  {
   "cell_type": "code",
   "execution_count": null,
   "metadata": {},
   "outputs": [],
   "source": [
    "print(type(d))"
   ]
  },
  {
   "cell_type": "code",
   "execution_count": null,
   "metadata": {
    "scrolled": true
   },
   "outputs": [],
   "source": [
    "d.keys()"
   ]
  },
  {
   "cell_type": "code",
   "execution_count": null,
   "metadata": {},
   "outputs": [],
   "source": [
    "d.values()"
   ]
  },
  {
   "cell_type": "markdown",
   "metadata": {},
   "source": [
    "<p> To retrive the appropriate data from the dictionary we use respective key value: </p>"
   ]
  },
  {
   "cell_type": "code",
   "execution_count": null,
   "metadata": {},
   "outputs": [],
   "source": [
    "print(\"d[key] = \", d['key']);\n",
    "\n",
    "print(\"d[key2] = \", d['key2']);\n",
    "\n",
    "# Generates error\n",
    "print(\"d[value2] = \", d['value2']);"
   ]
  },
  {
   "cell_type": "code",
   "execution_count": null,
   "metadata": {},
   "outputs": [],
   "source": []
  }
 ],
 "metadata": {
  "kernelspec": {
   "display_name": "Python 3",
   "language": "python",
   "name": "python3"
  },
  "language_info": {
   "codemirror_mode": {
    "name": "ipython",
    "version": 3
   },
   "file_extension": ".py",
   "mimetype": "text/x-python",
   "name": "python",
   "nbconvert_exporter": "python",
   "pygments_lexer": "ipython3",
   "version": "3.8.3"
  }
 },
 "nbformat": 4,
 "nbformat_minor": 4
}
