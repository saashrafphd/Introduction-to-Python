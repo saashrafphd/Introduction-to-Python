{
 "cells": [
  {
   "cell_type": "markdown",
   "metadata": {},
   "source": [
    "<h2>File Handling</h2>\n",
    "<b>File handling is an important part of any web application.<br>\n",
    "\n",
    "Python has several functions for creating, reading, updating, and deleting files.</b>"
   ]
  },
  {
   "cell_type": "markdown",
   "metadata": {},
   "source": [
    "\n",
    "The key function for working with files in Python is the open() function.\n",
    "\n",
    "The open() function takes two parameters; filename, and mode.\n",
    "\n",
    "There are four different methods (modes) for opening a file:\n",
    "\n",
    "\"r\" - Read - Default value. Opens a file for reading, error if the file does not exist\n",
    "\n",
    "\"a\" - Append - Opens a file for appending, creates the file if it does not exist\n",
    "\n",
    "\"w\" - Write - Opens a file for writing, creates the file if it does not exist\n",
    "\n",
    "\"x\" - Create - Creates the specified file, returns an error if the file exists\n",
    "\n",
    "In addition you can specify if the file should be handled as binary or text mode\n",
    "\n",
    "\"t\" - Text - Default value. Text mode\n",
    "\n",
    "\"b\" - Binary - Binary mode (e.g. images)\n"
   ]
  },
  {
   "cell_type": "markdown",
   "metadata": {},
   "source": [
    "<h3><b>Create a New File</b></h3>\n",
    "\n",
    "To create a new file in Python, use the open() method, with one of the following parameters:\n",
    "\n",
    "\"x\" - Create - will create a file, returns an error if the file exist\n",
    "\n",
    "\"a\" - Append - will create a file if the specified file does not exist\n",
    "\n",
    "\"w\" - Write - will create a file if the specified file does not exist"
   ]
  },
  {
   "cell_type": "code",
   "execution_count": 2,
   "metadata": {},
   "outputs": [],
   "source": [
    "f = open(\"myfile.txt\", \"x\")"
   ]
  },
  {
   "cell_type": "markdown",
   "metadata": {},
   "source": [
    "Whenever the file is opened in write mode, all the content which was previously present in the file will be overwritten due to the file pointer having it's position at the beginning of the file. Whereas in append mode, the file pointer will be at the end of the file and any existing data won't be overwritten"
   ]
  },
  {
   "cell_type": "code",
   "execution_count": 3,
   "metadata": {},
   "outputs": [],
   "source": [
    "f = open(\"myfile.txt\", \"w\")"
   ]
  },
  {
   "cell_type": "code",
   "execution_count": 9,
   "metadata": {},
   "outputs": [],
   "source": [
    "# Python program to illustrate\n",
    "# Append vs write mode\n",
    "file1 = open(\"myfile.txt\", \"w\")\n",
    "L = [\"This is Delhi \\n\", \"This is Paris \\n\", \"This is London\"]\n",
    "file1.writelines(L)\n",
    "file1.close()"
   ]
  },
  {
   "cell_type": "code",
   "execution_count": 10,
   "metadata": {},
   "outputs": [
    {
     "name": "stdout",
     "output_type": "stream",
     "text": [
      "Output of Readlines after appending\n",
      "This is Delhi \n",
      "This is Paris \n",
      "This is London\n",
      "Today \n",
      "\n",
      "\n"
     ]
    }
   ],
   "source": [
    "#Append-adds at last\n",
    "file1 = open(\"myfile.txt\", \"a\")  # append mode\n",
    "file1.write(\"\\nToday \\n\")\n",
    "file1.close()\n",
    "   \n",
    "file1 = open(\"myfile.txt\", \"r\")\n",
    "print(\"Output of Readlines after appending\")\n",
    "print(file1.read())\n",
    "print()\n",
    "file1.close()"
   ]
  },
  {
   "cell_type": "code",
   "execution_count": 11,
   "metadata": {},
   "outputs": [
    {
     "name": "stdout",
     "output_type": "stream",
     "text": [
      "Output of Readlines after writing\n",
      "Tomorrow \n",
      "\n",
      "\n"
     ]
    }
   ],
   "source": [
    "# Write-Overwrites\n",
    "file1 = open(\"myfile.txt\", \"w\")  # write mode\n",
    "file1.write(\"Tomorrow \\n\")\n",
    "file1.close()\n",
    "   \n",
    "file1 = open(\"myfile.txt\", \"r\")\n",
    "print(\"Output of Readlines after writing\")\n",
    "print(file1.read())\n",
    "print()\n",
    "file1.close()"
   ]
  },
  {
   "cell_type": "code",
   "execution_count": 14,
   "metadata": {},
   "outputs": [
    {
     "name": "stdin",
     "output_type": "stream",
     "text": [
      "Write the text you want in the file: Stay Home, Stay Safe!\n"
     ]
    },
    {
     "name": "stdout",
     "output_type": "stream",
     "text": [
      "Hello \n",
      "Stay Home, Stay Safe!End Corona\n"
     ]
    }
   ],
   "source": [
    "# Program to show various ways to\n",
    "# append data to a file using\n",
    "# with statement\n",
    "  \n",
    "text = input(\"Write the text you want in the file:\")\n",
    "  \n",
    "# Writing to file\n",
    "with open(\"myfile.txt\", \"w\") as file1:\n",
    "    # Writing data to a file\n",
    "    file1.write(\"Hello \\n\")\n",
    "    file1.writelines(text)\n",
    "  \n",
    "# Appending to file\n",
    "with open(\"myfile.txt\", 'a') as file1:\n",
    "    file1.write(\"End Corona\")\n",
    "  \n",
    "  \n",
    "# Reading from file\n",
    "with open(\"myfile.txt\", \"r+\") as file1:\n",
    "    # Reading form a file\n",
    "    print(file1.read())"
   ]
  },
  {
   "cell_type": "code",
   "execution_count": 18,
   "metadata": {},
   "outputs": [
    {
     "name": "stdout",
     "output_type": "stream",
     "text": [
      "Hello\n"
     ]
    }
   ],
   "source": [
    "# Read only part of file\n",
    "\n",
    "f = open(\"myfile.txt\", \"r\")\n",
    "print(f.read(5)) \n",
    "f.close()"
   ]
  },
  {
   "cell_type": "code",
   "execution_count": 23,
   "metadata": {},
   "outputs": [
    {
     "name": "stdout",
     "output_type": "stream",
     "text": [
      "Name of the file:  foo.txt\n",
      "Closed or not :  False\n",
      "Opening mode :  wb\n"
     ]
    }
   ],
   "source": [
    "fo = open(\"foo.txt\", \"wb\")\n",
    "print (\"Name of the file: \", fo.name)\n",
    "print (\"Closed or not : \", fo.closed)\n",
    "print (\"Opening mode : \", fo.mode)# Open a file\n"
   ]
  },
  {
   "cell_type": "code",
   "execution_count": 24,
   "metadata": {},
   "outputs": [
    {
     "name": "stdout",
     "output_type": "stream",
     "text": [
      "Name of the file:  foo.txt\n"
     ]
    }
   ],
   "source": [
    "fo = open(\"foo.txt\", \"wb\")\n",
    "print (\"Name of the file: \", fo.name)\n",
    "\n",
    "# Close opend file\n",
    "fo.close()"
   ]
  },
  {
   "cell_type": "code",
   "execution_count": 29,
   "metadata": {},
   "outputs": [],
   "source": [
    "# Open a file\n",
    "fo = open(\"foo.txt\", \"w\")\n",
    "fo.write(\"Python is a great language.\\nYeah its great!!\\n\")\n",
    "# Close opend file\n",
    "fo.close()"
   ]
  },
  {
   "cell_type": "code",
   "execution_count": 30,
   "metadata": {},
   "outputs": [
    {
     "name": "stdout",
     "output_type": "stream",
     "text": [
      "Python is a great language.\n",
      "Yeah its great!!\n",
      "\n"
     ]
    }
   ],
   "source": [
    "fo = open(\"foo.txt\", \"r\")\n",
    "print(fo.read()) "
   ]
  },
  {
   "cell_type": "code",
   "execution_count": 32,
   "metadata": {},
   "outputs": [
    {
     "name": "stdout",
     "output_type": "stream",
     "text": [
      "Read String is :  Python is \n"
     ]
    }
   ],
   "source": [
    "# Open a file\n",
    "fo = open(\"foo.txt\", \"r+\")\n",
    "str = fo.read(10);\n",
    "print (\"Read String is : \", str)\n",
    "# Close opend file\n",
    "fo.close()"
   ]
  },
  {
   "cell_type": "code",
   "execution_count": 33,
   "metadata": {},
   "outputs": [
    {
     "name": "stdout",
     "output_type": "stream",
     "text": [
      "Read String is :  Python is \n",
      "Current file position :  10\n",
      "Again read String is :  Python is \n"
     ]
    }
   ],
   "source": [
    "# Open a file\n",
    "fo = open(\"foo.txt\", \"r+\")\n",
    "str = fo.read(10)\n",
    "print (\"Read String is : \", str)\n",
    "\n",
    "# Check current position\n",
    "position = fo.tell()\n",
    "print (\"Current file position : \", position)\n",
    "\n",
    "# Reposition pointer at the beginning once again\n",
    "position = fo.seek(0, 0);\n",
    "str = fo.read(10)\n",
    "print (\"Again read String is : \", str)\n",
    "# Close opend file\n",
    "fo.close()"
   ]
  },
  {
   "cell_type": "markdown",
   "metadata": {},
   "source": [
    "<h4>Removing a file</h4>"
   ]
  },
  {
   "cell_type": "code",
   "execution_count": 35,
   "metadata": {},
   "outputs": [],
   "source": [
    "import os\n",
    "os.remove(\"foo.txt\")"
   ]
  },
  {
   "cell_type": "code",
   "execution_count": null,
   "metadata": {},
   "outputs": [],
   "source": [
    "import os\n",
    "if os.path.exists(\"foo.txt\"):\n",
    "  os.remove(\"foo.txt\")\n",
    "else:\n",
    "  print(\"The file does not exist\") "
   ]
  }
 ],
 "metadata": {
  "kernelspec": {
   "display_name": "Python 3",
   "language": "python",
   "name": "python3"
  },
  "language_info": {
   "codemirror_mode": {
    "name": "ipython",
    "version": 3
   },
   "file_extension": ".py",
   "mimetype": "text/x-python",
   "name": "python",
   "nbconvert_exporter": "python",
   "pygments_lexer": "ipython3",
   "version": "3.8.3"
  }
 },
 "nbformat": 4,
 "nbformat_minor": 4
}
