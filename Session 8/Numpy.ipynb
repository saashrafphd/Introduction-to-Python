{
 "cells": [
  {
   "cell_type": "markdown",
   "metadata": {
    "colab_type": "text",
    "id": "Ea0lLVQgPEni"
   },
   "source": [
    "# **Numpy Arrays**\n",
    "Recall Python does not have arrays. <br>\n",
    "Yet, arrays are really convenient and powerful. <br>\n",
    "To use arrays in Python, import Numpy.<br>\n",
    "\n",
    "Numpy is the core library for scientific computing in Python. It provides a high-performance multidimensional array object, and tools for working with these arrays. <br><br>\n",
    "The elements of a NumPy array, or simply an array, are usually numbers, but can also be boolians, strings, or other objects. *When the elements are numbers, they must all be of the same type. For example, they might be all integers or all floating point numbers.*<br><br>\n",
    "The NumPy arrays takes significantly less amount of memory as compared to python lists."
   ]
  },
  {
   "cell_type": "markdown",
   "metadata": {
    "colab_type": "text",
    "id": "co8iDTDq9ht2"
   },
   "source": [
    "# **Import Numpy**"
   ]
  },
  {
   "cell_type": "code",
   "execution_count": 7,
   "metadata": {
    "colab": {},
    "colab_type": "code",
    "id": "LMN5o9tAAg2m"
   },
   "outputs": [],
   "source": [
    "import numpy as np"
   ]
  },
  {
   "cell_type": "markdown",
   "metadata": {
    "colab_type": "text",
    "id": "LWPa_w1u90K1"
   },
   "source": [
    "# **Create an Array**"
   ]
  },
  {
   "cell_type": "code",
   "execution_count": null,
   "metadata": {
    "colab": {},
    "colab_type": "code",
    "id": "JleIKOu1PH1O"
   },
   "outputs": [],
   "source": [
    "#Create an array of 2 row and 3 columns\n",
    "a = np.array([[1, 2, 3],[2,4,6]])   \n",
    "print(type(a))           \n",
    "print(a.shape)            \n"
   ]
  },
  {
   "cell_type": "markdown",
   "metadata": {
    "colab_type": "text",
    "id": "Wp3xqJzxAobK"
   },
   "source": [
    "**Print an array**"
   ]
  },
  {
   "cell_type": "code",
   "execution_count": null,
   "metadata": {
    "colab": {},
    "colab_type": "code",
    "id": "cjOy4Us09r_3"
   },
   "outputs": [],
   "source": [
    "print(a)  "
   ]
  },
  {
   "cell_type": "markdown",
   "metadata": {
    "colab_type": "text",
    "id": "rAYt4lilAsJU"
   },
   "source": [
    "**Change a value in an array**<br>\n",
    "There are two ways to access a value in a Numpy array<br>\n",
    ">array_name[row number, column number]<br>\n",
    ">array_name[row number][colu,mn number]"
   ]
  },
  {
   "cell_type": "code",
   "execution_count": null,
   "metadata": {
    "colab": {},
    "colab_type": "code",
    "id": "7qnDiYNNABcQ"
   },
   "outputs": [],
   "source": [
    "#Change the value at location (0,0)\n",
    "a[0][0] = 5                  \n",
    "print(a)     \n",
    "print(\"\")\n",
    "#Change the value at location (1,1)\n",
    "a[1,1] = 44\n",
    "print(a)"
   ]
  },
  {
   "cell_type": "markdown",
   "metadata": {
    "colab_type": "text",
    "id": "BrYYEDl3BQLj"
   },
   "source": [
    "\n",
    "1. Create a 4x4 Numpy array<br>\n",
    "2. Print the values at (0,0)(1,1)(2,2)(3,3)\n"
   ]
  },
  {
   "cell_type": "code",
   "execution_count": 11,
   "metadata": {
    "colab": {},
    "colab_type": "code",
    "id": "KEH4AQOpAMNi"
   },
   "outputs": [
    {
     "name": "stdout",
     "output_type": "stream",
     "text": [
      "1 6 11 16\n"
     ]
    }
   ],
   "source": [
    "a = np.array([[1,2,3,4],[5,6,7,8],[9,10,11,12], [13,14,15,16]])\n",
    "\n",
    "print(a[0,0], a[1][1],a[2,2], a[3][3])"
   ]
  },
  {
   "cell_type": "markdown",
   "metadata": {
    "colab_type": "text",
    "id": "8YYL6KLICGxr"
   },
   "source": [
    "# **Create Filled Arrays**\n",
    "Numpy allows you to create arrays filled with zeros, ones, a specific number, an identity matrix, and an array filled with random numbers."
   ]
  },
  {
   "cell_type": "markdown",
   "metadata": {
    "colab_type": "text",
    "id": "fr723zJPCiA4"
   },
   "source": [
    "**An array of all zeros**<br>\n",
    "np.zeros((number of rows, number of columns))"
   ]
  },
  {
   "cell_type": "code",
   "execution_count": null,
   "metadata": {
    "colab": {},
    "colab_type": "code",
    "id": "MWMJWj6SPYHz"
   },
   "outputs": [],
   "source": [
    "a = np.zeros((7,9))   \n",
    "print(a)              "
   ]
  },
  {
   "cell_type": "markdown",
   "metadata": {
    "colab_type": "text",
    "id": "cyXOmqZSCzbg"
   },
   "source": [
    "**An array of all ones**<br>\n",
    "np.ones((number of rows, number of columns))"
   ]
  },
  {
   "cell_type": "code",
   "execution_count": null,
   "metadata": {
    "colab": {},
    "colab_type": "code",
    "id": "I8yckXesCtPo"
   },
   "outputs": [],
   "source": [
    "b = np.ones((5,4))    \n",
    "print(b)              \n"
   ]
  },
  {
   "cell_type": "markdown",
   "metadata": {
    "colab_type": "text",
    "id": "1pDidx27C9Hj"
   },
   "source": [
    "Arrays of: <br>\n",
    ">A specific number<br>\n",
    ">>np.full((no. of rows, no of col), number for filling)<br>\n",
    "<br>\n",
    "\n",
    ">An identity matrix<br>\n",
    ">>np.eye(matrix dimension)<br>\n",
    "<br>\n",
    "\n",
    ">An index filled with random numbers\n",
    ">>np.random.random((no. of rows, no of col))\n"
   ]
  },
  {
   "cell_type": "markdown",
   "metadata": {
    "colab_type": "text",
    "id": "zwJ1qDFyECnU"
   },
   "source": [
    "Create and print the following arrays<br>\n",
    "1. A 12x10 array filled with the number 45.333<br>\n",
    "2. A 25x25 identity matrix<br>\n",
    "3. A 12x30 array filled with random numbers"
   ]
  },
  {
   "cell_type": "code",
   "execution_count": null,
   "metadata": {
    "colab": {},
    "colab_type": "code",
    "id": "Ai8a7LZ1C9on"
   },
   "outputs": [],
   "source": [
    "print(np.full((12,10), 45.33))\n",
    "\n",
    "print(np.eye(25))\n",
    "\n",
    "print(np.random.random((12,30)))"
   ]
  },
  {
   "cell_type": "markdown",
   "metadata": {
    "colab_type": "text",
    "id": "oYqvYl6zEm9x"
   },
   "source": [
    "# **Slice an Array**\n",
    "Numpy arrays can be sliced into smaller arrays of different sizes. "
   ]
  },
  {
   "cell_type": "code",
   "execution_count": null,
   "metadata": {
    "colab": {},
    "colab_type": "code",
    "id": "eVA3DXHCPz3l"
   },
   "outputs": [],
   "source": [
    "#Slicing an array\n",
    "\n",
    "#Create an array of the following size and values\n",
    "# [[ 1  2  3  4]\n",
    "#  [ 5  6  7  8]\n",
    "#  [ 9 10 11 12]\n",
    "#  [13 14 15 16]]\n",
    "a = np.array([[1,2,3,4], [5,6,7,8], [9,10,11,12], [13,14,15,16]])\n",
    "print(a)\n"
   ]
  },
  {
   "cell_type": "markdown",
   "metadata": {
    "colab_type": "text",
    "id": "tRzQqZaOGN9h"
   },
   "source": [
    "**Slice the array**<br>\n",
    "Slice an array using: \n",
    "new_array = original_array[first row:last row, first col, last col]"
   ]
  },
  {
   "cell_type": "code",
   "execution_count": null,
   "metadata": {
    "colab": {},
    "colab_type": "code",
    "id": "7iWWIe-RF3Du"
   },
   "outputs": [],
   "source": [
    "#Create a new array from the center four values\n",
    "#[[6   7]\n",
    "# [10 11]]\n",
    "\n",
    "b = a[1:3, 1:3]\n",
    "print(b)"
   ]
  },
  {
   "cell_type": "markdown",
   "metadata": {
    "colab_type": "text",
    "id": "dV--1z87G45k"
   },
   "source": [
    "**Sliced arrays are changed when the new array or the original array are changed**"
   ]
  },
  {
   "cell_type": "code",
   "execution_count": null,
   "metadata": {
    "colab": {},
    "colab_type": "code",
    "id": "by7vJEH2G9q5"
   },
   "outputs": [],
   "source": [
    "print(a)\n",
    "print(\"\")\n",
    "\n",
    "#Change a value in the new array\n",
    "b[0,0] = -22\n",
    "\n",
    "#Notice -- the value in b was changed. \n",
    "#And the value in a was also changed\n",
    "print(a)"
   ]
  },
  {
   "cell_type": "code",
   "execution_count": null,
   "metadata": {
    "colab": {},
    "colab_type": "code",
    "id": "WgyV-mnuHxSL"
   },
   "outputs": [],
   "source": [
    "print(b)\n",
    "print(\"\")\n",
    "\n",
    "#Change a value in the new array\n",
    "a[1,1] = -8888\n",
    "\n",
    "#Notice -- the value in a was changed. \n",
    "#And the value in b was also changed\n",
    "print(b)"
   ]
  },
  {
   "cell_type": "markdown",
   "metadata": {
    "colab_type": "text",
    "id": "-EA4-TPpOqrB"
   },
   "source": [
    "1. Create the following array: \n",
    ">[2,6,9,12]<br>\n",
    ">[5,1,1,8]<br>\n",
    ">[7,7,5,9]<br>\n",
    ">[8,9,5,2]<br>\n",
    "\n",
    "2.Slice the array into two (non-overlapping) 4x2 arrays<br>\n",
    "3.Change 5 values in the original array. <br>\n",
    "4.Print the two new arrays, check that the values have changed. <br>\n"
   ]
  },
  {
   "cell_type": "code",
   "execution_count": 12,
   "metadata": {
    "colab": {},
    "colab_type": "code",
    "id": "exrSemIVGup-"
   },
   "outputs": [
    {
     "name": "stdout",
     "output_type": "stream",
     "text": [
      "[[ 2  6  9 12]\n",
      " [ 5  1  1  8]\n",
      " [ 7  7  5  9]\n",
      " [ 8  9  5  2]]\n",
      "[[2 6]\n",
      " [5 1]]\n",
      "[[5 9]\n",
      " [5 2]]\n",
      "[[ 2  6  9 12]\n",
      " [60  1  1  8]\n",
      " [ 7  7  5  9]\n",
      " [ 8  9  5  2]]\n",
      "[[ 2  6]\n",
      " [60  1]]\n",
      "[[5 9]\n",
      " [5 2]]\n"
     ]
    }
   ],
   "source": [
    "\n",
    "\n",
    "a = np.array([[2,6,9,12], [5,1,1,8], [7,7,5,9], [8,9,5,2]])\n",
    "print(a)\n",
    "b = a[0:2, 0:2]\n",
    "print(b)\n",
    "c = a[2:4,2 :4]\n",
    "print(c)\n",
    "\n",
    "a[1,0] = 60\n",
    "print(a)\n",
    "print(b)\n",
    "print(c)"
   ]
  },
  {
   "cell_type": "markdown",
   "metadata": {
    "colab_type": "text",
    "id": "MFoq3lv4er8g"
   },
   "source": [
    "# **Reshaping Arrays**\n",
    "\n",
    "Numpy has a built in function that allows the user to reshape arrays. <br>\n",
    ">array-name.reshape(number of rows, number of col)<br>\n",
    "<br>\n",
    "The new shape has to have the same number of elements as the old shape. \n",
    "<br>\n",
    "For example:<br>\n",
    "If the array has a shape of 3x4 (12 elements) it can be reshaped to:<br>\n",
    ">12x1<br>\n",
    ">1x12<br>\n",
    ">2x6<br>\n",
    ">6x2<br>\n",
    ">4x3<br>"
   ]
  },
  {
   "cell_type": "code",
   "execution_count": null,
   "metadata": {
    "colab": {},
    "colab_type": "code",
    "id": "NIIcZjM-fCxj"
   },
   "outputs": [],
   "source": [
    "#Reshape an array\n",
    "#Step 1: create an array\n",
    "#Use arange to create an array of evenly\n",
    "#spaced integers from 0 - 23\n",
    "a = np.arange(24)\n",
    "print(a)\n",
    "#The shape of this array is a vector\n",
    "print(a.shape)\n",
    "#Step 2: change the shape of array a\n",
    "a.reshape(8,3)"
   ]
  },
  {
   "cell_type": "markdown",
   "metadata": {
    "colab_type": "text",
    "id": "Rnv8gvmGgUa-"
   },
   "source": [
    "\n",
    "1. Create an array that has 32 elements. \n",
    "2. Reshape it into: \n",
    "> an array 8x4<br>\n",
    ">an array 2x16<br>\n"
   ]
  },
  {
   "cell_type": "code",
   "execution_count": 13,
   "metadata": {
    "colab": {},
    "colab_type": "code",
    "id": "SHVpRqyQgqFt"
   },
   "outputs": [
    {
     "name": "stdout",
     "output_type": "stream",
     "text": [
      "[ 0  1  2  3  4  5  6  7  8  9 10 11 12 13 14 15 16 17 18 19 20 21 22 23\n",
      " 24 25 26 27 28 29 30 31]\n",
      "(32,)\n",
      "[[ 0  1  2  3]\n",
      " [ 4  5  6  7]\n",
      " [ 8  9 10 11]\n",
      " [12 13 14 15]\n",
      " [16 17 18 19]\n",
      " [20 21 22 23]\n",
      " [24 25 26 27]\n",
      " [28 29 30 31]]\n",
      "[[ 0  1  2  3  4  5  6  7  8  9 10 11 12 13 14 15]\n",
      " [16 17 18 19 20 21 22 23 24 25 26 27 28 29 30 31]]\n"
     ]
    }
   ],
   "source": [
    "\n",
    "a = np.arange(32)\n",
    "print(a)\n",
    "print(a.shape)\n",
    "print(a.reshape(8,4))\n",
    "print(a.reshape(2,16))"
   ]
  },
  {
   "cell_type": "markdown",
   "metadata": {
    "colab_type": "text",
    "id": "Edbt4uPAgw_6"
   },
   "source": [
    "**Reshape an array into three or more dimensions**\n",
    "Numpy arrays can also be reshaped into multiple dimensions. \n",
    "Use the form:<br>\n",
    ">array-name.reshape(dimension 1, no. of rows, no. of cols)<br>\n",
    "\n",
    "The criteria about the number of elements must still be obeyed. \n"
   ]
  },
  {
   "cell_type": "markdown",
   "metadata": {
    "colab_type": "text",
    "id": "vJYDLK47isUJ"
   },
   "source": [
    "\n",
    "1. Create an array of 72 elements\n",
    "2. Reshape the array into 12x3x2 "
   ]
  },
  {
   "cell_type": "code",
   "execution_count": 14,
   "metadata": {
    "colab": {},
    "colab_type": "code",
    "id": "uOGcwV-vhhUZ"
   },
   "outputs": [
    {
     "name": "stdout",
     "output_type": "stream",
     "text": [
      "[[[ 0  1]\n",
      "  [ 2  3]\n",
      "  [ 4  5]]\n",
      "\n",
      " [[ 6  7]\n",
      "  [ 8  9]\n",
      "  [10 11]]\n",
      "\n",
      " [[12 13]\n",
      "  [14 15]\n",
      "  [16 17]]\n",
      "\n",
      " [[18 19]\n",
      "  [20 21]\n",
      "  [22 23]]\n",
      "\n",
      " [[24 25]\n",
      "  [26 27]\n",
      "  [28 29]]\n",
      "\n",
      " [[30 31]\n",
      "  [32 33]\n",
      "  [34 35]]\n",
      "\n",
      " [[36 37]\n",
      "  [38 39]\n",
      "  [40 41]]\n",
      "\n",
      " [[42 43]\n",
      "  [44 45]\n",
      "  [46 47]]\n",
      "\n",
      " [[48 49]\n",
      "  [50 51]\n",
      "  [52 53]]\n",
      "\n",
      " [[54 55]\n",
      "  [56 57]\n",
      "  [58 59]]\n",
      "\n",
      " [[60 61]\n",
      "  [62 63]\n",
      "  [64 65]]\n",
      "\n",
      " [[66 67]\n",
      "  [68 69]\n",
      "  [70 71]]]\n"
     ]
    }
   ],
   "source": [
    "\n",
    "a = np.arange(72)\n",
    "print(a.reshape(12, 3, 2))\n"
   ]
  },
  {
   "cell_type": "markdown",
   "metadata": {
    "colab_type": "text",
    "id": "EputPeeZ8YrZ"
   },
   "source": [
    "# **Creating an Array from Data in a File**\n",
    "Numpy allows the user to create arrays from the contents of a file. \n"
   ]
  },
  {
   "cell_type": "markdown",
   "metadata": {
    "colab_type": "text",
    "id": "hiMM8pI2HC_w"
   },
   "source": [
    "Step 1: Check the access and pathname for the file to be read"
   ]
  },
  {
   "cell_type": "markdown",
   "metadata": {
    "colab_type": "text",
    "id": "qEQPH1wVHN0o"
   },
   "source": [
    "# **Import genfromtxt**\n",
    "Use genfromtxt to generate the array from the text file. \n",
    "<br>\n",
    "When reading in data from files, you need to specify the data type. Usually Numpy arrays are used for numbers. <br>\n",
    "<br>\n",
    "For the chord-progressions.csv file, there is integer data and string data. <br>\n",
    "To read it into a Numpy array, you must specify the datatype for each column. <br>\n",
    "i1 = integer<br>\n",
    "S20 = string<br>\n",
    "skip_header will ignore the header row <br> "
   ]
  },
  {
   "cell_type": "code",
   "execution_count": 2,
   "metadata": {
    "colab": {},
    "colab_type": "code",
    "id": "nl6E78Xb9OtV"
   },
   "outputs": [],
   "source": [
    "from numpy import genfromtxt\n",
    "chords = genfromtxt(\"chordProgression.csv\",  \n",
    "                    delimiter=',',skip_header=1, dtype=[('1st chord','i1'),('2nd chord','i1') , ('3rd chord','i1'),\n",
    "                                          ('4th chord','i1'), ('Progression Quality', 'S20')])"
   ]
  },
  {
   "cell_type": "code",
   "execution_count": 3,
   "metadata": {
    "colab": {},
    "colab_type": "code",
    "id": "IdxSlpewHdWP"
   },
   "outputs": [
    {
     "name": "stdout",
     "output_type": "stream",
     "text": [
      "[(6, 4, 1, 5, b'Alternative') (4, 4, 1, 5, b'Catchy')\n",
      " (1, 1, 1, 1, b'Didgeridoo') (1, 6, 4, 5, b'Dreadful')\n",
      " (1, 6, 2, 5, b'Dreadful') (1, 6, 2, 4, b'Endless')\n",
      " (1, 3, 4, 6, b'Energetic') (1, 5, 1, 4, b'Folk') (1, 6, 1, 4, b'Folk')\n",
      " (6, 5, 4, 3, b'Flamenco') (6, 5, 6, 5, b'Flamenco')\n",
      " (1, 4, 3, 6, b'Grunge') (2, 5, 1, 6, b'Jazz') (1, 4, 5, 4, b'Love')\n",
      " (1, 4, 1, 5, b'Memories') (1, 5, 6, 4, b'Pop') (1, 6, 3, 7, b'Pop')\n",
      " (4, 1, 4, 5, b'Rebellious') (1, 4, 5, 5, b'Sad') (1, 5, 4, 4, b'Sad')\n",
      " (1, 4, 5, 4, b'Sad') (5, 4, 1, 1, b'Sweet') (1, 4, 1, 4, b'Simple')\n",
      " (1, 5, 5, 1, b'Simple') (1, 4, 1, 4, b'Wildside')\n",
      " (1, 1, 4, 6, b'Wistful') (2, 1, 5, 7, b'Moody') (2, 1, 7, 6, b'Moody')]\n"
     ]
    }
   ],
   "source": [
    "print(chords)"
   ]
  },
  {
   "cell_type": "code",
   "execution_count": 4,
   "metadata": {
    "colab": {},
    "colab_type": "code",
    "id": "_-zAKKcmIq5E"
   },
   "outputs": [
    {
     "name": "stdout",
     "output_type": "stream",
     "text": [
      "(28,)\n",
      "[[(6, 4, 1, 5, b'Alternative')]\n",
      " [(4, 4, 1, 5, b'Catchy')]\n",
      " [(1, 1, 1, 1, b'Didgeridoo')]\n",
      " [(1, 6, 4, 5, b'Dreadful')]\n",
      " [(1, 6, 2, 5, b'Dreadful')]\n",
      " [(1, 6, 2, 4, b'Endless')]\n",
      " [(1, 3, 4, 6, b'Energetic')]\n",
      " [(1, 5, 1, 4, b'Folk')]\n",
      " [(1, 6, 1, 4, b'Folk')]\n",
      " [(6, 5, 4, 3, b'Flamenco')]\n",
      " [(6, 5, 6, 5, b'Flamenco')]\n",
      " [(1, 4, 3, 6, b'Grunge')]\n",
      " [(2, 5, 1, 6, b'Jazz')]\n",
      " [(1, 4, 5, 4, b'Love')]\n",
      " [(1, 4, 1, 5, b'Memories')]\n",
      " [(1, 5, 6, 4, b'Pop')]\n",
      " [(1, 6, 3, 7, b'Pop')]\n",
      " [(4, 1, 4, 5, b'Rebellious')]\n",
      " [(1, 4, 5, 5, b'Sad')]\n",
      " [(1, 5, 4, 4, b'Sad')]\n",
      " [(1, 4, 5, 4, b'Sad')]\n",
      " [(5, 4, 1, 1, b'Sweet')]\n",
      " [(1, 4, 1, 4, b'Simple')]\n",
      " [(1, 5, 5, 1, b'Simple')]\n",
      " [(1, 4, 1, 4, b'Wildside')]\n",
      " [(1, 1, 4, 6, b'Wistful')]\n",
      " [(2, 1, 5, 7, b'Moody')]\n",
      " [(2, 1, 7, 6, b'Moody')]]\n"
     ]
    }
   ],
   "source": [
    "print(chords.shape)\n",
    "cReshape = chords.reshape(28,1)\n",
    "print(cReshape)"
   ]
  },
  {
   "cell_type": "markdown",
   "metadata": {
    "colab_type": "text",
    "id": "0ASN-roijOBN"
   },
   "source": [
    "\n",
    "1. Read the file /content/cloned-repo/airtravel.csv\n",
    "2. Ignore the header row\n",
    "3. Create a Numpy array with the data\n",
    "4. Convert the months to numbers (JAN = 1,FEB=2, ...Dec=12)\n",
    "\n",
    "Hint:<br><br>\n",
    "Make sure you understand what value is stored in the array|<br>\n",
    "print(\"airtravel[0][0] = \",airtravel[0][0])\n",
    "\n",
    "\n",
    "[numpy.genfromtxt](https://docs.scipy.org/doc/numpy/reference/generated/numpy.genfromtxt.html)\n"
   ]
  },
  {
   "cell_type": "code",
   "execution_count": 5,
   "metadata": {
    "colab": {},
    "colab_type": "code",
    "id": "L9yysq11-gtB"
   },
   "outputs": [
    {
     "name": "stdout",
     "output_type": "stream",
     "text": [
      "[(b'JAN', 340, 360, 417) (b'FEB', 318, 342, 391) (b'MAR', 362, 406, 419)\n",
      " (b'APR', 348, 396, 461) (b'MAY', 363, 420, 472) (b'JUN', 435, 472, 535)\n",
      " (b'JUL', 491, 548, 622) (b'AUG', 505, 559, 606) (b'SEP', 404, 463, 508)\n",
      " (b'OCT', 359, 407, 461) (b'NOV', 310, 362, 390) (b'DEC', 337, 405, 432)]\n",
      "[[(b'JAN', 340, 360, 417) (b'FEB', 318, 342, 391) (b'MAR', 362, 406, 419)\n",
      "  (b'APR', 348, 396, 461) (b'MAY', 363, 420, 472) (b'JUN', 435, 472, 535)\n",
      "  (b'JUL', 491, 548, 622) (b'AUG', 505, 559, 606) (b'SEP', 404, 463, 508)\n",
      "  (b'OCT', 359, 407, 461) (b'NOV', 310, 362, 390) (b'DEC', 337, 405, 432)]]\n",
      "b'JAN'\n",
      "[[(b'1', 340, 360, 417) (b'2', 318, 342, 391) (b'3', 362, 406, 419)\n",
      "  (b'4', 348, 396, 461) (b'5', 363, 420, 472) (b'6', 435, 472, 535)\n",
      "  (b'7', 491, 548, 622) (b'8', 505, 559, 606) (b'9', 404, 463, 508)\n",
      "  (b'10', 359, 407, 461) (b'11', 310, 362, 390) (b'12', 337, 405, 432)]]\n"
     ]
    }
   ],
   "source": [
    "\n",
    "travels = genfromtxt(\"airtravel.csv\",  \n",
    "                    delimiter=',',skip_header=1, dtype=[('Month','S20'),('1958','i4') , ('1959','i4'), ('1960','i4')])\n",
    "print(travels)\n",
    "rstravels = travels.reshape(1,12)\n",
    "print(rstravels)\n",
    "print(rstravels[0][0][0])\n",
    "for i in range(rstravels.size):\n",
    "  rstravels[0][i][0] = i+1\n",
    "print(rstravels)"
   ]
  },
  {
   "cell_type": "markdown",
   "metadata": {
    "colab_type": "text",
    "id": "QxVNqaYREv7g"
   },
   "source": [
    "# **Airthmetic Operations**\n",
    "Numpy can perform arithmetic operations on arrays very easily. \n",
    "The form for artihmetic operations is: <br>\n",
    ">np.operation(array1, array2)<br>\n",
    "\n",
    "The available operations are: <br>\n",
    ">add<br>\n",
    ">subtract<br>\n",
    ">multiply<br>\n",
    ">divide<br>\n"
   ]
  },
  {
   "cell_type": "code",
   "execution_count": 8,
   "metadata": {
    "colab": {},
    "colab_type": "code",
    "id": "SEzDC1rXGWJF"
   },
   "outputs": [
    {
     "name": "stdout",
     "output_type": "stream",
     "text": [
      "Array1 = \n",
      " [[0 1 2]\n",
      " [3 4 5]\n",
      " [6 7 8]]\n",
      "Array2 = \n",
      " [[ 4  5  6]\n",
      " [ 7  8  9]\n",
      " [10 11 12]]\n"
     ]
    }
   ],
   "source": [
    "#Arithmetic Operations\n",
    "array1 = np.arange(9).reshape(3,3)\n",
    "print(\"Array1 = \\n\", array1)\n",
    "\n",
    "array2 = np.arange(4,13).reshape(3,3)\n",
    "print(\"Array2 = \\n\", array2)"
   ]
  },
  {
   "cell_type": "code",
   "execution_count": 9,
   "metadata": {
    "colab": {},
    "colab_type": "code",
    "id": "h0J_E2lxG5ij"
   },
   "outputs": [
    {
     "name": "stdout",
     "output_type": "stream",
     "text": [
      "[[ 4  6  8]\n",
      " [10 12 14]\n",
      " [16 18 20]]\n"
     ]
    }
   ],
   "source": [
    "sum = np.add(array1, array2)\n",
    "print(sum)"
   ]
  },
  {
   "cell_type": "markdown",
   "metadata": {
    "colab_type": "text",
    "id": "RgIkzmE4HDxk"
   },
   "source": [
    "\n",
    "1. Create two 5x5 arrays\n",
    "2. Multiply them, \n",
    "3. Subract one from the other\n",
    "4. Divide one into the other. \n"
   ]
  },
  {
   "cell_type": "code",
   "execution_count": null,
   "metadata": {
    "colab": {},
    "colab_type": "code",
    "id": "T6xkCiQgHYuK"
   },
   "outputs": [],
   "source": [
    "\n",
    "a = np.arange(25).reshape(5,5)\n",
    "b = np.arange(25,50).reshape(5,5)\n",
    "print(np.multiply(a,b))\n",
    "print(np.subtract(a,b))\n",
    "print(np.divide(a,b))\n"
   ]
  },
  {
   "cell_type": "markdown",
   "metadata": {
    "colab_type": "text",
    "id": "j9oXtUe3IWWl"
   },
   "source": [
    "**Dot Product**<br>\n",
    ">a · b = ax × bx + ay × by<br>\n",
    "\n",
    "For more than two dimensions....<br>\n",
    ">a · b = ax × bx + ay × by + az × bz<br>"
   ]
  },
  {
   "cell_type": "code",
   "execution_count": null,
   "metadata": {
    "colab": {},
    "colab_type": "code",
    "id": "jFTEFoicIWmR"
   },
   "outputs": [],
   "source": [
    "v = np.array([9,10])\n",
    "w = np.array([11, 12])\n",
    "print(v)\n",
    "print(w)\n",
    "# Inner product of vectors; both produce 219\n",
    "print(v.dot(w))\n",
    "print(np.dot(v, w))"
   ]
  },
  {
   "cell_type": "markdown",
   "metadata": {
    "colab_type": "text",
    "id": "add4G-VOKnwW"
   },
   "source": [
    "If you are interested in learning more about linear algebra functions, check out this link<br>\n",
    "https://docs.scipy.org/doc/numpy/reference/routines.linalg.html\n"
   ]
  },
  {
   "cell_type": "markdown",
   "metadata": {
    "colab_type": "text",
    "id": "5YLxJ0EzJ-aQ"
   },
   "source": [
    "Find the dot product of:<br>\n",
    "[22,33,44] [11,22,33]"
   ]
  },
  {
   "cell_type": "code",
   "execution_count": null,
   "metadata": {
    "colab": {},
    "colab_type": "code",
    "id": "sWdQxUkUJ4P8"
   },
   "outputs": [],
   "source": [
    "v = np.array([22,33,44])\n",
    "w = np.array([11,22,33])\n",
    "print(v.dot(w))\n",
    "print(np.dot(v,w))"
   ]
  },
  {
   "cell_type": "markdown",
   "metadata": {
    "colab_type": "text",
    "id": "fvvNxyK1HrXl"
   },
   "source": [
    "# **Sorting Arrays**\n",
    "\n",
    "Numpy has a built-in sort function. <br>\n",
    "It has the form: \n",
    ">np.sort(array name)\n"
   ]
  },
  {
   "cell_type": "code",
   "execution_count": null,
   "metadata": {
    "colab": {},
    "colab_type": "code",
    "id": "8Qaj2IpVIZpy"
   },
   "outputs": [],
   "source": [
    "#Sorting arrays\n",
    "array1 = np.array([[6,3,1,2], [9,11,6,5], [6,4,7,0]])\n",
    "print(array1)"
   ]
  },
  {
   "cell_type": "code",
   "execution_count": null,
   "metadata": {
    "colab": {},
    "colab_type": "code",
    "id": "r28_Q9bqI2zs"
   },
   "outputs": [],
   "source": [
    "#Sort the columns\n",
    "array_sorted = np.sort(array1, axis=0)\n",
    "print(array_sorted)"
   ]
  },
  {
   "cell_type": "code",
   "execution_count": null,
   "metadata": {
    "colab": {},
    "colab_type": "code",
    "id": "K7uNgjpKJvV6"
   },
   "outputs": [],
   "source": [
    "#Sort the rows\n",
    "array_sorted = np.sort(array1, axis=1)\n",
    "print(array_sorted)"
   ]
  },
  {
   "cell_type": "markdown",
   "metadata": {
    "colab_type": "text",
    "id": "I96A8sTEJ1sT"
   },
   "source": [
    "\n",
    "1. Create an array with the following values: <br>\n",
    ">[4,8,1,0,99]\n",
    ">[1,22,0,76,43]\n",
    ">[7,7,90,54,3]\n",
    "\n",
    "2. Sort it along the x axis\n",
    "3. Sort it along the y axis\n"
   ]
  },
  {
   "cell_type": "code",
   "execution_count": 10,
   "metadata": {
    "colab": {},
    "colab_type": "code",
    "id": "FvCMekCtKU-U"
   },
   "outputs": [
    {
     "name": "stdout",
     "output_type": "stream",
     "text": [
      "[[ 4  8  1  0 99]\n",
      " [ 1 22  0 76 43]\n",
      " [ 7  7 90 54  3]]\n",
      "[[ 0  1  4  8 99]\n",
      " [ 0  1 22 43 76]\n",
      " [ 3  7  7 54 90]]\n",
      "[[ 1  7  0  0  3]\n",
      " [ 4  8  1 54 43]\n",
      " [ 7 22 90 76 99]]\n"
     ]
    }
   ],
   "source": [
    "\n",
    "a = np.array([[4,8,1,0,99], [1,22,0,76,43], [7,7,90,54,3]])\n",
    "print(a)\n",
    "#x-axis\n",
    "print(np.sort(a, axis=1))\n",
    "#y-axis\n",
    "print(np.sort(a, axis=0))"
   ]
  },
  {
   "cell_type": "markdown",
   "metadata": {
    "colab_type": "text",
    "id": "IZOIPtXnKbd2"
   },
   "source": [
    "**Text in Numy Arrays**\n",
    "Numpy arrays can also sort text \n"
   ]
  },
  {
   "cell_type": "code",
   "execution_count": null,
   "metadata": {
    "colab": {},
    "colab_type": "code",
    "id": "Gs4d6EI3KpyW"
   },
   "outputs": [],
   "source": [
    "array1 = np.array([['w','c'], ['z','f']])\n",
    "print(array1)\n",
    "print(np.sort(array1,axis=1))"
   ]
  },
  {
   "cell_type": "markdown",
   "metadata": {
    "colab_type": "text",
    "id": "50XyWat3LXGe"
   },
   "source": [
    "\n",
    "1. Create an array with the following values: \n",
    ">['dog','fish','cat']<br>\n",
    "['zebra', 'mouse', 'ox']<br>\n",
    "\n",
    "2. Sort on the x-axis \n",
    "3. Sort on the y-axis\n"
   ]
  },
  {
   "cell_type": "code",
   "execution_count": null,
   "metadata": {
    "colab": {},
    "colab_type": "code",
    "id": "ZlreKmuL9yob"
   },
   "outputs": [],
   "source": [
    "a = np.array([['dog','fish','cat'],['zebra', 'mouse', 'ox']])\n",
    "print(a)\n",
    "print(np.sort(a, axis=1))\n",
    "print(np.sort(a, axis=0))"
   ]
  },
  {
   "cell_type": "markdown",
   "metadata": {
    "colab_type": "text",
    "id": "rVMMGeBhL7Ud"
   },
   "source": [
    "**Sort an array based on a parameter**<br>\n",
    "A Numpy array can be created with parameter names and types identified. <br>\n",
    "Then the array can be sorted based on the parameter name. <br>\n",
    "<br>\n",
    "Step 1: Create an array with parameter names and types \n",
    "Step 2: Sort the array with the form:<br>\n",
    ">np.sort(array name, order = 'parameter name')\n"
   ]
  },
  {
   "cell_type": "code",
   "execution_count": null,
   "metadata": {
    "colab": {},
    "colab_type": "code",
    "id": "eUjBs9ENK_oc"
   },
   "outputs": [],
   "source": [
    "#Sorting arrays by parameter name\n",
    "#Step 1: create the array with parameter names and types\n",
    "dt = np.dtype([('name', 'S10'), ('zipcode', int)])\n",
    "array1 = np.array([('Joe', 95120), ('Mark', 95122), ('Sue', 90210)], dtype=dt)\n",
    "print(array1)\n",
    "\n",
    "#The b in the output is for bytestrings"
   ]
  },
  {
   "cell_type": "code",
   "execution_count": null,
   "metadata": {
    "colab": {},
    "colab_type": "code",
    "id": "MVR0VYMKOJpG"
   },
   "outputs": [],
   "source": [
    "#Step 2: Sort the array by zipcode\n",
    "print(np.sort(array1, order='zipcode'))\n",
    "print(np.sort(array1, order='name'))"
   ]
  },
  {
   "cell_type": "markdown",
   "metadata": {
    "colab_type": "text",
    "id": "WzOP5wKhOyt-"
   },
   "source": [
    "\n",
    "1. Create an array of 10 students with the following information\n",
    ">Student name, student ID, student major, student GPA<br>\n",
    "For example: <br>\n",
    "> >'Bill', 453221, 'CompSci', 2.3\n",
    "\n",
    "2. Sort the array by each of the features (name, ID, major, GPA)\n"
   ]
  },
  {
   "cell_type": "code",
   "execution_count": null,
   "metadata": {
    "colab": {},
    "colab_type": "code",
    "id": "F4nBSsU02tjQ"
   },
   "outputs": [],
   "source": [
    "dt = np.dtype([('Name', 'S20'),('ID', int),('Major', 'S20'), ('GPA', float)])\n",
    "a1 = np.array([('AAA',9001, 'Computers', 50),('cc',9010, 'Maths', 20),('BB',9003, 'Science', 90),('DDD',9002, 'English', 30)], dtype=dt)\n",
    "print(a1)\n",
    "print(np.sort(a1, order=\"Name\"))\n",
    "print(np.sort(a1, order=\"ID\"))\n",
    "print(np.sort(a1, order=\"Major\"))\n",
    "print(np.sort(a1, order=\"GPA\"))"
   ]
  }
 ],
 "metadata": {
  "colab": {
   "collapsed_sections": [],
   "include_colab_link": true,
   "name": "C1 Numpy.ipynb",
   "private_outputs": true,
   "provenance": []
  },
  "kernelspec": {
   "display_name": "Python 3",
   "language": "python",
   "name": "python3"
  },
  "language_info": {
   "codemirror_mode": {
    "name": "ipython",
    "version": 3
   },
   "file_extension": ".py",
   "mimetype": "text/x-python",
   "name": "python",
   "nbconvert_exporter": "python",
   "pygments_lexer": "ipython3",
   "version": "3.8.3"
  }
 },
 "nbformat": 4,
 "nbformat_minor": 4
}
